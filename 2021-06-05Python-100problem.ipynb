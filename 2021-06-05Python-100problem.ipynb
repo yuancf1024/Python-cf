{
 "metadata": {
  "language_info": {
   "codemirror_mode": {
    "name": "ipython",
    "version": 3
   },
   "file_extension": ".py",
   "mimetype": "text/x-python",
   "name": "python",
   "nbconvert_exporter": "python",
   "pygments_lexer": "ipython3",
   "version": 3
  },
  "orig_nbformat": 2
 },
 "nbformat": 4,
 "nbformat_minor": 2,
 "cells": [
  {
   "cell_type": "code",
   "execution_count": null,
   "metadata": {},
   "outputs": [],
   "source": [
    "#!/usr/bin/env python\n",
    "# -*- encoding: utf-8 -*-\n",
    "'''\n",
    "@File    :   2021-06-05Python-100problem.ipynb\n",
    "@Time    :   2021/06/05 14:17:54\n",
    "@Author  :   Chenfeng Yuan \n",
    "@Address :   Shapingba district, Chongqing, China\n",
    "@Version :   1.0\n",
    "@Contact :   chenfengyuan@cqu.edu.cn\n",
    "@License :   (C)Copyright 2021-2022, Chengroup-CQU-Structural-Wind-Engineering\n",
    "@Desc    :   None\n",
    "@Goal    :  100道Python的练手题目，强化对Python的掌握。\n",
    "@Url    :  https://github.com/RichardFu123/Python100Cases\n",
    "'''\n",
    "\n",
    "# here put the import lib\n"
   ]
  }
 ]
}