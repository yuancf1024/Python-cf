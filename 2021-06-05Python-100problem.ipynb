{
 "metadata": {
  "language_info": {
   "codemirror_mode": {
    "name": "ipython",
    "version": 3
   },
   "file_extension": ".py",
   "mimetype": "text/x-python",
   "name": "python",
   "nbconvert_exporter": "python",
   "pygments_lexer": "ipython3",
   "version": "3.8.3"
  },
  "orig_nbformat": 2,
  "kernelspec": {
   "name": "python383jvsc74a57bd09c91df8a30f2ca0588df6ae5802e19be614d84a80266001c42d6a0fb9a071694",
   "display_name": "Python 3.8.3 64-bit ('base': conda)"
  }
 },
 "nbformat": 4,
 "nbformat_minor": 2,
 "cells": [
  {
   "cell_type": "code",
   "execution_count": null,
   "metadata": {},
   "outputs": [],
   "source": [
    "#!/usr/bin/env python\n",
    "# -*- encoding: utf-8 -*-\n",
    "'''\n",
    "@File    :   2021-06-05Python-100problem.ipynb\n",
    "@Time    :   2021/06/05 14:17:54\n",
    "@Author  :   Chenfeng Yuan \n",
    "@Address :   Shapingba district, Chongqing, China\n",
    "@Version :   1.0\n",
    "@Contact :   chenfengyuan@cqu.edu.cn\n",
    "@License :   (C)Copyright 2021-2022, Chengroup-CQU-Structural-Wind-Engineering\n",
    "@Desc    :   None\n",
    "@Goal    :  100道Python的练手题目，强化对Python的掌握。练习下来对代码能力会有很大的提升，亲测有效。\n",
    "@Url    :  https://github.com/RichardFu123/Python100Cases\n",
    "'''\n",
    "\n",
    "# here put the import lib\n"
   ]
  },
  {
   "source": [
    "## 学习记录\n",
    "\n",
    "2021-06-05 [X] 第1-20个实例 \n",
    "\n",
    "2021-06-10 [X] 第21-26个实例\n",
    "\n",
    "2021-06-18 [] 第27-个实例\n"
   ],
   "cell_type": "markdown",
   "metadata": {}
  },
  {
   "source": [
    "## 实例001：数字组合\n",
    "题目 有四个数字：1、2、3、4，能组成多少个互不相同且无重复数字的三位数？各是多少？\n"
   ],
   "cell_type": "markdown",
   "metadata": {}
  },
  {
   "cell_type": "code",
   "execution_count": null,
   "metadata": {},
   "outputs": [],
   "source": [
    "# **程序分析** 遍历全部可能，把有重复的剃掉。\n",
    "\n",
    "total = 0\n",
    "for i in range(1, 5):\n",
    "    for j in range(1, 5):\n",
    "        for k in range(1, 5):\n",
    "            if ((i != j) and (j != k) and (k != i)):\n",
    "                print(i, j, k)\n",
    "                total += 1\n",
    "print(\"所组成的互不相同且无重复的数字有: {}\".format(total))\n",
    "# print(\"所组成的互不相同且无重复的数字有: %d\",total)"
   ]
  },
  {
   "cell_type": "code",
   "execution_count": null,
   "metadata": {},
   "outputs": [],
   "source": [
    "# 简便方法，用itertools中的排列permutations\n",
    "\n",
    "import itertools\n",
    "sum2 = 0\n",
    "a = [1, 2, 3, 4]\n",
    "for i in itertools.permutations(a, 3):\n",
    "    print(i)\n",
    "    sum2 += 1\n",
    "print(sum2)"
   ]
  },
  {
   "source": [
    "## 实例002：“个税计算”\n",
    "\n",
    "题目 企业发放的奖金根据利润提成。利润(I)低于或等于10万元时，奖金可提10%；利润高于10万元，低于20万元时，低于10万元的部分按10%提成，高于10万元的部分，可提成7.5%；20万到40万之间时，高于20万元的部分，可提成5%；40万到60万之间时高于40万元的部分，可提成3%；60万到100万之间时，高于60万元的部分，可提成1.5%，高于100万元时，超过100万元的部分按1%提成，从键盘输入当月利润I，求应发放奖金总数？"
   ],
   "cell_type": "markdown",
   "metadata": {}
  },
  {
   "cell_type": "code",
   "execution_count": null,
   "metadata": {},
   "outputs": [],
   "source": [
    "# 程序分析：分区间计算即可\n",
    "\n",
    "profit = int(input(\"Show me the money: \"))\n",
    "bonus = 0\n",
    "thresholds = [100000, 100000, 200000, 200000, 400000]\n",
    "rates = [0.1, 0.075, 0.05, 0.03, 0.015, 0.01]\n",
    "for i in range(len(thresholds)):\n",
    "    if profit <= thresholds[i]:\n",
    "        bonus += profit * rates[i]\n",
    "        profit = 0\n",
    "        break\n",
    "    else:\n",
    "        bonus += thresholds[i]*rates[i]\n",
    "        profit -= thresholds[i]\n",
    "bonus += profit * rates[-1]\n",
    "print(bonus)"
   ]
  },
  {
   "source": [
    "## 实例003：完全平方数\n",
    "题目 一个整数，它加上100后是一个完全平方数，再加上168又是一个完全平方数，请问该数是多少？"
   ],
   "cell_type": "markdown",
   "metadata": {}
  },
  {
   "cell_type": "code",
   "execution_count": null,
   "metadata": {},
   "outputs": [],
   "source": [
    "## 程序分析：因为168对于指数爆炸来说实在太小了，所以可以直接省略数学分析，用最朴素的方法来获取上限：\n",
    "\n",
    "n  = 0\n",
    "while (n+1)**2 - n*n <=168:\n",
    "    n += 1\n",
    "\n",
    "print(n+1)"
   ]
  },
  {
   "cell_type": "code",
   "execution_count": null,
   "metadata": {},
   "outputs": [],
   "source": [
    "# 思路：最坏的结果是n的平方与(n+1)的平方刚好差168，由于是平方的关系，不可能存在比这跟大的间隙。\n",
    "# 至于判断是否是完全平方数，最简单的方法是：平方根的值小数为0即可。\n",
    "\n",
    "# 先找到n的上限\n",
    "n = 0\n",
    "while (n+1)**2 - n*n <= 168:\n",
    "    n += 1\n",
    "\n",
    "for i in range((n+1)**2):\n",
    "    if i**0.5 == int(i**0.5) and (i+168)**0.5 == int((i+168)**0.5):\n",
    "        print(i-100)\n"
   ]
  },
  {
   "cell_type": "code",
   "execution_count": null,
   "metadata": {},
   "outputs": [],
   "source": [
    "import math\n",
    "math.sqrt(1681+168)"
   ]
  },
  {
   "source": [
    "## 实例004：这天第几天\n",
    "题目 输入某年某月某日，判断这一天是这一年的第几天？"
   ],
   "cell_type": "markdown",
   "metadata": {}
  },
  {
   "cell_type": "code",
   "execution_count": null,
   "metadata": {},
   "outputs": [],
   "source": [
    "# 程序分析：特殊情况，闰年时需考虑二月多加一天\n",
    "\n",
    "# 四年一闰，百年不闰，四百年再闰\n",
    "def isLeapYear(y):\n",
    "    return (y%400 == 0 or (y%4 == 0 and y%100 != 0))\n",
    "DofM = [0, 31, 28, 31, 30, 31, 30, 31, 31, 30, 31, 30]\n",
    "\n",
    "res = 0\n",
    "year = int(input(\"Year: \"))\n",
    "month = int(input(\"Month: \"))\n",
    "day = int(input(\"Day: \"))\n",
    "\n",
    "if isLeapYear(year):\n",
    "    DofM[2] += 1\n",
    "for i in range(month):\n",
    "    res += DofM[i]\n",
    "print(res+day)"
   ]
  },
  {
   "source": [
    "## 实例005：三数排序\n",
    "题目 输入三个整数x,y,z，请把这三个数由小到大输出。"
   ],
   "cell_type": "markdown",
   "metadata": {}
  },
  {
   "cell_type": "code",
   "execution_count": null,
   "metadata": {},
   "outputs": [],
   "source": [
    "# 程序分析：练练手就随便找个排序算法实现一下，偷懒就直接调用函数。\n",
    "\n",
    "raw = []\n",
    "\n",
    "for i in range(3):\n",
    "    x = int(input(\"int%d: \"%(i)))\n",
    "    raw.append(x)\n",
    "\n",
    "for i in range(len(raw)):\n",
    "    for j in range(i, len(raw)):\n",
    "        if raw[i] > raw[j]:\n",
    "            raw[i], raw[j] = raw[j], raw[i]\n",
    "\n",
    "print(raw)\n",
    "\n",
    "raw2 =[]\n",
    "for i in range(3):\n",
    "    y = int(input(\"int%d:\"%(i)))\n",
    "    raw2.append(y)\n",
    "print(sorted(raw2))"
   ]
  },
  {
   "source": [
    "## 实例006：斐波那契数列\n",
    "题目 斐波那契数列。"
   ],
   "cell_type": "markdown",
   "metadata": {}
  },
  {
   "cell_type": "code",
   "execution_count": null,
   "metadata": {},
   "outputs": [],
   "source": [
    "\n",
    "# 程序分析：斐波那契数列(Fibonacci sequence),从1，1开始，后面的每一项等于前面两项之和。图啥啊？图方便就递归实现，图性能就用循环。\n",
    "\n",
    "# 递归实现\n",
    "def Fib(n):\n",
    "    return 1 if n<= 2 else Fib(n-1) + Fib(n-2)\n",
    "print(Fib(int(input(\"请输入斐波那契数列的项数：\"))))\n",
    "\n",
    "# 朴素循环实现\n",
    "\n",
    "target = int(input(\"请输入斐波那契数列的项数：\"))\n",
    "res = 0\n",
    "a, b = 1, 1\n",
    "for i in range(target-1):\n",
    "    a,b = b, a+b\n",
    "print(a)"
   ]
  },
  {
   "source": [
    "## 实例007：copy\n",
    "题目 将一个列表的数据复制到另一个列表中。"
   ],
   "cell_type": "markdown",
   "metadata": {}
  },
  {
   "cell_type": "code",
   "execution_count": null,
   "metadata": {},
   "outputs": [],
   "source": [
    "# 程序分析：使用列表[:]，拿不准可以调用copy模块。\n",
    "\n",
    "import copy\n",
    "a = [1, 2, 3, 4, ['a', 'b']]\n",
    "\n",
    "b = a # 赋值\n",
    "c = a[:] # 浅拷贝\n",
    "d = copy.copy(a) # 浅拷贝\n",
    "e = copy.deepcopy(a) # 深拷贝\n",
    "\n",
    "a.append(5)\n",
    "a[4].append('c')\n",
    "\n",
    "print(\"a=\", a)\n",
    "print(\"b=\", b)\n",
    "print(\"c=\", c)\n",
    "print(\"d=\", d)\n",
    "print(\"e=\", e)"
   ]
  },
  {
   "source": [
    "## 实例008：九九乘法表\n",
    "题目 输出 9*9 乘法口诀表。"
   ],
   "cell_type": "markdown",
   "metadata": {}
  },
  {
   "cell_type": "code",
   "execution_count": null,
   "metadata": {},
   "outputs": [],
   "source": [
    "# 程序分析：分行与分列考虑，共9行9列，i控制行，j控制列\n",
    "\n",
    "for i in range(1, 10):\n",
    "    for j in range(1, i+1):\n",
    "        print(\"%d*%d=%2ld\"%(i,j,i*j), end=' ') # end=' '意思是末尾不换行，加空格。\n",
    "    print() # 控制每一行换行\n"
   ]
  },
  {
   "source": [
    "实例009：暂停一秒输出\n",
    "\n",
    "题目 暂停一秒输出。"
   ],
   "cell_type": "markdown",
   "metadata": {}
  },
  {
   "cell_type": "code",
   "execution_count": null,
   "metadata": {},
   "outputs": [],
   "source": [
    "# 程序分析：使用time模块的sleep()函数\n",
    "\n",
    "import time\n",
    "\n",
    "for i in range(4):\n",
    "    # print(str(int(time.time()))[-2:])\n",
    "    print(time.time())\n",
    "    time.sleep(1)\n"
   ]
  },
  {
   "source": [
    "## 实例010：给人看的时间\n",
    "\n",
    "题目 暂停一秒输出，并格式化当前时间。"
   ],
   "cell_type": "markdown",
   "metadata": {}
  },
  {
   "cell_type": "code",
   "execution_count": null,
   "metadata": {},
   "outputs": [],
   "source": [
    "import time\n",
    "\n",
    "for i in range(4):\n",
    "    print(time.strftime(\"%Y-%m-%d %H:%M:%S\", time.localtime(time.time())))\n",
    "    print(time.time())\n",
    "    time.sleep(1)"
   ]
  },
  {
   "source": [
    "## 实例011：养兔子\n",
    "\n",
    "题目 有一对兔子，从出生后第3个月起每个月都生一对兔子，小兔子长到第三个月后每个月又生一对兔子，假如兔子都不死，问每个月的兔子总数为多少？"
   ],
   "cell_type": "markdown",
   "metadata": {}
  },
  {
   "cell_type": "code",
   "execution_count": null,
   "metadata": {},
   "outputs": [],
   "source": [
    "\"\"\"\n",
    "程序分析：我认为原文的解法有点扯，没有考虑3个月成熟的问题，人家还是婴儿怎么生孩子？考虑到三个月成熟，可以构建四个数据，其中：一月兔每个月长大成为二月兔，二月兔变三月兔，三月兔变成年兔，成年兔（包括新成熟的三月兔）生等量的一月兔。\n",
    "\"\"\"\n",
    "\n",
    "month = int(input(\"繁殖几个月？：\"))\n",
    "month_1 = 1\n",
    "month_2 = 0\n",
    "month_3 = 0\n",
    "month_elder = 0\n",
    "for i in range(month):\n",
    "    month_1,month_2,month_3,month_elder = month_elder+month_3, month_1, month_2, month_elder+month_3\n",
    "    total = month_1 + month_2 + month_3 + month_elder\n",
    "    print(\"第%d个月共\"%(i+1), total, \"对兔子\")\n",
    "    print(\"其中1月兔: \", month_1)\n",
    "    print(\"其中2月兔: \", month_2)\n",
    "    print(\"其中3月兔: \", month_3)\n",
    "    print(\"其中成年兔: \", month_elder) "
   ]
  },
  {
   "source": [
    "## 实例012：100到200的素数\n",
    "\n",
    "题目 判断101-200之间有多少个素数，并输出所有素数。"
   ],
   "cell_type": "markdown",
   "metadata": {}
  },
  {
   "cell_type": "code",
   "execution_count": null,
   "metadata": {},
   "outputs": [],
   "source": [
    "\"\"\"程序分析 判断素数的方法：用一个数分别去除2到sqrt(这个数)，如果能被整除，则表明此数不是素数，反之是素数。用else可以进一步简化代码.\n",
    "\"\"\"\n",
    "\n",
    "import math\n",
    "for i in range(100, 200):\n",
    "    flag = 0\n",
    "    for j in range(2, round(math.sqrt(i))+1): # round() 方法返回浮点数x的四舍五入值。\n",
    "        if i%j ==0:\n",
    "            flag = 1\n",
    "            break\n",
    "    if flag:\n",
    "        continue\n",
    "    print(i)\n",
    "\n",
    "print(\"\\n Simplify the code with 'else'\\n\")\n",
    "\n",
    "for i in range(100, 200):\n",
    "    for j in range(2, round(math.sqrt(i))+1):\n",
    "        if i % j == 0:\n",
    "            break\n",
    "    else: # else的这种用法倒是第一次见。\n",
    "        print(i)\n"
   ]
  },
  {
   "source": [
    "## 实例013：所有水仙花数\n",
    "\n",
    "题目 打印出所有的\"水仙花数\"，所谓\"水仙花数\"是指一个三位数，其各位数字立方和等于该数本身。例如：153是一个\"水仙花数\"，因为153=1的三次方＋5的三次方＋3的三次方。"
   ],
   "cell_type": "markdown",
   "metadata": {}
  },
  {
   "cell_type": "code",
   "execution_count": null,
   "metadata": {},
   "outputs": [],
   "source": [
    "\"\"\"\n",
    "程序分析：利用for循环控制100-999个数，每个数分解出个位，十位，百位。\n",
    "\"\"\"\n",
    "\n",
    "for i in range(100, 1000):\n",
    "    s = str(i)\n",
    "    one = int(s[-1])\n",
    "    ten = int(s[-2])\n",
    "    hun = int(s[-3])\n",
    "    if i == one**3 + ten**3 + hun**3:\n",
    "        print(i)"
   ]
  },
  {
   "source": [
    "## 实例014：分解质因数\n",
    "\n",
    "题目 将一个整数分解质因数。例如：输入90,打印出`90 =2*3*3*5`。\n"
   ],
   "cell_type": "markdown",
   "metadata": {}
  },
  {
   "cell_type": "code",
   "execution_count": null,
   "metadata": {
    "tags": []
   },
   "outputs": [],
   "source": [
    "\"\"\"\n",
    "程序分析: 根本不需要判断是否是质数，从2开始向数本身遍历，能整除的肯定是最小的质数。\n",
    "\"\"\"\n",
    "\n",
    "target = int(input(\"请输入一个整数: \"))\n",
    "print(target, \"=\", end=\" \")\n",
    "\n",
    "if target < 0:\n",
    "    target=abs(target)\n",
    "    print('-1*', end='')\n",
    "\n",
    "flag = 0\n",
    "if target <= 1:\n",
    "    print(target)\n",
    "    flag=1\n",
    "\n",
    "while True:\n",
    "    if flag:\n",
    "        break\n",
    "    for i in range(2, int(target+1)):\n",
    "        if target % i == 0:\n",
    "            print(\"%d\"%i, end='')\n",
    "            if target == i:\n",
    "                flag=1\n",
    "                break\n",
    "            print(\"*\", end=\"\")\n",
    "            target /= i\n",
    "            break"
   ]
  },
  {
   "source": [
    "## 实例015：分数归档\n",
    "\n",
    "题目 利用条件运算符的嵌套来完成此题：学习成绩>=90分的同学用A表示，60-89分之间的用B表示，60分以下的用C表示。"
   ],
   "cell_type": "markdown",
   "metadata": {}
  },
  {
   "cell_type": "code",
   "execution_count": null,
   "metadata": {},
   "outputs": [],
   "source": [
    "# 程序分析：用条件判断即可。\n",
    "\n",
    "points = int(input(\"请输入分数：\"))\n",
    "\n",
    "if points >= 90:\n",
    "    grade = \"A\"\n",
    "elif points < 60:\n",
    "    grade = \"C\"\n",
    "else:\n",
    "    grade = \"B\"\n",
    "print(grade)\n"
   ]
  },
  {
   "source": [
    "## 实例016：输出日期\n",
    "\n",
    "题目 输出指定格式的日期。"
   ],
   "cell_type": "markdown",
   "metadata": {}
  },
  {
   "cell_type": "code",
   "execution_count": null,
   "metadata": {},
   "outputs": [],
   "source": [
    "# 程序分析：使用datetime模块。\n",
    "\n",
    "import datetime\n",
    "print(datetime.date.today())\n",
    "print(datetime.date(233,2,3))\n",
    "print(datetime.date.today().strftime(\"%d/%m/%Y\"))\n",
    "\n",
    "day = datetime.date(111,2,3)\n",
    "day = day.replace(year=day.year + 22)\n",
    "print(day)\n"
   ]
  },
  {
   "source": [
    "## 实例017：字符串构成\n",
    "\n",
    "题目 输入一行字符，分别统计出其中英文字母、空格、数字和其它字符的个数。"
   ],
   "cell_type": "markdown",
   "metadata": {}
  },
  {
   "cell_type": "code",
   "execution_count": null,
   "metadata": {},
   "outputs": [],
   "source": [
    "\"\"\"\n",
    "程序分析：利用while或for语句，条件为输入的字符不为'\\n'\n",
    "\"\"\"\n",
    "string = input(\"请输入字符串：\")\n",
    "alp = 0\n",
    "num = 0\n",
    "spa = 0\n",
    "oth = 0\n",
    "for i in range(len(string)):\n",
    "    if string[i].isspace():\n",
    "        spa += 1\n",
    "    elif string[i].isdigit():\n",
    "        num += 1\n",
    "    elif string[i].isalpha():\n",
    "        alp += 1\n",
    "    else:\n",
    "        oth += 1\n",
    "print(\"space:\", spa)\n",
    "print(\"digit:\", num)\n",
    "print(\"alpha:\", alp)\n",
    "print(\"other:\", oth)"
   ]
  },
  {
   "source": [
    "## 实例018：复读机相加\n",
    "\n",
    "题目 求s=a+aa+aaa+aaaa+aa…a的值，其中a是一个数字。例如2+22+222+2222+22222(此时共有5个数相加)，几个数相加由键盘控制。"
   ],
   "cell_type": "markdown",
   "metadata": {}
  },
  {
   "cell_type": "code",
   "execution_count": null,
   "metadata": {},
   "outputs": [],
   "source": [
    "# 程序分析：用字符串解决。\n",
    "\n",
    "a = input(\"被加数字: \") # a代表字符串\n",
    "\n",
    "n = int(input(\"加几次？: \"))\n",
    "\n",
    "res = 0\n",
    "\n",
    "for i in range(n):\n",
    "    res += int(a)\n",
    "    a += a[0] # a[0]代表字符串，2+2='22'\n",
    "    # print(a)\n",
    "print(\"结果是: \", res)\n"
   ]
  },
  {
   "source": [
    "## 实例019：完数\n",
    "\n",
    "题目 一个数如果恰好等于它的因子之和，这个数就称为\"完数\"。例如6=1＋2＋3.编程找出1000以内的所有完数。"
   ],
   "cell_type": "markdown",
   "metadata": {}
  },
  {
   "cell_type": "code",
   "execution_count": null,
   "metadata": {},
   "outputs": [],
   "source": [
    "\"\"\"\n",
    "程序分析：将每一对因子加进集合，在这个过程中已经自动去重.最后的结果要求不计算其本身。\n",
    "\"\"\"\n",
    "def factor(num):\n",
    "    target = int(num)\n",
    "    res = set()\n",
    "    for i in range(1, num):\n",
    "        if num%i == 0:\n",
    "            res.add(i)\n",
    "            res.add(num/i)\n",
    "    return res\n",
    "\n",
    "for i in range(2, 1001):\n",
    "    if i == sum(factor(i))-i:\n",
    "        print(i)\n",
    "\n",
    "a = set()\n",
    "a.add(1)\n",
    "print(a)\n",
    "print(sum(a))"
   ]
  },
  {
   "source": [
    "## 实例020：高空抛物\n",
    "题目 一球从100米高度自由落下，每次落地后反跳回原高度的一半；再落下，求它在第10次落地时，共经过多少米？第10次反弹多高？"
   ],
   "cell_type": "markdown",
   "metadata": {}
  },
  {
   "cell_type": "code",
   "execution_count": null,
   "metadata": {},
   "outputs": [],
   "source": [
    "high = 200\n",
    "total = 100\n",
    "for i in range(10):\n",
    "    high /= 2\n",
    "    total += high\n",
    "    print(high/2)\n",
    "print(\"总长: \",total)"
   ]
  },
  {
   "source": [
    "## 实例021：猴子偷桃\n",
    "\n",
    "题目 猴子吃桃问题：猴子第一天摘下若干个桃子，当即吃了一半，还不瘾，又多吃了一个.第二天早上又将剩下的桃子吃掉一半，又多吃了一个。以后每天早上都吃了前一天剩下的一半零一个。到第10天早上想再吃时，见只剩下一个桃子了。求第一天共摘了多少。\n"
   ],
   "cell_type": "markdown",
   "metadata": {}
  },
  {
   "cell_type": "code",
   "execution_count": null,
   "metadata": {},
   "outputs": [],
   "source": [
    "\"\"\"\n",
    "程序分析 按规则反向推断：猴子有一个桃子，他偷来一个桃子，觉得不够又偷来了与手上等量的桃子，一共偷了9天。\n",
    "\"\"\"\n",
    "\n",
    "# 逆向思维，喵喵喵\n",
    "\n",
    "peach = 1\n",
    "for i in range(9):\n",
    "    peach = (peach+1)*2\n",
    "print(peach)"
   ]
  },
  {
   "source": [
    "## 实例022：比赛对手\n",
    "\n",
    "题目 两个乒乓球队进行比赛，各出三人。甲队为a,b,c三人，乙队为x,y,z三人。已抽签决定比赛名单。有人向队员打听比赛的名单。a说他不和x比，c说他不和x,z比，请编程序找出三队赛手的名单。"
   ],
   "cell_type": "markdown",
   "metadata": {}
  },
  {
   "cell_type": "code",
   "execution_count": null,
   "metadata": {},
   "outputs": [],
   "source": [
    "# 程序分析 找到条件下不重复的三个对手即可。\n",
    "\n",
    "a = set(['x', 'y', 'z'])\n",
    "b = set(['x', 'y', 'z'])\n",
    "c = set(['x', 'y', 'z'])\n",
    "c -= set(('x', 'z'))\n",
    "a -= set('x')\n",
    "for i in a:\n",
    "    for j in b:\n",
    "        for k in c:\n",
    "            if len(set((i, j, k))) == 3:\n",
    "                print(\"a: %s, b: %s, c: %s\"%(i, j, k))"
   ]
  },
  {
   "cell_type": "code",
   "execution_count": null,
   "metadata": {},
   "outputs": [],
   "source": [
    "print(a)\n",
    "print(b)\n",
    "print(c)"
   ]
  },
  {
   "source": [
    "## 实例023：画菱形\n",
    "\n",
    "题目 打印出如下图案（菱形）:\n"
   ],
   "cell_type": "markdown",
   "metadata": {}
  },
  {
   "cell_type": "code",
   "execution_count": null,
   "metadata": {},
   "outputs": [],
   "source": [
    "# 程序分析：递归调用即可\n",
    "\n",
    "def draw(num):\n",
    "    a = \"*\" * (2*(4 - num) + 1)\n",
    "    print(a.center(9,' '))\n",
    "    if num != 1:\n",
    "        draw(num-1)\n",
    "        print(a.center(9, ' '))\n",
    "draw(4)"
   ]
  },
  {
   "source": [
    "## 实例024：斐波那契数列II\n",
    "\n",
    "题目 有一分数序列：2/1，3/2，5/3，8/5，13/8，21/13…求出这个数列的前20项之和。"
   ],
   "cell_type": "markdown",
   "metadata": {}
  },
  {
   "cell_type": "code",
   "execution_count": null,
   "metadata": {},
   "outputs": [],
   "source": [
    "# 程序分析：就是斐波那契数列的最后一项除以前一项\n",
    "\n",
    "a = 2.0\n",
    "b = 1.0\n",
    "s = 0\n",
    "for n in range(1, 21):\n",
    "    s += a / b\n",
    "    a, b = a + b, a\n",
    "    print(s)"
   ]
  },
  {
   "source": [
    "## 实例025：阶乘求和\n",
    "\n",
    "题目 求1+2!+3!+…+20!的和。"
   ],
   "cell_type": "markdown",
   "metadata": {}
  },
  {
   "source": [
    "%%time\n",
    "# 程序分析：1+2!+3!+...+20!=1+2(1+3(1+4(...20(1))))\n",
    "import time\n",
    "\n",
    "T1 = time.time()\n",
    "res = 1\n",
    "for i in range(20, 1, -1):\n",
    "    res = i*res + 1\n",
    "print(res)\n",
    "\n",
    "T2 = time.time()\n",
    "\n",
    "print(\"该单元运行了多长时间: {}s\".format(T2-T1)) # Wall time: 999 µs"
   ],
   "cell_type": "code",
   "metadata": {},
   "execution_count": 15,
   "outputs": [
    {
     "output_type": "stream",
     "name": "stdout",
     "text": [
      "2561327494111820313\n该单元运行了多长时间: 0.0s\nWall time: 999 µs\n"
     ]
    }
   ]
  },
  {
   "cell_type": "code",
   "execution_count": 4,
   "metadata": {},
   "outputs": [
    {
     "output_type": "stream",
     "name": "stdout",
     "text": [
      "2561327494111820313\n该单元运行了多长时间: 0.0010027885437011719s\nWall time: 1 ms\n"
     ]
    }
   ],
   "source": [
    "%%time\n",
    "# 另解：自定义求阶乘的函数，然后递归\n",
    "# %%time 将会给出cell的代码运行一次所花费的时间 \n",
    "\"\"\"单元命令需要放在第一行\"\"\"\n",
    "# %time 将会给出当前行的代码运行一次所花费的时间。\n",
    "# %timeit 使用Python的timeit模块，它将会执行一个语句100，000次(默认情况下)，然后给出运行最快3次的平均值。\n",
    "import time\n",
    "\n",
    "T1 = time.time()\n",
    "\n",
    "def Factorial(num):\n",
    "    return num*Factorial(num-1) if num>2 else num*1\n",
    "\n",
    "max = 20\n",
    "res = 0\n",
    "for i in range(1,max+1):\n",
    "    res += Factorial(i)\n",
    "print(res)\n",
    "\n",
    "T2 = time.time()\n",
    "\n",
    "print(\"该单元运行了多长时间: {}s\".format(T2-T1)) # Wall time: 1 ms"
   ]
  },
  {
   "source": [
    "## 实例026：递归求阶乘\n",
    "\n",
    "题目 利用递归方法求5!。"
   ],
   "cell_type": "markdown",
   "metadata": {}
  },
  {
   "cell_type": "code",
   "execution_count": 16,
   "metadata": {},
   "outputs": [
    {
     "output_type": "stream",
     "name": "stdout",
     "text": [
      "120\n"
     ]
    }
   ],
   "source": [
    "# 程序分析：利用递归方法求5！\n",
    "\n",
    "def factorial(n):\n",
    "    return n*factorial(n-1) if n > 1 else 1\n",
    "\n",
    "print(factorial(5))"
   ]
  },
  {
   "source": [
    "## 实例027：递归输出\n",
    "题目 利用递归函数调用方式，将所输入的5个字符，以相反顺序打印出来。"
   ],
   "cell_type": "markdown",
   "metadata": {}
  },
  {
   "cell_type": "code",
   "execution_count": 8,
   "metadata": {},
   "outputs": [
    {
     "output_type": "stream",
     "name": "stdout",
     "text": [
      "Chenfeng YuanHello world!\n",
      "nauygnefnehc"
     ]
    }
   ],
   "source": [
    "# 程序分析：递归真是蠢方法\n",
    "\n",
    "def rec(string):\n",
    "    if len(string) != 1:\n",
    "        rec(string[1:])\n",
    "    print(string[0], end='')\n",
    "\n",
    "print(\"Chenfeng Yuan\", end=\"\")\n",
    "print(\"Hello world!\")\n",
    "rec(input('string here:'))"
   ]
  },
  {
   "source": [
    "## 实例028：递归求等差数列\n",
    "题目 有5个人坐在一起，问第五个人多少岁？他说比第4个人大2岁。问第4个人岁数，他说比第3个人大2岁。问第三个人，又说比第2人大两岁。问第2个人，说比第一个人大两岁。最后问第一个人，他说是10岁。请问第五个人多大？"
   ],
   "cell_type": "markdown",
   "metadata": {}
  },
  {
   "cell_type": "code",
   "execution_count": 10,
   "metadata": {},
   "outputs": [
    {
     "output_type": "stream",
     "name": "stdout",
     "text": [
      "18\n70\n"
     ]
    }
   ],
   "source": [
    "# 程序分析：就一等差数列\n",
    "\n",
    "def age(n):\n",
    "    if n == 1:\n",
    "        return 10\n",
    "    return 2 + age(n-1)\n",
    "\n",
    "print(age(5))\n",
    "print(10+12+14+16+18)"
   ]
  },
  {
   "source": [
    "## 实例029：反向输出\n",
    "题目 给一个不多于5位的正整数，要求：一、求它是几位数，二、逆序打印出各位数字。"
   ],
   "cell_type": "markdown",
   "metadata": {}
  },
  {
   "cell_type": "code",
   "execution_count": 11,
   "metadata": {},
   "outputs": [
    {
     "output_type": "stream",
     "name": "stdout",
     "text": [
      "5位数\n54321\n"
     ]
    }
   ],
   "source": [
    "\"\"\"学会分解每一位数，用字符串的方法总是比较省事。\n",
    "\"\"\"\n",
    "\n",
    "n = int(input(\"输入一个正整数：\"))\n",
    "n = str(n)\n",
    "print(\"%d位数\"%len(n))\n",
    "print(n[::-1])"
   ]
  },
  {
   "source": [
    "## 实例030：回文数\n",
    "题目 一个5位数，判断它是不是回文数。即12321是回文数，个位与万位相同，十位与千位相同。"
   ],
   "cell_type": "markdown",
   "metadata": {}
  },
  {
   "cell_type": "code",
   "execution_count": 14,
   "metadata": {},
   "outputs": [
    {
     "output_type": "stream",
     "name": "stdout",
     "text": [
      "是回文串\n"
     ]
    }
   ],
   "source": [
    "# 程序分析：用字符串比较方便，就算输入的不是数字都ok\n",
    "\n",
    "n = input(\"随便你输入啥啦：\") # input默认输入字符串\n",
    "a = 0\n",
    "b = len(n) -1\n",
    "flag = True\n",
    "while a < b:\n",
    "    if n[a] != n[b]:\n",
    "        print(\"不是回文串\")\n",
    "        flag = False\n",
    "        break\n",
    "    a, b = a+1, b-1\n",
    "if flag:\n",
    "    print(\"是回文串\")"
   ]
  },
  {
   "source": [
    "## 实例031：字母识词\n",
    "题目 请输入星期几的第一个字母来判断一下是星期几，如果第一个字母一样，则继续判断第二个字母。"
   ],
   "cell_type": "markdown",
   "metadata": {}
  },
  {
   "cell_type": "code",
   "execution_count": 21,
   "metadata": {},
   "outputs": [
    {
     "output_type": "stream",
     "name": "stdout",
     "text": [
      "sunday\n"
     ]
    }
   ],
   "source": [
    "# 程序分析：这里用字典的形式直接将对照关系存好\n",
    "\n",
    "weekT = {'h':'thursday', 'u':'tuesday'}\n",
    "\n",
    "weekS = {'a':'saturday', 'u':'sunday'}\n",
    "\n",
    "week = {'t':weekT, 's':weekS, \n",
    "'m':'monday', 'w':'wensday', 'f':'friday'}\n",
    "\n",
    "a = week[str(input(\"请输入第一位字母：\")).lower()]\n",
    "\n",
    "if a == weekT or a == weekS:\n",
    "    print(a[str(input(\"请输入第二位字母：\")).lower()])\n",
    "else:\n",
    "    print(a)\n"
   ]
  },
  {
   "source": [
    "## 实例032：反向输出II\n",
    "题目 按相反的顺序输出列表的值。"
   ],
   "cell_type": "markdown",
   "metadata": {}
  },
  {
   "cell_type": "code",
   "execution_count": 22,
   "metadata": {},
   "outputs": [
    {
     "output_type": "stream",
     "name": "stdout",
     "text": [
      "['three', 'two', 'one']\n"
     ]
    }
   ],
   "source": [
    "# 程序分析：无\n",
    "\n",
    "a = ['one', 'two', 'three']\n",
    "\n",
    "print(a[::-1])"
   ]
  },
  {
   "source": [
    "## 实例033：列表转字符串\n",
    "题目 按逗号分隔列表。"
   ],
   "cell_type": "markdown",
   "metadata": {}
  },
  {
   "cell_type": "code",
   "execution_count": 24,
   "metadata": {},
   "outputs": [
    {
     "output_type": "stream",
     "name": "stdout",
     "text": [
      "1,2,3,4,5\n"
     ]
    }
   ],
   "source": [
    "# 程序分析：无\n",
    "\n",
    "L = [1, 2, 3, 4, 5]\n",
    "print(','.join(str(n) for n in L))"
   ]
  },
  {
   "source": [
    "## 实例034：调用函数\n",
    "题目 练习函数调用。"
   ],
   "cell_type": "markdown",
   "metadata": {}
  },
  {
   "cell_type": "code",
   "execution_count": 25,
   "metadata": {},
   "outputs": [
    {
     "output_type": "stream",
     "name": "stdout",
     "text": [
      "Hello World!\nHello World!\n"
     ]
    }
   ],
   "source": [
    "# 程序分析：无\n",
    "\n",
    "def hello():\n",
    "    print(\"Hello World!\")\n",
    "\n",
    "def helloAgain():\n",
    "    for i in range(2):\n",
    "        hello()\n",
    "\n",
    "if __name__ == \"__main__\":\n",
    "    helloAgain()"
   ]
  },
  {
   "source": [
    "## 实例035：设置输出颜色\n",
    "题目 文本颜色设置"
   ],
   "cell_type": "markdown",
   "metadata": {}
  },
  {
   "cell_type": "code",
   "execution_count": 33,
   "metadata": {},
   "outputs": [
    {
     "output_type": "stream",
     "name": "stdout",
     "text": [
      "\u001b[93m警告的颜色字体？\u001b[0m\n\u001b[95m标题的颜色字体？\u001b[0m\n\u001b[94mOKBLUE的颜色字体？\u001b[0m\n\u001b[92mOKGREEN的颜色字体？\u001b[0m\n\u001b[91mFAIL的颜色字体？\u001b[0m\n"
     ]
    }
   ],
   "source": [
    "# 程序分析：无\n",
    "\n",
    "class bcolors:\n",
    "    HEADER = '\\033[95m'\n",
    "    OKBLUE = '\\033[94m'\n",
    "    OKGREEN = '\\033[92m'\n",
    "    WARNING = '\\033[93m'\n",
    "    FAIL = '\\033[91m'\n",
    "    ENDC = '\\033[0m'\n",
    "    BOLD = '\\033[1m'\n",
    "    UNDERLINE = '\\033[4m'\n",
    "print(bcolors.WARNING + \"警告的颜色字体？\" + bcolors.ENDC)\n",
    "print(bcolors.HEADER + \"标题的颜色字体？\" + bcolors.ENDC)\n",
    "print(bcolors.OKBLUE + \"OKBLUE的颜色字体？\" + bcolors.ENDC)\n",
    "print(bcolors.OKGREEN + \"OKGREEN的颜色字体？\" + bcolors.ENDC)\n",
    "print(bcolors.FAIL + \"FAIL的颜色字体？\" + bcolors.ENDC)"
   ]
  },
  {
   "source": [
    "## 实例036：算素数\n",
    "题目 求100之内的素数。"
   ],
   "cell_type": "markdown",
   "metadata": {}
  },
  {
   "cell_type": "code",
   "execution_count": 37,
   "metadata": {},
   "outputs": [
    {
     "output_type": "stream",
     "name": "stdout",
     "text": [
      "2 3 5 7 11 13 17 19 23 29 31 37 41 43 47 53 59 61 67 71 73 79 83 89 97 "
     ]
    }
   ],
   "source": [
    "# 程序分析：用else执行for循环的奖励代码（如果for是正常完结，非break）。\n",
    "\n",
    "low = int(input(\"下限：\"))\n",
    "high = int(input(\"上限：\"))\n",
    "for i in range(low, high+1):\n",
    "    if i > 1:\n",
    "        for j in range(2, i):\n",
    "            if (i % j) == 0: # 判断素数的方式：该数除以从2到它本身的遍历，判断是否能整除\n",
    "                break\n",
    "        else:\n",
    "            print(i, end=\" \")"
   ]
  },
  {
   "source": [
    "## 实例037：排序\n",
    "题目 对10个数进行排序。"
   ],
   "cell_type": "markdown",
   "metadata": {}
  },
  {
   "cell_type": "code",
   "execution_count": 39,
   "metadata": {},
   "outputs": [
    {
     "output_type": "stream",
     "name": "stdout",
     "text": [
      "[0, 2, 3, 3, 4, 6, 6, 7, 8, 9]\n"
     ]
    }
   ],
   "source": [
    "# 程序分析：同实例005 练练手就随便找个排序算法实现一下，偷懒就直接调函数。\n",
    "\n",
    "# 排序\n",
    "\n",
    "raw = []\n",
    "for i in range(10):\n",
    "    x = int(input(\"int%d: \"%(i)))\n",
    "    raw.append(x)\n",
    "\n",
    "for i in range(len(raw)):\n",
    "    for j in range(i, len(raw)):\n",
    "        if raw[i] > raw[j]:\n",
    "            raw[i], raw[j] = raw[j], raw[i]\n",
    "print(raw)"
   ]
  },
  {
   "cell_type": "code",
   "execution_count": null,
   "metadata": {},
   "outputs": [],
   "source": []
  }
 ]
}