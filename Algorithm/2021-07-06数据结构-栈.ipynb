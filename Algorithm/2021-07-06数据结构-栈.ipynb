{
 "cells": [
  {
   "cell_type": "markdown",
   "metadata": {},
   "source": [
    "# 数据结构-栈\n",
    "\n",
    "**Date:** 2021-07-06 11：48\n",
    "\n",
    "**Author:** chenfengyuan\n",
    "\n",
    "**E-mail:** chenfengyuan.hb@gmail.com\n",
    "\n",
    "**Goal:** 基本的数据结构——栈。"
   ]
  },
  {
   "cell_type": "markdown",
   "metadata": {},
   "source": [
    "[toc]\n"
   ]
  },
  {
   "cell_type": "markdown",
   "metadata": {},
   "source": [
    "## 1-什么是栈\n",
    "\n",
    "栈：限定仅在表尾进行插入和删除操作的线性表。\n",
    "\n",
    "解释：栈也是一种线性结构，相比数组，栈对应的操作是数组的子集，只能从一端添加元素，也只能从一端取出元素。栈的引入简化程序设计的问题，划分不同的关注层次，让思考范围缩小，更加聚焦于我们要解决的问题。\n",
    "\n",
    "把允许删除和删除的一端称为栈顶（top），另一端称为栈底（bottom）\n",
    "\n",
    "栈是一种后进先出的数据结构 Last in first out（LIFO）"
   ]
  },
  {
   "cell_type": "markdown",
   "metadata": {},
   "source": [
    "## 2-栈的实现\n",
    "\n",
    "stack（）创建一个新的空栈\n",
    "\n",
    "push（elem）添加一个新的元素elem到栈顶\n",
    "\n",
    "pop 弹出栈顶元素\n",
    "\n",
    "peek 返回栈顶元素\n",
    "\n",
    "is_empty 判断栈是否为空\n",
    "\n",
    "size 返回栈的元素个数"
   ]
  },
  {
   "cell_type": "code",
   "execution_count": 6,
   "metadata": {},
   "outputs": [],
   "source": [
    "class Stack(object):\n",
    "    \"\"\"栈\"\"\"\n",
    "    def __init__(self):\n",
    "        self.items = [] # 它的底层是数组\n",
    "\n",
    "    def is_empty(self):\n",
    "        \"\"\"判断是否为空\"\"\"\n",
    "        return self.items == []\n",
    "\n",
    "    def push(self, item):\n",
    "        \"\"\"加入元素\"\"\"\n",
    "        self.items.append(item)\n",
    "\n",
    "    def pop(self):\n",
    "        \"\"\"弹出元素\"\"\"\n",
    "        return self.items.pop()\n",
    "    def peek(self):\n",
    "        \"\"\"返回栈顶元素\"\"\"\n",
    "        return self.items[len(self.items)-1]\n",
    "\n",
    "    def size(self):\n",
    "        \"\"\"返回栈的大小\"\"\"\n",
    "        return len(self.items)\n",
    "\n"
   ]
  },
  {
   "cell_type": "markdown",
   "metadata": {},
   "source": [
    "## 3-栈的应用\n",
    "\n",
    "### 3.1 括号匹配问题"
   ]
  },
  {
   "cell_type": "markdown",
   "metadata": {},
   "source": [
    "![1](https://raw.githubusercontent.com/yuancf1024/Python-cf/main/Figure/%E5%BE%AE%E4%BF%A1%E5%9B%BE%E7%89%87_20210706120047.png)\r\n",
    "\r\n",
    "![2](Figure/微信图片_20210706120047.png)"
   ]
  },
  {
   "cell_type": "markdown",
   "metadata": {},
   "source": [
    "### 3.2 四则运算表达式求值\n",
    "\n"
   ]
  },
  {
   "cell_type": "markdown",
   "metadata": {},
   "source": []
  },
  {
   "cell_type": "markdown",
   "metadata": {},
   "source": [
    "### 3.3 设计一个有gtmin功能的栈"
   ]
  },
  {
   "cell_type": "markdown",
   "metadata": {},
   "source": []
  }
 ],
 "metadata": {
  "interpreter": {
   "hash": "9c91df8a30f2ca0588df6ae5802e19be614d84a80266001c42d6a0fb9a071694"
  },
  "kernelspec": {
   "display_name": "Python 3.8.3 64-bit ('base': conda)",
   "name": "pycharm-3e02a1a"
  },
  "language_info": {
   "name": "python",
   "version": ""
  },
  "toc": {
   "base_numbering": 1,
   "nav_menu": {},
   "number_sections": true,
   "sideBar": true,
   "skip_h1_title": false,
   "title_cell": "Table of Contents",
   "title_sidebar": "Contents",
   "toc_cell": false,
   "toc_position": {},
   "toc_section_display": true,
   "toc_window_display": false
  },
  "varInspector": {
   "cols": {
    "lenName": 16,
    "lenType": 16,
    "lenVar": 40
   },
   "kernels_config": {
    "python": {
     "delete_cmd_postfix": "",
     "delete_cmd_prefix": "del ",
     "library": "var_list.py",
     "varRefreshCmd": "print(var_dic_list())"
    },
    "r": {
     "delete_cmd_postfix": ") ",
     "delete_cmd_prefix": "rm(",
     "library": "var_list.r",
     "varRefreshCmd": "cat(var_dic_list()) "
    }
   },
   "types_to_exclude": [
    "module",
    "function",
    "builtin_function_or_method",
    "instance",
    "_Feature"
   ],
   "window_display": false
  }
 },
 "nbformat": 4,
 "nbformat_minor": 2
}