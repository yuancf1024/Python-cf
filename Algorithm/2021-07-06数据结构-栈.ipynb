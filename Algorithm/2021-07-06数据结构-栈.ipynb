{
 "cells": [
  {
   "cell_type": "markdown",
   "metadata": {},
   "source": [
    "# 数据结构-栈\r\n",
    "\r\n",
    "**Date:** 2021-07-06 11：48\r\n",
    "\r\n",
    "**Author:** chenfengyuan\r\n",
    "\r\n",
    "**E-mail:** chenfengyuan.hb@gmail.com\r\n",
    "\r\n",
    "**Goal:** 基本的数据结构——栈。"
   ]
  },
  {
   "cell_type": "markdown",
   "metadata": {},
   "source": [
    "[toc]\r\n"
   ]
  },
  {
   "cell_type": "markdown",
   "metadata": {},
   "source": [
    "## 1-什么是栈\r\n",
    "\r\n",
    "栈：限定仅在表尾进行插入和删除操作的线性表。\r\n",
    "\r\n",
    "解释：栈也是一种线性结构，相比数组，栈对应的操作是数组的子集，只能从一端添加元素，也只能从一端取出元素。栈的引入简化程序设计的问题，划分不同的关注层次，让思考范围缩小，更加聚焦于我们要解决的问题。\r\n",
    "\r\n",
    "把允许删除和删除的一端称为栈顶（top），另一端称为栈底（bottom）\r\n",
    "\r\n",
    "栈是一种后进先出的数据结构 Last in first out（LIFO）"
   ]
  },
  {
   "cell_type": "markdown",
   "metadata": {},
   "source": [
    "## 2-栈的实现\r\n",
    "\r\n",
    "stack（）创建一个新的空栈\r\n",
    "\r\n",
    "push（elem）添加一个新的元素elem到栈顶\r\n",
    "\r\n",
    "pop 弹出栈顶元素\r\n",
    "\r\n",
    "peek 返回栈顶元素\r\n",
    "\r\n",
    "is_empty 判断栈是否为空\r\n",
    "\r\n",
    "size 返回栈的元素个数"
   ]
  },
  {
   "cell_type": "code",
   "execution_count": 6,
   "metadata": {},
   "outputs": [],
   "source": [
    "class Stack(object):\r\n",
    "    \"\"\"栈\"\"\"\r\n",
    "    def __init__(self):\r\n",
    "        self.items = [] # 它的底层是数组\r\n",
    "\r\n",
    "    def is_empty(self):\r\n",
    "        \"\"\"判断是否为空\"\"\"\r\n",
    "        return self.items == []\r\n",
    "\r\n",
    "    def push(self, item):\r\n",
    "        \"\"\"加入元素\"\"\"\r\n",
    "        self.items.append(item)\r\n",
    "\r\n",
    "    def pop(self):\r\n",
    "        \"\"\"弹出元素\"\"\"\r\n",
    "        return self.items.pop()\r\n",
    "    def peek(self):\r\n",
    "        \"\"\"返回栈顶元素\"\"\"\r\n",
    "        return self.items[len(self.items)-1]\r\n",
    "\r\n",
    "    def size(self):\r\n",
    "        \"\"\"返回栈的大小\"\"\"\r\n",
    "        return len(self.items)\r\n",
    "\r\n"
   ]
  },
  {
   "cell_type": "markdown",
   "metadata": {},
   "source": [
    "## 3-栈的应用\r\n",
    "\r\n",
    "### 3.1 括号匹配问题"
   ]
  },
  {
   "cell_type": "markdown",
   "metadata": {},
   "source": [
    "![](D:\\chenfeng\\Python-cf\\Figure\\微信图片_20210706120047.png)"
   ]
  },
  {
   "cell_type": "markdown",
   "metadata": {},
   "source": [
    "### 3.2 四则运算表达式求值\r\n",
    "\r\n"
   ]
  },
  {
   "cell_type": "markdown",
   "metadata": {},
   "source": []
  },
  {
   "cell_type": "markdown",
   "metadata": {},
   "source": [
    "### 3.3 设计一个有gtmin功能的栈"
   ]
  },
  {
   "cell_type": "markdown",
   "metadata": {},
   "source": []
  }
 ],
 "metadata": {
  "interpreter": {
   "hash": "9c91df8a30f2ca0588df6ae5802e19be614d84a80266001c42d6a0fb9a071694"
  },
  "kernelspec": {
   "display_name": "Python 3.8.3 64-bit ('base': conda)",
   "name": "python3"
  },
  "language_info": {
   "codemirror_mode": {
    "name": "ipython",
    "version": 3
   },
   "file_extension": ".py",
   "mimetype": "text/x-python",
   "name": "python",
   "nbconvert_exporter": "python",
   "pygments_lexer": "ipython3",
   "version": "3.8.3"
  },
  "orig_nbformat": 4
 },
 "nbformat": 4,
 "nbformat_minor": 2
}