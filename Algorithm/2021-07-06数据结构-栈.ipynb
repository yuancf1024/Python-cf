{
 "cells": [
  {
   "cell_type": "markdown",
   "metadata": {},
   "source": [
    "# 数据结构-栈\n",
    "\n",
    "**Date:** 2021-07-06 11：48\n",
    "\n",
    "**Author:** chenfengyuan\n",
    "\n",
    "**E-mail:** chenfengyuan.hb@gmail.com\n",
    "\n",
    "**Goal:** 基本的数据结构——栈。"
   ]
  },
  {
   "cell_type": "markdown",
   "metadata": {},
   "source": [
    "[toc]\n"
   ]
  },
  {
   "cell_type": "markdown",
   "metadata": {},
   "source": [
    "## 1-什么是栈\r\n",
    "\r\n",
    "栈：限定仅在表尾进行插入和删除操作的线性表。\r\n",
    "\r\n",
    "解释：栈也是一种线性结构，相比数组，栈对应的操作是数组的子集，只能从一端添加元素，也只能从一端取出元素。栈的引入简化程序设计的问题，划分不同的关注层次，让思考范围缩小，更加聚焦于我们要解决的问题。\r\n",
    "\r\n",
    "把允许删除和插入的一端称为栈顶（top），另一端称为栈底（bottom）\r\n",
    "\r\n",
    "栈是一种后进先出的数据结构 Last in first out（LIFO）"
   ]
  },
  {
   "cell_type": "markdown",
   "metadata": {},
   "source": [
    "## 2-栈的实现\n",
    "\n",
    "stack（）创建一个新的空栈\n",
    "\n",
    "push（elem）添加一个新的元素elem到栈顶\n",
    "\n",
    "pop 弹出栈顶元素\n",
    "\n",
    "peek 返回栈顶元素\n",
    "\n",
    "is_empty 判断栈是否为空\n",
    "\n",
    "size 返回栈的元素个数"
   ]
  },
  {
   "cell_type": "code",
   "execution_count": 6,
   "metadata": {},
   "outputs": [],
   "source": [
    "class Stack(object):\n",
    "    \"\"\"栈\"\"\"\n",
    "    def __init__(self):\n",
    "        self.items = [] # 它的底层是数组\n",
    "\n",
    "    def is_empty(self):\n",
    "        \"\"\"判断是否为空\"\"\"\n",
    "        return self.items == []\n",
    "\n",
    "    def push(self, item):\n",
    "        \"\"\"加入元素\"\"\"\n",
    "        self.items.append(item)\n",
    "\n",
    "    def pop(self):\n",
    "        \"\"\"弹出元素\"\"\"\n",
    "        return self.items.pop()\n",
    "    def peek(self):\n",
    "        \"\"\"返回栈顶元素\"\"\"\n",
    "        return self.items[len(self.items)-1]\n",
    "\n",
    "    def size(self):\n",
    "        \"\"\"返回栈的大小\"\"\"\n",
    "        return len(self.items)\n",
    "\n"
   ]
  },
  {
   "cell_type": "markdown",
   "metadata": {},
   "source": [
    "## 3-栈的应用\n",
    "\n",
    "### 3.1 括号匹配问题"
   ]
  },
  {
   "cell_type": "markdown",
   "metadata": {},
   "source": [
    "![2](Figure/微信图片_20210706120047.png)"
   ]
  },
  {
   "cell_type": "markdown",
   "metadata": {},
   "source": [
    "**思路：**\r\n",
    "\r\n",
    "1. 从前向后扫描字符串\r\n",
    "2. 遇到左括号就push到栈中\r\n",
    "3. 遇到右括号\r\n",
    "   - 栈顶元素和右括号匹配，栈顶元素出栈，继续判断下一个字符\r\n",
    "   - 栈顶元素和右括号不匹配/栈为空，字符串不匹配。\r\n",
    "  \r\n",
    "扫描完后，如果栈恰好为空，则字符串匹配，否则不匹配。\r\n",
    "\r\n",
    "栈顶元素反映了在嵌套的层次关系中，最近的需要匹配的元素。"
   ]
  },
  {
   "cell_type": "code",
   "execution_count": 6,
   "metadata": {},
   "outputs": [
    {
     "data": {
      "text/plain": [
       "True"
      ]
     },
     "execution_count": 6,
     "metadata": {},
     "output_type": "execute_result"
    }
   ],
   "source": [
    "class Solution(object):\r\n",
    "    def isValid(self, s):\r\n",
    "        \"\"\"\r\n",
    "        :type s: str\r\n",
    "        :rtype: bool\r\n",
    "        \"\"\"\r\n",
    "        stack = []\r\n",
    "\r\n",
    "        for str_ in s:\r\n",
    "            if str_ in ['{', '(', '[']:\r\n",
    "                stack.append(str_)\r\n",
    "            else:\r\n",
    "                if not stack:\r\n",
    "                    return False\r\n",
    "                \r\n",
    "                if stack[-1] == '{' and str_ == '}' or stack[-1] == '(' and str_ == ')' or stack[-1] == '[' and str_ == ']':\r\n",
    "                    stack.pop()\r\n",
    "                else:\r\n",
    "                    return False\r\n",
    "        \r\n",
    "        if stack:\r\n",
    "            return False\r\n",
    "        \r\n",
    "        return True\r\n",
    "\r\n",
    "solution = Solution()\r\n",
    "s = '()[](()){}'\r\n",
    "solution.isValid(s)"
   ]
  },
  {
   "cell_type": "markdown",
   "metadata": {},
   "source": [
    "### 3.2 四则运算表达式求值\r\n",
    "\r\n",
    "计算四则运算: 9+(3-1)*3+10/2\r\n",
    "\r\n",
    "括号是成对出现的，对于多重括号也是嵌套的，括号匹配问题用栈结构，只有碰到左括号就进栈，碰到右括号就让栈顶的左括号出栈，期间让数字计算。\r\n",
    "\r\n",
    "整个过程的思路是：\r\n",
    "\r\n",
    "1. 将中缀表达式转化成后缀表达式\r\n",
    "2. 计算后缀表达式\r\n",
    "\r\n",
    "利用了栈的后进先出的特性，理解好它，其实就理解好了栈的数据结构。\r\n",
    "\r\n",
    "step 1 将中缀表达式转化成后缀表达式\r\n",
    "\r\n",
    "中缀表达式: 9+(3-1)*3+10/2 所有的符号都放在两个数字的中间\r\n",
    "\r\n",
    "后缀表达式: 9 3 1 - 3*+ 10 2 / +\r\n",
    "\r\n",
    "规则: 从左到右遍历中缀表达式每个数字和符号：\r\n",
    "\r\n",
    "1、是数字就直接输出，成为后缀表达式的一部分。\r\n",
    "\r\n",
    "2、如果是符号:\r\n",
    "\r\n",
    " - 如果是括号，左括号进栈，右括号就找栈中匹配的左括号，并把中间的元素依次输出\r\n",
    "- 如果是符号，则判断其与栈顶符号的优先级，是右括号或优先级低于栈顶符号（乘除优先加减），则栈顶元素依次出栈并输出，并将当前符号进栈，一直到最终输出后缀表达式为止。\r\n",
    "\r\n",
    "step 2 计算后缀表达式\r\n",
    "\r\n",
    "用一个栈来实现：\r\n",
    "\r\n",
    "遇到是数字就进栈，遇到符号就将处于栈顶的两个数字出栈进行运算，运算结果进栈，一直重复这个过程直到获得最后结果.\r\n"
   ]
  },
  {
   "cell_type": "code",
   "execution_count": 18,
   "metadata": {},
   "outputs": [
    {
     "data": {
      "text/plain": [
       "'\\n该段代码存在的问题：\\n1. 只能计算后缀表达式\\n2. 表达式中无法保存2为数字，比如10在表达式被认为是两个数字1和0.\\n\\n'"
      ]
     },
     "execution_count": 18,
     "metadata": {},
     "output_type": "execute_result"
    }
   ],
   "source": [
    "class Solution:\r\n",
    "    def evalRPN(self, tokens):\r\n",
    "        \"\"\"\r\n",
    "        :type tokens: List[str] 输入后序表达式\r\n",
    "        :rtype: int\r\n",
    "        \"\"\"\r\n",
    "        stack = []\r\n",
    "\r\n",
    "        for s in tokens:\r\n",
    "            if s in ['+', '-', '*', '/']: \r\n",
    "                # 如果是符号，把处于栈顶的两个数字出栈计算\r\n",
    "                b = stack.pop()\r\n",
    "                a = stack.pop()\r\n",
    "                if s == '+':\r\n",
    "                    stack.append(a+b)\r\n",
    "                elif s == '-':\r\n",
    "                    stack.append(a-b)\r\n",
    "                elif s == '*':\r\n",
    "                    stack.append(a*b)\r\n",
    "                else:\r\n",
    "                    stack.append(int(a/b))\r\n",
    "            else: # 是数字就直接进栈\r\n",
    "                stack.append(int(s))\r\n",
    "\r\n",
    "        ans = int(stack.pop())\r\n",
    "        return ans\r\n",
    "\r\n",
    "solution = Solution()\r\n",
    "# s = '9+(3-1)*3+10/2'\r\n",
    "s = '931-3*+92/+'\r\n",
    "solution.evalRPN(s)\r\n",
    "\"\"\"\r\n",
    "该段代码存在的问题：\r\n",
    "1. 只能计算后缀表达式\r\n",
    "2. 表达式中无法保存2为数字，比如10在表达式被认为是两个数字1和0.\r\n",
    "\r\n",
    "\"\"\""
   ]
  },
  {
   "cell_type": "code",
   "execution_count": 14,
   "metadata": {},
   "outputs": [
    {
     "data": {
      "text/plain": [
       "19.5"
      ]
     },
     "execution_count": 14,
     "metadata": {},
     "output_type": "execute_result"
    }
   ],
   "source": [
    "9+(3-1)*3+9/2"
   ]
  },
  {
   "cell_type": "markdown",
   "metadata": {},
   "source": [
    "### 3.3 设计一个有gtmin功能的栈\r\n",
    "\r\n",
    "实现一个特殊的栈，在实现栈的基本功能基础上，再实现返回栈中最小元素的操作。\r\n",
    "\r\n",
    "【要求】\r\n",
    "\r\n",
    "1、pop、push、getmin操作的时间复杂度都是O(1)\r\n",
    "\r\n",
    "2、设计的栈类型可以使用现成的栈结构\r\n",
    "\r\n",
    "在设计上我们会使用两个栈，一个栈用来保存当前的元素，这个功能和正常的栈是没有区别的，stackdata，另一个实现每一步的最小值stackmin.\r\n",
    "\r\n"
   ]
  },
  {
   "cell_type": "markdown",
   "metadata": {},
   "source": [
    "方法一:\r\n",
    "\r\n",
    "栈压入规则\r\n",
    "\r\n",
    "1. 元素压入stackdata中\r\n",
    "2. 如果元素小于等于stackmin栈顶，or stackmin为空，压入stackmin\r\n",
    "\r\n",
    "出栈弹出规则\r\n",
    "\r\n",
    "1. 依次弹出stackdata里面的元素\r\n",
    "2. 把元素和stackmin栈顶元素比较，如果等于，则弹出stackmin栈顶；否则，只是弹出stackdata栈顶\r\n",
    "\r\n",
    "*于是stackmin的栈顶元素始终都是stackdata中的最小值。*"
   ]
  },
  {
   "cell_type": "code",
   "execution_count": 19,
   "metadata": {},
   "outputs": [],
   "source": [
    "class NewStack1:\r\n",
    "    def __init__(self):\r\n",
    "        self.stackData = []\r\n",
    "        self.stackMin = []\r\n",
    "\r\n",
    "        def push(self, newNum):\r\n",
    "            \"\"\"压入规则\r\n",
    "            \"\"\"\r\n",
    "            self.stackData.append(newNum)\r\n",
    "            if len(self.stackMin) == 0 or newNum <= self.getMin():\r\n",
    "                self.stackMin.append(newNum)\r\n",
    "\r\n",
    "        def pop(self):\r\n",
    "            \"\"\"弹出规则\r\n",
    "            \"\"\"\r\n",
    "            # 边界条件判断\r\n",
    "            if len(self.stackData) == 0:\r\n",
    "                raise Exception(\"Stack is empty!\")\r\n",
    "            value = self.stackData.pop()\r\n",
    "            if self.getMin() == value:\r\n",
    "                self.stackMin.pop()\r\n",
    "            return value\r\n",
    "        \r\n",
    "        def getMin(self):\r\n",
    "            if len(self.stackMin) == 0:\r\n",
    "                raise Exception(\"Stack is empty!\")\r\n",
    "            return self.stackMin[-1]\r\n",
    "\r\n",
    "            "
   ]
  },
  {
   "cell_type": "markdown",
   "metadata": {},
   "source": [
    "方法二:\r\n",
    "\r\n",
    "入栈压入规则   \r\n",
    "\r\n",
    "1. 元素压入stackdata中\r\n",
    "2. 如果元素小于等于stackmin栈顶，or stackmin为空，压入stackmin;\r\n",
    "3. 如果大于stackmin栈顶元素，将栈顶重复压入stackmin中(和上面方法的区别)\r\n",
    "\r\n",
    "出栈弹出规则\r\n",
    "\r\n",
    "1. 依次弹出stackdata里面的元素\r\n",
    "2. 同时弹出stackdata和stackmin元素"
   ]
  },
  {
   "cell_type": "code",
   "execution_count": 20,
   "metadata": {},
   "outputs": [],
   "source": [
    "# 设计一个有getMin功能的栈-方法2\r\n",
    "\r\n",
    "class NewStack2:\r\n",
    "    def __init__(self):\r\n",
    "        self.stackData = []\r\n",
    "        self.stackMin = []\r\n",
    "\r\n",
    "    def push(self, newNum):\r\n",
    "        self.stackData.append(newNum)\r\n",
    "        if len(self.stackMin) == 0 or newNum < self.getMin():\r\n",
    "            self.stackMin.append(newNum)\r\n",
    "        else:\r\n",
    "            # 和上面方法的区别\r\n",
    "            self.stackMin.append(self.getMin())\r\n",
    "\r\n",
    "    def pop(self):\r\n",
    "        if len(self.stackData) == 0:\r\n",
    "            raise Exception(\"Stack is empty!\")\r\n",
    "        \r\n",
    "        # 无条件pop\r\n",
    "        self.stackMin.pop()\r\n",
    "        return self.stackData.pop()\r\n",
    "\r\n",
    "    def getMin(self):\r\n",
    "        if len(self.stackMin) == 0:\r\n",
    "            raise Exception(\"Stack is empty!\")\r\n",
    "        return self.stackMin[-1]\r\n"
   ]
  },
  {
   "cell_type": "code",
   "execution_count": null,
   "metadata": {},
   "outputs": [],
   "source": []
  }
 ],
 "metadata": {
  "interpreter": {
   "hash": "9c91df8a30f2ca0588df6ae5802e19be614d84a80266001c42d6a0fb9a071694"
  },
  "kernelspec": {
   "display_name": "Python 3.8.3 64-bit ('base': conda)",
   "name": "python3"
  },
  "language_info": {
   "codemirror_mode": {
    "name": "ipython",
    "version": 3
   },
   "file_extension": ".py",
   "mimetype": "text/x-python",
   "name": "python",
   "nbconvert_exporter": "python",
   "pygments_lexer": "ipython3",
   "version": "3.8.3"
  },
  "toc": {
   "base_numbering": 1,
   "nav_menu": {},
   "number_sections": true,
   "sideBar": true,
   "skip_h1_title": false,
   "title_cell": "Table of Contents",
   "title_sidebar": "Contents",
   "toc_cell": false,
   "toc_position": {},
   "toc_section_display": true,
   "toc_window_display": false
  },
  "varInspector": {
   "cols": {
    "lenName": 16,
    "lenType": 16,
    "lenVar": 40
   },
   "kernels_config": {
    "python": {
     "delete_cmd_postfix": "",
     "delete_cmd_prefix": "del ",
     "library": "var_list.py",
     "varRefreshCmd": "print(var_dic_list())"
    },
    "r": {
     "delete_cmd_postfix": ") ",
     "delete_cmd_prefix": "rm(",
     "library": "var_list.r",
     "varRefreshCmd": "cat(var_dic_list()) "
    }
   },
   "types_to_exclude": [
    "module",
    "function",
    "builtin_function_or_method",
    "instance",
    "_Feature"
   ],
   "window_display": false
  }
 },
 "nbformat": 4,
 "nbformat_minor": 2
}