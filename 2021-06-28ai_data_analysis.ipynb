{
 "cells": [
  {
   "cell_type": "markdown",
   "source": [
    "# ai酱数据分析课程笔记"
   ],
   "metadata": {}
  },
  {
   "cell_type": "markdown",
   "source": [
    "[toc]\r\n",
    "Learning records:\r\n",
    "2021-06-28 笔记01-03\r\n",
    "\r\n",
    "\r\n",
    "\r\n"
   ],
   "metadata": {}
  },
  {
   "cell_type": "markdown",
   "source": [
    "## 数据分析课程笔记 - 00 - 环境安装\n",
    "\n",
    "安装Anaconda和MySql，见链接\n",
    "https://www.jianshu.com/p/1daa5934a2b8\n"
   ],
   "metadata": {}
  },
  {
   "cell_type": "markdown",
   "source": [
    "## 数据分析课程 - 01 - Python基础知识（一）\r\n",
    "\r\n",
    "### 一、变量与赋值\r\n",
    "\r\n",
    "1. 变量定义形式\r\n",
    "> 变量名=数据\r\n",
    "\r\n",
    "2. 常用数据类型\r\n",
    "\r\n",
    "•字符串（str）\r\n",
    "\r\n",
    "•整数（int）\r\n",
    "\r\n",
    "•浮点数（float）\r\n",
    "\r\n",
    "•布尔值（bool）\r\n",
    "\r\n",
    "•列表（list）\r\n",
    "\r\n",
    "•元组（tuple）\r\n",
    "\r\n",
    "•字典（dict）\r\n",
    "\r\n",
    "•集合（set）\r\n",
    "\r\n",
    "3. 变量的命名规则\r\n",
    "\r\n",
    "**（1）变量名**\r\n",
    "\r\n",
    "> 由字母、数字、下划线组成，且不能以数字开头。\r\n",
    "\r\n",
    "注意：不要使用关键字作为变量名。\r\n",
    "```Python\r\n",
    "# Python 中的关键字\r\n",
    "['False', 'None', 'True', 'and', 'as', 'assert', 'async', \r\n",
    "'await', 'break', 'class', 'continue', 'def', 'del', 'elif',\r\n",
    " 'else', 'except', 'finally', 'for', 'from', 'global', 'if',\r\n",
    "  'import', 'in', 'is', 'lambda', 'nonlocal', 'not', 'or', \r\n",
    "  'pass', 'raise', 'return', 'try', 'while', 'with', 'yield']\r\n",
    "```\r\n",
    "\r\n",
    "**（2）变量命名方式**\r\n",
    "驼峰命名法：\r\n",
    "\r\n",
    "•大驼峰：每个单词首字母都大写：PageNum\r\n",
    "\r\n",
    "•小驼峰：第一个单词首字母小写，其他单词首字母大写：pageNum\r\n",
    "\r\n",
    "下划线命名法：\r\n",
    "\r\n",
    "•单词都使用小写字母，用下划线连接：page_num\r\n"
   ],
   "metadata": {}
  },
  {
   "cell_type": "markdown",
   "source": [
    "4. 常用的数据类型转换函数\n",
    "\n",
    "|函数\t|   说明 |\n",
    "| ---  | --- |\n",
    "|int(x [,base ]) |\t将x转换为一个整数，后面一个参数为进制，如 int('ff', 16) 结果为 255|\n",
    "|ﬂoat(x)|\t将x转换为一个浮点数|\n",
    "|complex(real [,imag])|\t创建一个复数*，real为实部，imag为虚部|\n",
    "|str(x)|\t将 x 转换为字符串|\n",
    "|repr(x)|\t将 x 转换为表达式字符串，返回结果是给 x 加个双引号|\n",
    "|eval(str)|\t用来计算在字符串中的有效Python表达式，并返回表达式结果|\n",
    "|tuple(s)|\t将序列 s 转换为一个元组|\n",
    "|list(s)|\t将序列 s 转换为一个列表|\n",
    "|chr(x)|\t将一个整数转换为一个Unicode字符|\n",
    "|ord(x)|\t将一个字符转换为它的ASCII整数值|\n",
    "|hex(x)|\t将一个整数转换为一个十六进制字符串|\n",
    "|oct(x)|\t将一个整数转换为一个八进制字符串|\n",
    "|bin(x)|\t将一个整数转换为一个二进制字符串|\n",
    "> 注*：我们把形如z=a+bi（a,b均为实数）的数称为复数，其中a称为实部，b称为虚部，i称为虚数单位。当z的虚部等于零时，常称z为实数；当z的虚部不等于零时，实部等于零时，常称z为纯虚数。"
   ],
   "metadata": {}
  },
  {
   "cell_type": "markdown",
   "source": [
    "### 二、输入和输出\n",
    "\n",
    "1. 输入和输出"
   ],
   "metadata": {}
  },
  {
   "cell_type": "code",
   "execution_count": 3,
   "source": [
    "# 输入\r\n",
    "name = input()\r\n",
    "# 输出\r\n",
    "print(name)\r\n",
    "print(\"hello world\")\r\n",
    "print(100+200)"
   ],
   "outputs": [
    {
     "output_type": "stream",
     "name": "stdout",
     "text": [
      "\n",
      "hello world\n",
      "300\n"
     ]
    }
   ],
   "metadata": {}
  },
  {
   "cell_type": "markdown",
   "source": [
    "2. 格式化输出"
   ],
   "metadata": {}
  },
  {
   "cell_type": "code",
   "execution_count": 4,
   "source": [
    "# 格式化符号：%s, %d, %f, %s\r\n",
    "# %s: 输出字符串\r\n",
    "# %d：输出int类型数字\r\n",
    "# %f：输出浮点数\r\n",
    "# %x：输出16进制数据\r\n",
    "\r\n",
    "PI = 3.1415926\r\n",
    "print(\"π的值是%.2f\" % PI)\r\n",
    "\r\n",
    "job = \"数据分析师\"\r\n",
    "money = 25000\r\n",
    "print(\"%s的薪资是: %d\" % (job, money))"
   ],
   "outputs": [
    {
     "output_type": "stream",
     "name": "stdout",
     "text": [
      "π的值是3.14\n",
      "数据分析师的薪资是: 25000\n"
     ]
    }
   ],
   "metadata": {}
  },
  {
   "cell_type": "markdown",
   "source": [
    "### 三、运算符\n",
    "1. 算术运算符\n",
    "\n",
    "ython支持以下几种运算符：（假设：x=10, y=20, z = 25）\n",
    "\n",
    "|运算符|\t描述|\t实例|\n",
    "|---|---|---|\n",
    "|+|\t加|\tx + y → 30|\n",
    "|-|\t减|\t负数或减法，x - y → -10|\n",
    "|*|\t乘|\t两个数相乘或是返回一个被重复若干次的字符串，x * y → 200|\n",
    "|/|\t除|\ty / x → 2|\n",
    "|//|\t取整除|\t返回商的整数部分，9//2 → 4，9.0//2.0 → 4.0|\n",
    "|%|\t取余|\t返回除法的余数， z % x → 5|\n",
    "|**\t|指数|\tx**y → 100000000000000000000|\n",
    "\n",
    "> 混合运算时，优先级顺序为：** 高于 * / // % 高于 + - ，为了避免歧义，建议使用 () 来处理运算符优先级。并且，不同类型的数字在进行混合运算时，整数将会转换成浮点数进行运算。"
   ],
   "metadata": {}
  },
  {
   "cell_type": "markdown",
   "source": [
    "2. 赋值运算符\n",
    "\n",
    "\n",
    "|运算符|\t描述|\t实例|\n",
    "|--|--|--|\n",
    "|=|\t赋值运算符|\t把 = 号右边的结果 赋给 左边的变量，如 num = 1 + 2 * 3，结果num的值为7|"
   ],
   "metadata": {}
  },
  {
   "cell_type": "code",
   "execution_count": 5,
   "source": [
    "# 单个变量赋值\n",
    "num = 1000\n",
    "\n",
    "# 多个变量赋值\n",
    "\n",
    "num1, f1, str1, b1 = 100, 3.14, \"hello\", True\n",
    "print(num1, f1, str1, b1)"
   ],
   "outputs": [
    {
     "output_type": "stream",
     "name": "stdout",
     "text": [
      "100 3.14 hello True\n"
     ]
    }
   ],
   "metadata": {}
  },
  {
   "cell_type": "markdown",
   "source": [
    "3. 复合赋值运算符\n",
    "\n",
    "|运算符|\t描述|\t实例|\n",
    "|---|---|---|\n",
    "|+=|\t加法赋值运算符|\tz += x 等效于 z = z + x|\n",
    "|-=|\t减法赋值运算符|\tz -= x 等效于 z = z - x|\n",
    "|*=|\t乘法赋值运算符|\tz *= x 等效于 z = z * x|\n",
    "|/=|\t除法赋值运算符|\tz /= x 等效于 z = z/ x|\n",
    "|%=|\t取模赋值运算符|\tz%= x 等效于 z = z% x|\n",
    "|**=|\t幂赋值运算符|\tz** = x 等效于 z= z**x|\n",
    "|//=\t取整除赋值运算符|\tz //= x 等效于 z = z // x"
   ],
   "metadata": {}
  },
  {
   "cell_type": "code",
   "execution_count": 6,
   "source": [
    "z = 10\n",
    "z//=3\n",
    "print(z)"
   ],
   "outputs": [
    {
     "output_type": "stream",
     "name": "stdout",
     "text": [
      "3\n"
     ]
    }
   ],
   "metadata": {}
  },
  {
   "cell_type": "markdown",
   "source": [
    "4. 比较（关系）运算符\n",
    "\n",
    "Python语言支持比较运算符：（假设：x 为 10, y为 20）\n",
    "\n",
    "|运算符|\t描述|\t实例|\n",
    "|--|--|--|\n",
    "|==|\t等于 - 比较对象是否相等|\t(x == y) 返回 False|\n",
    "|!=|\t不等于 - 比较两个对象是否不相等|\t(x != y) 返回 True|\n",
    "|>|\t大于 - 返回x是否大于y|\t(x > y) 返回 False|\n",
    "|<|\t小于 - 返回x是否小于y。所有比较运算符返回1表示真，返回0表示假。|\t(x < y) 返回 True\n",
    "|>=|\t大于等于 - 返回x是否大于等于y|\t(x >= y) 返回 False|\n",
    "|<=|\t小于等于 - 返回x是否小于等于y|\t(x <= y) 返回 True|\n",
    "\n",
    "\n"
   ],
   "metadata": {}
  },
  {
   "cell_type": "markdown",
   "source": [
    "5. 逻辑运算符\n",
    "\n",
    "Python语言支持逻辑运算符：（假设：变量 x 为 True, y 为 False）\n",
    "\n",
    "|运算符|\t描述|\t实例|\n",
    "|--|--|--|\n",
    "|and|\t布尔\"与\"|\tx and y 返回False|\n",
    "|or|\t布尔\"或\"|\tx or y 返回 True|\n",
    "|not|\t布尔\"非\"|\tnot x 返回False|"
   ],
   "metadata": {}
  },
  {
   "cell_type": "markdown",
   "source": [
    "### 四、if语句\n",
    "\n",
    "1. 条件判断\n",
    "\n",
    "Python语言print输出默认带有换行"
   ],
   "metadata": {}
  },
  {
   "cell_type": "code",
   "execution_count": 7,
   "source": [
    "age = 20\r\n",
    "if age >= 18:\r\n",
    "    print('your age is', age)\r\n",
    "    # print('your age is', age, end='\\n')\r\n",
    "    print('adult')"
   ],
   "outputs": [
    {
     "output_type": "stream",
     "name": "stdout",
     "text": [
      "your age is 20\n",
      "adult\n"
     ]
    }
   ],
   "metadata": {}
  },
  {
   "cell_type": "markdown",
   "source": [
    "2. if ... else 条件判断："
   ],
   "metadata": {}
  },
  {
   "cell_type": "code",
   "execution_count": 8,
   "source": [
    "age = 6\r\n",
    "if age >= 18:\r\n",
    "    print(\"你的年龄\", age)\r\n",
    "    print(\"成年\")\r\n",
    "else:\r\n",
    "    print(\"你的年龄\", age)\r\n",
    "    print(\"未成年\")"
   ],
   "outputs": [
    {
     "output_type": "stream",
     "name": "stdout",
     "text": [
      "你的年龄 6\n",
      "未成年\n"
     ]
    }
   ],
   "metadata": {}
  },
  {
   "cell_type": "markdown",
   "source": [
    "3. if...elif...else 条件判断："
   ],
   "metadata": {}
  },
  {
   "cell_type": "code",
   "execution_count": 9,
   "source": [
    "age = 6\r\n",
    "if age >= 18:\r\n",
    "    print(\"成年\")\r\n",
    "elif age >= 7:\r\n",
    "    print(\"青少年\")\r\n",
    "else:\r\n",
    "    print(\"儿童\")"
   ],
   "outputs": [
    {
     "output_type": "stream",
     "name": "stdout",
     "text": [
      "儿童\n"
     ]
    }
   ],
   "metadata": {}
  },
  {
   "cell_type": "markdown",
   "source": [
    "可以有多个 elif：\n",
    "\n",
    "```Python\n",
    "if <条件判断1>:\n",
    "    <执行1>\n",
    "elif <条件判断2>:\n",
    "    <执行2>\n",
    "elif <条件判断3>:\n",
    "    <执行3> \n",
    "else:\n",
    "    <执行4>\n",
    "```\n",
    "\n",
    "> 注意： if 语句执行时是从上往下判断，如果在某个判断上是 True ，把该判断对应的语句执行后，就会忽略掉剩下的 elif 和 else.**因此在设置条件的时候一定要把各个语句的判断条件设置成相互独立的集合，不要存在交集。**"
   ],
   "metadata": {}
  },
  {
   "cell_type": "markdown",
   "source": [
    "### 五、循环\n",
    "\n",
    "1. while循环\n",
    "\n",
    "**while循环主要用于在满足一定条件的情况下执行重复任务。**\n",
    "\n",
    "语法：\n",
    "```Python\n",
    "while 条件:\n",
    "    条件满足时，做的事情1 \n",
    "    条件满足时，做的事情2 \n",
    "    条件满足时，做的事情3\n",
    "    ...(省略)...\n",
    "```"
   ],
   "metadata": {}
  },
  {
   "cell_type": "code",
   "execution_count": 10,
   "source": [
    "i = 1\r\n",
    "while i <= 10:\r\n",
    "    print(\"Hello world\")\r\n",
    "    i+=1"
   ],
   "outputs": [
    {
     "output_type": "stream",
     "name": "stdout",
     "text": [
      "Hello world\n",
      "Hello world\n",
      "Hello world\n",
      "Hello world\n",
      "Hello world\n",
      "Hello world\n",
      "Hello world\n",
      "Hello world\n",
      "Hello world\n",
      "Hello world\n"
     ]
    }
   ],
   "metadata": {}
  },
  {
   "cell_type": "markdown",
   "source": [
    "2. for循环\n",
    "**for循环主要用于遍历。**\n",
    "遍历字符串"
   ],
   "metadata": {}
  },
  {
   "cell_type": "code",
   "execution_count": 11,
   "source": [
    "names = ['Mike', 'HuaHua', 'Jay']\r\n",
    "for name in names:\r\n",
    "    print(name)"
   ],
   "outputs": [
    {
     "output_type": "stream",
     "name": "stdout",
     "text": [
      "Mike\n",
      "HuaHua\n",
      "Jay\n"
     ]
    }
   ],
   "metadata": {}
  },
  {
   "cell_type": "markdown",
   "source": [
    "所以 for x in ... 循环就是把每个元素代入变量 x ，然后执行缩进块的语句。\n",
    "\n",
    "变量累加："
   ],
   "metadata": {}
  },
  {
   "cell_type": "code",
   "execution_count": 12,
   "source": [
    "sum = 0\r\n",
    "for x in range(1,11):\r\n",
    "    sum += x\r\n",
    "print(sum)"
   ],
   "outputs": [
    {
     "output_type": "stream",
     "name": "stdout",
     "text": [
      "55\n"
     ]
    }
   ],
   "metadata": {}
  },
  {
   "cell_type": "markdown",
   "source": [
    "3. range() 函数\n",
    "\n",
    "range() 函数的语法是 range（start， end， scan)，start 是开始数，end是结尾数，scan是跳跃间距，默认从0开始，**取开头不取结尾**，因此从1到10就写成 range(1,11)，如果是取从 1-10 的奇数就写成 range(1,10,2)。如果写成 range(10)，就代表从 0 到 9 这 10 个数。"
   ],
   "metadata": {}
  },
  {
   "cell_type": "markdown",
   "source": [
    "4. break\n",
    "\n",
    "**break 语句的作用是可以提前退出循环。**\n",
    "\n",
    "例如，我们希望在 m 大于 10 的时候就提前退出循环："
   ],
   "metadata": {}
  },
  {
   "cell_type": "code",
   "execution_count": 13,
   "source": [
    "m = 1\n",
    "while m <= 50:\n",
    "    if m > 10:\n",
    "        break\n",
    "    print(m)\n",
    "    m += 1\n",
    "print(\"END\")"
   ],
   "outputs": [
    {
     "output_type": "stream",
     "name": "stdout",
     "text": [
      "1\n",
      "2\n",
      "3\n",
      "4\n",
      "5\n",
      "6\n",
      "7\n",
      "8\n",
      "9\n",
      "10\n",
      "END\n"
     ]
    }
   ],
   "metadata": {}
  },
  {
   "cell_type": "markdown",
   "source": [
    "5. continue\n",
    "\n",
    "在循环过程中，也可以通过 continue 语句，**跳过当前的这次循环，直接开始下一次循环。**\n",
    "\n",
    "如果我们想打印 1-10 中的奇数，可以用 continue 语句跳过某些循环："
   ],
   "metadata": {}
  },
  {
   "cell_type": "code",
   "execution_count": 14,
   "source": [
    "n = 0\r\n",
    "while n < 10:\r\n",
    "    n += 1\r\n",
    "    if n % 2 == 0:\r\n",
    "        continue\r\n",
    "    print(n)"
   ],
   "outputs": [
    {
     "output_type": "stream",
     "name": "stdout",
     "text": [
      "1\n",
      "3\n",
      "5\n",
      "7\n",
      "9\n"
     ]
    }
   ],
   "metadata": {}
  },
  {
   "cell_type": "markdown",
   "source": [
    "## 数据分析课程 - 02 - Python基础知识（二）：数据容器\n",
    "\n",
    "全面梳理了 Python 的几种数据容器：字符串、列表、字典、元组、集合的定义、特性以及一些增删改查的基本操作。之前学得比较零碎，或者概念比较混淆的同学也可以系统地过一遍加深印象、进一步理解和区分这几种数据容器。"
   ],
   "metadata": {}
  },
  {
   "cell_type": "markdown",
   "source": [
    "### 一、字符串（str）\n",
    "1. 字符串的定义\n",
    "\n",
    "被单引号、双引号、三引号包围的字符组，就是字符串，例如：\n"
   ],
   "metadata": {}
  },
  {
   "cell_type": "code",
   "execution_count": 15,
   "source": [
    "str = 'hello'\r\n",
    "str = 'world'\r\n",
    "str = \"\"\"hello\r\n",
    "        Python\"\"\""
   ],
   "outputs": [],
   "metadata": {}
  },
  {
   "cell_type": "markdown",
   "source": [
    "2. 下标和切片\n",
    "\n",
    "（1）下标索引\n",
    "\n",
    "根据下标找到元素位置，索引从 0 开始："
   ],
   "metadata": {}
  },
  {
   "cell_type": "code",
   "execution_count": 16,
   "source": [
    "name = 'zhangsan'\r\n",
    "print(name[2])"
   ],
   "outputs": [
    {
     "output_type": "stream",
     "name": "stdout",
     "text": [
      "a\n"
     ]
    }
   ],
   "metadata": {}
  },
  {
   "cell_type": "markdown",
   "source": [
    "（2）切片\n",
    "\n",
    "利用下表索引从字符串里截取一段元素，切片的语法是: [起始:结束:步长]。字符串、列表、元组都支持切片操作。"
   ],
   "metadata": {}
  },
  {
   "cell_type": "code",
   "execution_count": 17,
   "source": [
    "name = 'abcdef'\r\n",
    "print(name[0:3])\r\n",
    "print(name[3:5])\r\n",
    "print(name[2:])\r\n",
    "print(name[1:-1])\r\n",
    "\r\n",
    "a = 'abcdef'\r\n",
    "print(a[:3])\r\n",
    "print(a[::2])\r\n",
    "print(a[5:1:2])\r\n",
    "print(a[1:5:2])\r\n",
    "print(a[::-2])\r\n",
    "print(a[5:1:-2])"
   ],
   "outputs": [
    {
     "output_type": "stream",
     "name": "stdout",
     "text": [
      "abc\n",
      "de\n",
      "cdef\n",
      "bcde\n",
      "abc\n",
      "ace\n",
      "\n",
      "bd\n",
      "fdb\n",
      "fd\n"
     ]
    }
   ],
   "metadata": {}
  },
  {
   "cell_type": "markdown",
   "source": [
    "3. 字符串的增删改查\n",
    "\n",
    "假如有字符串 mystr = 'hello world kkb'：\n",
    "\n",
    "#### ***（1）查***：\n",
    " ﬁnd、index、count、startswith、endswith、rﬁnd、rindex\n",
    "\n",
    "① find\n",
    "\n",
    "检测 str 是否包含在 mystr 中，如果是，返回开始的索引值，否则返回-1\n",
    "```Python\n",
    "mystr.find(str, start=0, end=len(mystr))\n",
    "```"
   ],
   "metadata": {}
  },
  {
   "cell_type": "code",
   "execution_count": 18,
   "source": [
    "mystr = 'hello world kkb'\n",
    "mystr.find(\"kkb\")\n",
    "mystr.find(\"kkb\", 0, 10)"
   ],
   "outputs": [
    {
     "output_type": "execute_result",
     "data": {
      "text/plain": [
       "-1"
      ]
     },
     "metadata": {},
     "execution_count": 18
    }
   ],
   "metadata": {}
  },
  {
   "cell_type": "markdown",
   "source": [
    "② index\n",
    "\n",
    "跟 find() 方法一样，只不过如果 str 不在 mystr 中会报一个异常。\n",
    "```Python\n",
    "mystr.index(str, start=0, end=len(mystr))\n",
    "```"
   ],
   "metadata": {}
  },
  {
   "cell_type": "code",
   "execution_count": 19,
   "source": [
    "mystr = 'hello world kkb'\n",
    "mystr.index(\"ab\")"
   ],
   "outputs": [
    {
     "output_type": "error",
     "ename": "ValueError",
     "evalue": "substring not found",
     "traceback": [
      "\u001b[1;31m---------------------------------------------------------------------------\u001b[0m",
      "\u001b[1;31mValueError\u001b[0m                                Traceback (most recent call last)",
      "\u001b[1;32m<ipython-input-19-d6ac757e5ced>\u001b[0m in \u001b[0;36m<module>\u001b[1;34m\u001b[0m\n\u001b[0;32m      1\u001b[0m \u001b[0mmystr\u001b[0m \u001b[1;33m=\u001b[0m \u001b[1;34m'hello world kkb'\u001b[0m\u001b[1;33m\u001b[0m\u001b[1;33m\u001b[0m\u001b[0m\n\u001b[1;32m----> 2\u001b[1;33m \u001b[0mmystr\u001b[0m\u001b[1;33m.\u001b[0m\u001b[0mindex\u001b[0m\u001b[1;33m(\u001b[0m\u001b[1;34m\"ab\"\u001b[0m\u001b[1;33m)\u001b[0m\u001b[1;33m\u001b[0m\u001b[1;33m\u001b[0m\u001b[0m\n\u001b[0m",
      "\u001b[1;31mValueError\u001b[0m: substring not found"
     ]
    }
   ],
   "metadata": {}
  },
  {
   "cell_type": "markdown",
   "source": [
    "③ count\n",
    "\n",
    "返回 str 在 start 和 end 之间 在 mystr 里出现的次数：\n",
    "```Python\n",
    "mystr.count(str, start=0, end=len(mystr))\n",
    "```"
   ],
   "metadata": {}
  },
  {
   "cell_type": "code",
   "execution_count": null,
   "source": [
    "mystr = 'hello world kkb and kkb'\n",
    "mystr.count('kkb')"
   ],
   "outputs": [
    {
     "output_type": "execute_result",
     "data": {
      "text/plain": [
       "2"
      ]
     },
     "metadata": {},
     "execution_count": 42
    }
   ],
   "metadata": {}
  },
  {
   "cell_type": "markdown",
   "source": [
    "④ startswith\n",
    "\n",
    "检查字符串是否是以 hello 开头，是则返回 True ，否则返回 False："
   ],
   "metadata": {}
  },
  {
   "cell_type": "code",
   "execution_count": null,
   "source": [
    "mystr.startswith('hello')"
   ],
   "outputs": [
    {
     "output_type": "execute_result",
     "data": {
      "text/plain": [
       "True"
      ]
     },
     "metadata": {},
     "execution_count": 43
    }
   ],
   "metadata": {}
  },
  {
   "cell_type": "markdown",
   "source": [
    "⑤ endswith\n",
    "\n",
    "检查字符串是否以 obj 结束，如果是返回 True ，否则返回 False："
   ],
   "metadata": {}
  },
  {
   "cell_type": "code",
   "execution_count": null,
   "source": [
    "mystr.endswith('kkb')"
   ],
   "outputs": [
    {
     "output_type": "execute_result",
     "data": {
      "text/plain": [
       "True"
      ]
     },
     "metadata": {},
     "execution_count": 45
    }
   ],
   "metadata": {}
  },
  {
   "cell_type": "markdown",
   "source": [
    "⑥ rﬁnd\n",
    "\n",
    "类似于 find() 函数，不过是从右边开始查找：\n",
    "```Python\n",
    "mystr.rfind(str, start=0, end=len(mystr))\n",
    "```"
   ],
   "metadata": {}
  },
  {
   "cell_type": "markdown",
   "source": [
    "⑦ rindex\n",
    "\n",
    "类似于 index() ，不过是从右边开始：\n",
    "```Python\n",
    "mystr.rindex(str, start=0, end=len(mystr))\n",
    "```"
   ],
   "metadata": {}
  },
  {
   "cell_type": "markdown",
   "source": [
    "#### （2）增\n",
    "\n",
    "join\n",
    "\n",
    "mystr 中每个元素后面插入 str ,构造出一个新的字符串：\n",
    "```Python\n",
    "str.join(mystr)\n",
    "```\n"
   ],
   "metadata": {}
  },
  {
   "cell_type": "code",
   "execution_count": null,
   "source": [
    "str1 = \"1234\"\n",
    "mystr = \"abcd\"\n",
    "str1.join(mystr)"
   ],
   "outputs": [
    {
     "output_type": "execute_result",
     "data": {
      "text/plain": [
       "'a1234b1234c1234d'"
      ]
     },
     "metadata": {},
     "execution_count": 47
    }
   ],
   "metadata": {}
  },
  {
   "cell_type": "markdown",
   "source": [
    "#### （3）删\n",
    "\n",
    "① lstrip\n",
    "\n",
    "删除 mystr 左边的空白字符：\n",
    "```Python\n",
    "mystr.lstrip()\n",
    "```\n",
    "\n",
    "② rstrip\n",
    "\n",
    "删除 mystr 字符串末尾的空白字符：\n",
    "```Python\n",
    "mystr.rstrip()\n",
    "```\n",
    "③ strip\n",
    "\n",
    "删除 mystr 字符串两端的空白字符：\n"
   ],
   "metadata": {}
  },
  {
   "cell_type": "code",
   "execution_count": null,
   "source": [
    "a = \"\\n\\t kkb \\t\\n\"\n",
    "a.strip()"
   ],
   "outputs": [
    {
     "output_type": "execute_result",
     "data": {
      "text/plain": [
       "'kkb'"
      ]
     },
     "metadata": {},
     "execution_count": 48
    }
   ],
   "metadata": {}
  },
  {
   "cell_type": "markdown",
   "source": [
    "#### （4）改\n",
    "\n",
    "① replace\n",
    "\n",
    "把 mystr 中的 str1 替换成 str2，如果 count 指定，则替换不超过 count 次：\n",
    "```Python\n",
    "mystr.replace(str1, str2, mystr.count(str1))\n",
    "```\n",
    "\n",
    "② split\n",
    "\n",
    "以 str 为分隔符切片 mystr ，如果 maxsplit 有指定值，则仅分隔 maxsplit 个子字符串：\n",
    "\n",
    "```Python\n",
    "mystr.split(str=\" \", 2)\n",
    "```\n",
    "\n",
    "③ capitalize\n",
    "\n",
    "把字符串的第一个字符大写：\n",
    "```Python\n",
    "mystr.capitalize()\n",
    "```"
   ],
   "metadata": {}
  },
  {
   "cell_type": "markdown",
   "source": [
    "④ title\n",
    "\n",
    "返回“标题化”的字符串，所有单词都以大写开始，其余字母均为小写：\n"
   ],
   "metadata": {}
  },
  {
   "cell_type": "code",
   "execution_count": null,
   "source": [
    "a = \"hello kkb\"\n",
    "a.title()"
   ],
   "outputs": [
    {
     "output_type": "execute_result",
     "data": {
      "text/plain": [
       "'Hello Kkb'"
      ]
     },
     "metadata": {},
     "execution_count": 49
    }
   ],
   "metadata": {}
  },
  {
   "cell_type": "markdown",
   "source": [
    "⑤ lower\n",
    "\n",
    "转换 mystr 中所有大写字符为小写："
   ],
   "metadata": {}
  },
  {
   "cell_type": "code",
   "execution_count": null,
   "source": [
    "mystr.lower()"
   ],
   "outputs": [
    {
     "output_type": "execute_result",
     "data": {
      "text/plain": [
       "'abcd'"
      ]
     },
     "metadata": {},
     "execution_count": 50
    }
   ],
   "metadata": {}
  },
  {
   "cell_type": "markdown",
   "source": [
    "⑥ upper\n",
    "\n",
    "转换 mystr 中的小写字母为大写："
   ],
   "metadata": {}
  },
  {
   "cell_type": "code",
   "execution_count": null,
   "source": [
    "mystr.upper()"
   ],
   "outputs": [
    {
     "output_type": "execute_result",
     "data": {
      "text/plain": [
       "'ABCD'"
      ]
     },
     "metadata": {},
     "execution_count": 51
    }
   ],
   "metadata": {}
  },
  {
   "cell_type": "markdown",
   "source": [
    "⑦ ljust\n",
    "\n",
    "返回一个原字符串左对齐，并使用空格填充至 width 长度的新字符串：\n",
    "```Python\n",
    "mystr.ljust(width)\n",
    "```\n",
    "\n",
    "⑧ rjust\n",
    "\n",
    "返回一个原字符串右对齐，并使用空格填充至长度 width 的新字符串：\n",
    "```Python\n",
    "mystr.rjust(width)\n",
    "```\n",
    "\n",
    "⑨ center\n",
    "\n",
    "返回一个原字符串居中，并使用空格填充至 width 长度的新字符串：\n",
    "```Python\n",
    "mystr.center(width)\n",
    "```\n",
    "\n",
    "⑩ partition\n",
    "\n",
    "把 mystr 以 str 分割成三部分，str 前、str 和 str 后：\n",
    "```Python\n",
    "mystr.partition(str)\n",
    "```\n",
    "\n",
    "⑪ rpartition\n",
    "\n",
    "类似于 partition() 函数，不过是从右边开始：\n",
    "```Python\n",
    "mystr.rpartition(str)\n",
    "```\n",
    "\n",
    "⑫ splitlines\n",
    "\n",
    "按照行分隔，返回一个包含各行作为元素的列表：\n",
    "```Python\n",
    "mystr.splitlines()\n",
    "```"
   ],
   "metadata": {}
  },
  {
   "cell_type": "markdown",
   "source": [
    "### 二、列表（list）\n",
    "1. 列表简介\n",
    "列表是一种有序的集合，可以随时添加和删除其中的元素，写在方括号之间、用逗号分隔开的数值列表。列表内的项目不必全是相同的类型（这点是比C语言的数组强大的地方）。\n",
    "\n",
    "例如："
   ],
   "metadata": {}
  },
  {
   "cell_type": "code",
   "execution_count": null,
   "source": [
    "list1 = ['Mike', '张三', 25000, 99.99, True]"
   ],
   "outputs": [],
   "metadata": {}
  },
  {
   "cell_type": "markdown",
   "source": [
    "2. 列表的增删改查\n",
    "\n",
    "（1）列表的长度\n"
   ],
   "metadata": {}
  },
  {
   "cell_type": "code",
   "execution_count": null,
   "source": [
    "# 用len()函数可以获得list元素的个数：\n",
    "nameList = ['xiaoWang', 'xiaoZhang', 'xiaoHua']\n",
    "len(nameList)"
   ],
   "outputs": [
    {
     "output_type": "execute_result",
     "data": {
      "text/plain": [
       "3"
      ]
     },
     "metadata": {},
     "execution_count": 53
    }
   ],
   "metadata": {}
  },
  {
   "cell_type": "markdown",
   "source": [
    "（2）列表的访问\n",
    "\n",
    "用索引来访问 list 中每一个位置的元素，与字符串的索引相同，列表的索引也是从0开始的："
   ],
   "metadata": {}
  },
  {
   "cell_type": "code",
   "execution_count": null,
   "source": [
    "nameList = ['Tony', 'Rose', 'Lucy']\n",
    "print(nameList[0])\n",
    "print(nameList[1])\n",
    "print(nameList[2])"
   ],
   "outputs": [
    {
     "output_type": "stream",
     "name": "stdout",
     "text": [
      "Tony\n",
      "Rose\n",
      "Lucy\n"
     ]
    }
   ],
   "metadata": {}
  },
  {
   "cell_type": "markdown",
   "source": [
    "如果索引超出当前列表范围，例如如果输入 print(namesList[3])，系统就会报错：IndexError: list index out of range。所以，要确保索引不越界，最后一个元素的索引是 len(classmates) - 1。\n",
    "\n",
    "此外，还可以通过 -1来取最后一个元素："
   ],
   "metadata": {}
  },
  {
   "cell_type": "code",
   "execution_count": null,
   "source": [
    "print(nameList[-1])"
   ],
   "outputs": [
    {
     "output_type": "stream",
     "name": "stdout",
     "text": [
      "Lucy\n"
     ]
    }
   ],
   "metadata": {}
  },
  {
   "cell_type": "code",
   "execution_count": null,
   "source": [
    "# 以此类推，-2、-3 可以获取倒数第2个、倒数第3个元素：\n",
    "print(nameList[-1])\n",
    "print(nameList[-2])\n",
    "print(nameList[-3])"
   ],
   "outputs": [
    {
     "output_type": "stream",
     "name": "stdout",
     "text": [
      "Lucy\n",
      "Rose\n",
      "Tony\n"
     ]
    }
   ],
   "metadata": {}
  },
  {
   "cell_type": "markdown",
   "source": [
    "（3）列表的切片\n",
    "\n",
    "切片是根据下标的范围获取一部分数据。\n",
    "\n",
    "切片的使用格式：\n",
    "`数据[起始下标:结束下标:步长]`\n",
    "\n",
    "> 注意：起始下标默认0， 结束下标是不包含（也就是取左不取右）， 步长默认是1"
   ],
   "metadata": {}
  },
  {
   "cell_type": "code",
   "execution_count": null,
   "source": [
    "# 使用切片的方式\n",
    "my_str = ['Mike', '张三', 25000, 9.9, True]\n",
    "result = my_str[1:4:1]\n",
    "print(result)\n",
    "\n",
    "# 前三个\n",
    "result = my_str[0:3]\n",
    "print(result)\n",
    "result = my_str[:3]\n",
    "print(result)"
   ],
   "outputs": [
    {
     "output_type": "stream",
     "name": "stdout",
     "text": [
      "['张三', 25000, 9.9]\n",
      "['Mike', '张三', 25000]\n",
      "['Mike', '张三', 25000]\n"
     ]
    }
   ],
   "metadata": {}
  },
  {
   "cell_type": "markdown",
   "source": [
    "（4）添加元素（append、extend、insert）\n",
    "\n",
    "通过 append 可以向列表添加元素："
   ],
   "metadata": {}
  },
  {
   "cell_type": "code",
   "execution_count": null,
   "source": [
    "# 定义变量A，默认有3个元素\n",
    "nameListA = ['ZhangSan', 'LiSi', 'WangWu']\n",
    "\n",
    "print(\"-----添加之前，列表A的数据-----\")\n",
    "for tempName in nameListA:\n",
    "    print(tempName)\n",
    "\n",
    "# 提示、并添加元素\n",
    "temp = input(\"请输入要添加的学生姓名：\")\n",
    "nameListA.append(temp)\n",
    "\n",
    "print(\"-----添加之后，列表A的数据-----\")\n",
    "for tempName in nameListA:\n",
    "    print(tempName)"
   ],
   "outputs": [
    {
     "output_type": "stream",
     "name": "stdout",
     "text": [
      "-----添加之前，列表A的数据-----\n",
      "ZhangSan\n",
      "LiSi\n",
      "WangWu\n",
      "-----添加之后，列表A的数据-----\n",
      "ZhangSan\n",
      "LiSi\n",
      "WangWu\n",
      "Chenfeng\n"
     ]
    }
   ],
   "metadata": {}
  },
  {
   "cell_type": "markdown",
   "source": [
    "通过 extend 可以将另一个集合中的元素逐一添加到列表中："
   ],
   "metadata": {}
  },
  {
   "cell_type": "code",
   "execution_count": null,
   "source": [
    "# append\n",
    "a = [1, 2, 3]\n",
    "b =[4, 5, 6]\n",
    "a.append(b)\n",
    "print(a)\n",
    "\n",
    "# extend\n",
    "a = [1, 2, 3]\n",
    "b =[4, 5, 6]\n",
    "a.extend(b)\n",
    "print(a)\n",
    "\n",
    "# insert\n",
    "# insert(index, object)` 在指定位置`index`前插入元素`object \n",
    "a = [1, 2, 3]\n",
    "a.insert(1, 100)\n",
    "print(a)\n"
   ],
   "outputs": [
    {
     "output_type": "stream",
     "name": "stdout",
     "text": [
      "[1, 2, 3, [4, 5, 6]]\n",
      "[1, 2, 3, 4, 5, 6]\n",
      "[1, 100, 2, 3]\n"
     ]
    }
   ],
   "metadata": {}
  },
  {
   "cell_type": "markdown",
   "source": [
    "（5）修改元素\n",
    "\n",
    "修改元素时，要通过下标来确定要修改哪个元素，然后才能进行修改："
   ],
   "metadata": {}
  },
  {
   "cell_type": "code",
   "execution_count": null,
   "source": [
    "# 定义变量namesListA, 默认有4个元素\n",
    "namesListA = ['ZhangSan', 'LiSi', 'WangWu', 'ZhaoLiu']\n",
    "\n",
    "print(\"修改之前，列表A的数据\")\n",
    "for tempName in namesListA:\n",
    "    print(tempName)\n",
    "\n",
    "# 修改元素\n",
    "namesListA[1] = '张三'\n",
    "print(\"修改之后，列表A的数据\")\n",
    "for tempName in namesListA:\n",
    "    print(tempName)"
   ],
   "outputs": [
    {
     "output_type": "stream",
     "name": "stdout",
     "text": [
      "修改之前，列表A的数据\n",
      "ZhangSan\n",
      "LiSi\n",
      "WangWu\n",
      "ZhaoLiu\n",
      "修改之后，列表A的数据\n",
      "ZhangSan\n",
      "张三\n",
      "WangWu\n",
      "ZhaoLiu\n"
     ]
    }
   ],
   "metadata": {}
  },
  {
   "cell_type": "markdown",
   "source": [
    "（6）查找元素\n",
    "\n",
    "所谓的查找，即查找指定元素是否存在。\n",
    "\n",
    "python 中查找的常用方法为：\n",
    "\n",
    "•in （存在）,如果存在那么结果为 true ，否则为 false\n",
    "\n",
    "•not in（不存在），如果不存在那么结果为 true ，否则 false"
   ],
   "metadata": {}
  },
  {
   "cell_type": "code",
   "execution_count": null,
   "source": [
    "# 待查找的列表\n",
    "namesListA = ['ZhangSan', 'LiSi', 'WangWu', 'ZhaoLiu']\n",
    "\n",
    "# 获取用户的名字\n",
    "findName = input(\"亲身高和如要查找的姓名：\")\n",
    "\n",
    "# 查找是否存在\n",
    "if findName in namesListA:\n",
    "    print(\"在列表中找到了相同的名字\")\n",
    "else:\n",
    "    print(\"没有找到\")\n",
    "    "
   ],
   "outputs": [
    {
     "output_type": "stream",
     "name": "stdout",
     "text": [
      "在列表中找到了相同的名字\n"
     ]
    }
   ],
   "metadata": {}
  },
  {
   "cell_type": "markdown",
   "source": [
    "index 和 count 与字符串中的用法相同："
   ],
   "metadata": {}
  },
  {
   "cell_type": "code",
   "execution_count": null,
   "source": [
    "a = ['a', 'b', 'c', 'a', 'b']\n",
    "a.index('a', 1, 4)\n",
    "print(a.count('b'))\n",
    "print(a.count('d'))"
   ],
   "outputs": [
    {
     "output_type": "stream",
     "name": "stdout",
     "text": [
      "2\n",
      "0\n"
     ]
    }
   ],
   "metadata": {}
  },
  {
   "cell_type": "markdown",
   "source": [
    "（7）删除元素\n",
    "\n",
    "列表元素的常用删除方法有：\n",
    "\n",
    "•del： 根据下标进行删除；\n",
    "\n",
    "•pop：删除最后一个元素；\n",
    "\n",
    "•remove：根据元素的值进行删除；\n",
    "\n",
    "① del\n"
   ],
   "metadata": {}
  },
  {
   "cell_type": "code",
   "execution_count": null,
   "source": [
    "\n",
    "list1 = ['a','b','c','d','e','f']\n",
    "\n",
    "print('------删除之前------')\n",
    "for tempName in list1: \n",
    "    print(tempName)\n",
    "\n",
    "del list1[2]\n",
    "\n",
    "print('------删除之后------')\n",
    "for tempName in list1: \n",
    "    print(tempName)"
   ],
   "outputs": [
    {
     "output_type": "stream",
     "name": "stdout",
     "text": [
      "------删除之前------\n",
      "a\n",
      "b\n",
      "c\n",
      "d\n",
      "e\n",
      "f\n",
      "------删除之后------\n",
      "a\n",
      "b\n",
      "d\n",
      "e\n",
      "f\n"
     ]
    }
   ],
   "metadata": {}
  },
  {
   "cell_type": "markdown",
   "source": [
    "② pop"
   ],
   "metadata": {}
  },
  {
   "cell_type": "code",
   "execution_count": null,
   "source": [
    "\n",
    "list2 = ['a','b','c','d','e','f']\n",
    "\n",
    "list2.pop()\n",
    "\n",
    "print('------删除之后------')\n",
    "for tempName in list2: \n",
    "    print(tempName)"
   ],
   "outputs": [
    {
     "output_type": "stream",
     "name": "stdout",
     "text": [
      "------删除之后------\n",
      "a\n",
      "b\n",
      "c\n",
      "d\n",
      "e\n"
     ]
    }
   ],
   "metadata": {}
  },
  {
   "cell_type": "markdown",
   "source": [
    "③ remove"
   ],
   "metadata": {}
  },
  {
   "cell_type": "code",
   "execution_count": null,
   "source": [
    "\n",
    "list3 = ['a','b','c','d','e','f']\n",
    "\n",
    "list3.remove('e')\n",
    "\n",
    "print('------删除之后------')\n",
    "for tempName in list3: \n",
    "    print(tempName)\n"
   ],
   "outputs": [
    {
     "output_type": "stream",
     "name": "stdout",
     "text": [
      "------删除之后------\n",
      "a\n",
      "b\n",
      "c\n",
      "d\n",
      "f\n"
     ]
    }
   ],
   "metadata": {}
  },
  {
   "cell_type": "markdown",
   "source": [
    "（8）排序 sort\n",
    "\n",
    "sort 方法是将 list 按特定顺序重新排列，默认为由小到大，参数 reverse=True 可改为倒序，由大到小。reverse 方法是将 list 逆置。"
   ],
   "metadata": {}
  },
  {
   "cell_type": "code",
   "execution_count": null,
   "source": [
    "a = [1, 4, 2, 3]\n",
    "print(a)\n",
    "\n",
    "a.reverse()\n",
    "print(a)\n",
    "\n",
    "a.sort()\n",
    "print(a)\n",
    "a.sort(reverse=True)\n",
    "print(a)"
   ],
   "outputs": [
    {
     "output_type": "stream",
     "name": "stdout",
     "text": [
      "[1, 4, 2, 3]\n",
      "[3, 2, 4, 1]\n",
      "[1, 2, 3, 4]\n",
      "[4, 3, 2, 1]\n"
     ]
    }
   ],
   "metadata": {}
  },
  {
   "cell_type": "markdown",
   "source": [
    "#### 3. 列表的遍历\n",
    "\n",
    "（1）使用 for 循环\n",
    "\n",
    "为了更有效率的输出列表的每个数据，可以使用循环来完成："
   ],
   "metadata": {}
  },
  {
   "cell_type": "code",
   "execution_count": null,
   "source": [
    "namesList = ['ZhangSan','LiSi','WangWu','ZhaoLiu'] \n",
    "for name in namesList:\n",
    "    print(name)"
   ],
   "outputs": [
    {
     "output_type": "stream",
     "name": "stdout",
     "text": [
      "ZhangSan\n",
      "LiSi\n",
      "WangWu\n",
      "ZhaoLiu\n"
     ]
    }
   ],
   "metadata": {}
  },
  {
   "cell_type": "markdown",
   "source": [
    "（2）使用while循环\n",
    "\n"
   ],
   "metadata": {}
  },
  {
   "cell_type": "code",
   "execution_count": null,
   "source": [
    "\n",
    "namesList = ['ZhangSan','LiSi','WangWu','ZhaoLiu']\n",
    "length = len(namesList)\n",
    "i = 0\n",
    "while i<length: \n",
    "    print(namesList[i]) \n",
    "    i+=1"
   ],
   "outputs": [
    {
     "output_type": "stream",
     "name": "stdout",
     "text": [
      "ZhangSan\n",
      "LiSi\n",
      "WangWu\n",
      "ZhaoLiu\n"
     ]
    }
   ],
   "metadata": {}
  },
  {
   "cell_type": "markdown",
   "source": [
    "#### 三、元组（tuple）\n",
    "\n",
    "元组（tuple）是另一种有序列表，它和 list 非常类似，但是 tuple 一旦初始化就不能修改.\n",
    "`classmates = ('Michael', 'Bob', 'Tracy')` \n",
    "\n",
    "现在， classmates 这个 tuple 不能变了，它也没有 append() 、 insert() 这样的方法，不过，其他获取元素的方法 tuple 和 list 是一样的，比如还是可以用 classmates[0] 、classmates[-1] 来取值，但不能赋值成另外的元素。\n",
    "\n",
    "tuple 存在的意义在于，由于 tuple 不可变，所以代码更安全。如果可能，能用 tuple 代替 list 就尽量用 tuple 。\n",
    "\n"
   ],
   "metadata": {}
  },
  {
   "cell_type": "code",
   "execution_count": null,
   "source": [
    "t = ()"
   ],
   "outputs": [],
   "metadata": {}
  },
  {
   "cell_type": "markdown",
   "source": [
    "但是，要定义一个只有1个元素的 tuple ，如果你这么定义：\n",
    "`t = (1)`\n",
    "\n",
    "那么你定义的不是tuple，而是1这个数！这是因为括号 () 既可以表示 tuple，又可以表示数学公式中的小括号，这就产生了歧义，因此，Python规定，这种情况下，按小括号进行计算，计算结果自然是1。\n",
    "\n",
    "所以，只有1个元素的tuple定义时必须加一个逗号，来消除歧义：\n",
    "\n",
    "`t = (1, )`\n",
    "\n",
    "Python在显示只有1个元素的 `tuple 时，也会加一个逗号，以免你误解成数学计算意义上的括号。\n",
    "\n",
    "最后来看一个“可变的”tuple："
   ],
   "metadata": {}
  },
  {
   "cell_type": "code",
   "execution_count": null,
   "source": [
    "t = ('a', 'b', ['A', 'B'])\n",
    "t[2][0] = 'X'\n",
    "t[2][1] = 'Y'\n",
    "# 也就是说，元组中的列表的值是可以改变的。\n",
    "\n",
    "t"
   ],
   "outputs": [
    {
     "output_type": "execute_result",
     "data": {
      "text/plain": [
       "('a', 'b', ['X', 'Y'])"
      ]
     },
     "metadata": {},
     "execution_count": 88
    }
   ],
   "metadata": {}
  },
  {
   "cell_type": "markdown",
   "source": [
    "#### 四、字典（dict）\n",
    "\n",
    "1. 字典简介\n",
    "\n",
    "字典是另一种可变容器模型，且可存储任意类型对象。字典的每个键值（key=>value）对用冒号 : 分割，每个对之间用逗号 , 分割，整个字典包括在花括号 {} 中。\n",
    "\n",
    "例如，要根据姓名查询成绩，可以通过一个姓名-成绩对照表："
   ],
   "metadata": {}
  },
  {
   "cell_type": "code",
   "execution_count": null,
   "source": [
    "d = {'Michael': 95, 'Bob': 75, 'Tracy': 85}\n",
    "d['Michael']"
   ],
   "outputs": [
    {
     "output_type": "execute_result",
     "data": {
      "text/plain": [
       "95"
      ]
     },
     "metadata": {},
     "execution_count": 89
    }
   ],
   "metadata": {}
  },
  {
   "cell_type": "markdown",
   "source": [
    "2. 字典的增删改查\n",
    "\n",
    "（1）修改元素\n",
    "\n",
    "字典的每个元素中的数据是可以修改的，只要通过 key 找到，即可修改："
   ],
   "metadata": {}
  },
  {
   "cell_type": "code",
   "execution_count": null,
   "source": [
    "\n",
    "info = {'name':'kkb', 'id':100, 'sex':'f', 'address':'中国北京'} \n",
    "new_id = input('请输入新的学号:')\n",
    "info['id'] = int(new_id)\n",
    "\n",
    "print('修改之后的id为: %d' % info['id'])"
   ],
   "outputs": [
    {
     "output_type": "stream",
     "name": "stdout",
     "text": [
      "修改之后的id为: 2020\n"
     ]
    }
   ],
   "metadata": {}
  },
  {
   "cell_type": "markdown",
   "source": [
    "（2）添加元素"
   ],
   "metadata": {}
  },
  {
   "cell_type": "code",
   "execution_count": null,
   "source": [
    "# 访问不存在的元素\n",
    "\n",
    "info = {'name':'kkb', 'sex':'f', 'address':'中国北京'}\n",
    "\n",
    "print('id为:%d' % info['id'])"
   ],
   "outputs": [
    {
     "output_type": "error",
     "ename": "KeyError",
     "evalue": "'id'",
     "traceback": [
      "\u001b[1;31m---------------------------------------------------------------------------\u001b[0m",
      "\u001b[1;31mKeyError\u001b[0m                                  Traceback (most recent call last)",
      "\u001b[1;32m<ipython-input-92-ea74de7aa0a7>\u001b[0m in \u001b[0;36m<module>\u001b[1;34m\u001b[0m\n\u001b[0;32m      3\u001b[0m \u001b[0minfo\u001b[0m \u001b[1;33m=\u001b[0m \u001b[1;33m{\u001b[0m\u001b[1;34m'name'\u001b[0m\u001b[1;33m:\u001b[0m\u001b[1;34m'kkb'\u001b[0m\u001b[1;33m,\u001b[0m \u001b[1;34m'sex'\u001b[0m\u001b[1;33m:\u001b[0m\u001b[1;34m'f'\u001b[0m\u001b[1;33m,\u001b[0m \u001b[1;34m'address'\u001b[0m\u001b[1;33m:\u001b[0m\u001b[1;34m'中国北京'\u001b[0m\u001b[1;33m}\u001b[0m\u001b[1;33m\u001b[0m\u001b[1;33m\u001b[0m\u001b[0m\n\u001b[0;32m      4\u001b[0m \u001b[1;33m\u001b[0m\u001b[0m\n\u001b[1;32m----> 5\u001b[1;33m \u001b[0mprint\u001b[0m\u001b[1;33m(\u001b[0m\u001b[1;34m'id为:%d'\u001b[0m \u001b[1;33m%\u001b[0m \u001b[0minfo\u001b[0m\u001b[1;33m[\u001b[0m\u001b[1;34m'id'\u001b[0m\u001b[1;33m]\u001b[0m\u001b[1;33m)\u001b[0m\u001b[1;33m\u001b[0m\u001b[1;33m\u001b[0m\u001b[0m\n\u001b[0m",
      "\u001b[1;31mKeyError\u001b[0m: 'id'"
     ]
    }
   ],
   "metadata": {}
  },
  {
   "cell_type": "markdown",
   "source": [
    "如果在使用 变量名['键'] = 数据 时，这个“键”在字典中，不存在，那么就会新增这个元素。\n",
    "\n",
    "添加新的元素："
   ],
   "metadata": {}
  },
  {
   "cell_type": "code",
   "execution_count": null,
   "source": [
    "\n",
    "info = {'name':'kkb', 'sex':'f', 'address':'中国北京'}\n",
    "\n",
    "# print('id为:%d'%info['id'])\n",
    "#程序会终端运行，因为访问了不存在的键\n",
    "newId = input('请输入新的学号：')\n",
    "info['id'] = int(newId)\n",
    "print('添加之后的id为:%d' % info['id'])"
   ],
   "outputs": [
    {
     "output_type": "stream",
     "name": "stdout",
     "text": [
      "添加之后的id为:2021\n"
     ]
    }
   ],
   "metadata": {}
  },
  {
   "cell_type": "markdown",
   "source": [
    "（3）删除元素\n",
    "\n",
    "对字典进行删除操作，有以下几种：\n",
    "\n",
    "•del\n",
    "•clear()\n",
    "\n",
    "① del 删除指定的元素"
   ],
   "metadata": {}
  },
  {
   "cell_type": "code",
   "execution_count": null,
   "source": [
    "info = {'name':'kkb', 'sex':'f', 'address':'中国北京'} \n",
    "print('删除前,%s' % info['name'])\n",
    "del info['name']\n",
    "# print('删除后,%s' % info['name'])"
   ],
   "outputs": [
    {
     "output_type": "stream",
     "name": "stdout",
     "text": [
      "删除前,kkb\n"
     ]
    }
   ],
   "metadata": {}
  },
  {
   "cell_type": "markdown",
   "source": [
    "② del 删除整个字典"
   ],
   "metadata": {}
  },
  {
   "cell_type": "code",
   "execution_count": null,
   "source": [
    "info = {'name':'monitor', 'sex':'f', 'address':'China'}\n",
    "print('删除前,%s' % info) \n",
    "del info\n",
    "# print('删除后,%s' % info)"
   ],
   "outputs": [
    {
     "output_type": "stream",
     "name": "stdout",
     "text": [
      "删除前,{'name': 'monitor', 'sex': 'f', 'address': 'China'}\n"
     ]
    }
   ],
   "metadata": {}
  },
  {
   "cell_type": "markdown",
   "source": [
    "③ clear 清空整个字典"
   ],
   "metadata": {}
  },
  {
   "cell_type": "code",
   "execution_count": null,
   "source": [
    "info = {'name':'monitor', 'sex':'f', 'address':'China'}\n",
    "print('清空前,%s' % info) \n",
    "info.clear()\n",
    "print('清空后,%s' % info)"
   ],
   "outputs": [
    {
     "output_type": "stream",
     "name": "stdout",
     "text": [
      "清空前,{'name': 'monitor', 'sex': 'f', 'address': 'China'}\n",
      "清空后,{}\n"
     ]
    }
   ],
   "metadata": {}
  },
  {
   "cell_type": "markdown",
   "source": [
    "（4）其他操作\n",
    "\n",
    "① len() 测量字典中，键值对的个数："
   ],
   "metadata": {}
  },
  {
   "cell_type": "code",
   "execution_count": null,
   "source": [
    "\n",
    "d1 = {'name':'abc','age':'18', 'class':'cnh'} \n",
    "print(len(d1))"
   ],
   "outputs": [
    {
     "output_type": "stream",
     "name": "stdout",
     "text": [
      "3\n"
     ]
    }
   ],
   "metadata": {}
  },
  {
   "cell_type": "markdown",
   "source": [
    "② keys 返回一个包含字典所有key的列表："
   ],
   "metadata": {}
  },
  {
   "cell_type": "code",
   "execution_count": null,
   "source": [
    "d1 = {'name':'abc','age':'18', 'class':'cnh'} \n",
    "print(list(d1.keys()))"
   ],
   "outputs": [
    {
     "output_type": "stream",
     "name": "stdout",
     "text": [
      "['name', 'age', 'class']\n"
     ]
    }
   ],
   "metadata": {}
  },
  {
   "cell_type": "markdown",
   "source": [
    "③ values 返回一个包含字典所有value的列表："
   ],
   "metadata": {}
  },
  {
   "cell_type": "code",
   "execution_count": null,
   "source": [
    "d1 = {'name':'abc','age':'18', 'class':'cnh'} \n",
    "print(list(d1.values()))"
   ],
   "outputs": [
    {
     "output_type": "stream",
     "name": "stdout",
     "text": [
      "['abc', '18', 'cnh']\n"
     ]
    }
   ],
   "metadata": {}
  },
  {
   "cell_type": "markdown",
   "source": [
    "④ items 返回一个包含所有（键，值）元祖的列表："
   ],
   "metadata": {}
  },
  {
   "cell_type": "code",
   "execution_count": null,
   "source": [
    "d1 = {'name':'abc','age':'18', 'class':'cnh'} \n",
    "print(list(d1.items()))"
   ],
   "outputs": [
    {
     "output_type": "stream",
     "name": "stdout",
     "text": [
      "[('name', 'abc'), ('age', '18'), ('class', 'cnh')]\n"
     ]
    }
   ],
   "metadata": {}
  },
  {
   "cell_type": "markdown",
   "source": [
    "### 5、集合（set）\n",
    "\n",
    "集合（set）是一个无序的不重复元素序列。可以使用大括号 { } 或者 set() 函数创建集合。\n",
    "\n",
    ">注意：\n",
    "（1）创建一个空集合必须用 set() 而不是 { }，因为 { } 是用来创建一个空字典。 （2）集合不支持下标赋值和取值，因为集合元素没有顺序，因此没有序列的概念。"
   ],
   "metadata": {}
  },
  {
   "cell_type": "code",
   "execution_count": null,
   "source": [
    "my_set = {1, 4, 'abc', 'hello'} \r\n",
    "\r\n",
    "#通过遍历获取数据\r\n",
    "my_set = {1, 5, 7} \r\n",
    "for value in my_set:\r\n",
    "    print(value)\r\n",
    "\r\n",
    "for index,value in enumerate(my_set): \r\n",
    "    print(index,value)\r\n",
    "\r\n",
    "# 定义空的集合的时候不能直接使用{}\r\n",
    "my_set = set() \r\n",
    "my_set.add(1) \r\n",
    "my_set.add(1) \r\n",
    "print(my_set, type(my_set))\r\n",
    "# 这里 my_set 仍然只有一个元素1，因为集合元素不能重复。\r\n",
    "\r\n",
    "# 集合可以对容器类型数据去重\r\n",
    "my_list = [1, 1, 3, 5, 3] \r\n",
    "# 把列表转成集合，会把数据去重\r\n",
    "my_set = set(my_list)\r\n",
    "print(my_set)\r\n",
    "# 输出结果为 {1, 3, 5}\r\n",
    "\r\n",
    "# 列表，元组， 集合 三者之间可以相互转换\r\n",
    "my_tuple = (5, 3)\r\n",
    "my_tuple = set(my_tuple)\r\n",
    "print(my_tuple, type(my_tuple))\r\n",
    "# 输出结果为 {3, 5} <class 'set'>"
   ],
   "outputs": [
    {
     "output_type": "stream",
     "name": "stdout",
     "text": [
      "1\n",
      "5\n",
      "7\n",
      "0 1\n",
      "1 5\n",
      "2 7\n",
      "{1} <class 'set'>\n",
      "{1, 3, 5}\n",
      "{3, 5} <class 'set'>\n"
     ]
    }
   ],
   "metadata": {}
  },
  {
   "cell_type": "markdown",
   "source": [
    "## 数据分析课程 - 03 - Python\r\n",
    "\r\n",
    "### 基础知识（三）：函数\r\n",
    "<font size=3 >\r\n",
    "大家好呀，今天是 Python 基础知识的第三课——函数。回顾我学习 Python 的历程，循环是我的第一个坎儿，函数是第二个，而且是更难、当然也更重要的一个。到目前为止，我感觉只有理解和掌握了函数，才算是真正入了 Python 的门。所以自学 Python 的小伙伴，尤其是零基础的同学，一定要好好学习和理解函数。"
   ],
   "metadata": {}
  },
  {
   "cell_type": "markdown",
   "source": [
    "<font size=3 >一、函数简介\r\n",
    "\r\n",
    "在程序中，如果实现了某个功能的代码需要多次使用，就把这段代码块组织为一个小模块，这就是函数。函数可以提高编程效率，实现代码复用。之前我们接触到的 print()、input()，也是函数，它们是 python 的内建函数。我们也可以自己创建函数，也就是用户自定义函数。\r\n",
    "\r\n",
    "例如，圆的面积的计算公式为 s = π × r^2，我们可以创建一个计算圆的面积的函数：s = area_of_circle(r) ，就不用每次计算圆的面积都得写一遍这个公式，而只需要直接调用这个函数就行。\r\n"
   ],
   "metadata": {}
  },
  {
   "cell_type": "markdown",
   "source": [
    "<font size=3 >二、函数定义和调用\r\n",
    "\r\n",
    "函数必须先定义，后调用。\r\n",
    "\r\n",
    "1. 定义函数\r\n",
    "\r\n",
    "定义函数的格式："
   ],
   "metadata": {}
  },
  {
   "cell_type": "code",
   "execution_count": 3,
   "source": [
    "\"\"\"\r\n",
    "def 函数名():\r\n",
    "    代码（代码前有缩进,tab）\r\n",
    "\"\"\"\r\n",
    "\r\n",
    "# 定义函数，完成打印信息的功能\r\n",
    "def printInfo(): \r\n",
    "    print('************************************') \r\n",
    "    print('    Python 数 据 分 析 ')\r\n",
    "    print('************************************')"
   ],
   "outputs": [],
   "metadata": {}
  },
  {
   "cell_type": "markdown",
   "source": [
    "<font size=3 >2. 调用函数\r\n",
    "\r\n",
    "定义函数之后，就相当于完成了某个功能的代码，想要让代码能够执行，需要调用函数，通过 函数名() 即可完成调用。\r\n",
    "\r\n",
    "注意：\r\n",
    "\r\n",
    "•调用函数时，函数会从头开始执行，当函数中的代码执行完毕后，则函数调用结束。\r\n",
    "\r\n",
    "•**函数中如果存在 return 语句，执行到 return 语句时，函数调用结束。**\r\n",
    "\r\n",
    "函数的文档说明：\r\n",
    "\r\n",
    "•help(函数名) 能够看到test函数的相关说明例如: help(printInfo)\r\n",
    "\r\n",
    "•test.__doc__ 直接查看文档说明"
   ],
   "metadata": {}
  },
  {
   "cell_type": "code",
   "execution_count": 4,
   "source": [
    "\n",
    "# 定义函数后，函数是不能够自动执行的，需要调用函数，函数才能执行。\n",
    "printInfo()"
   ],
   "outputs": [
    {
     "output_type": "stream",
     "name": "stdout",
     "text": [
      "************************************\n",
      "    Python 数 据 分 析 \n",
      "************************************\n"
     ]
    }
   ],
   "metadata": {}
  },
  {
   "cell_type": "markdown",
   "source": [
    "\r\n",
    "### 三、函数的参数\r\n",
    "<font size=3 >\r\n",
    "函数参数的存在使得函数变得非常灵活，不但使得函数能够处理复杂多变的参数，还能简化函数的调用。Python中的函数参数有如下几种：**位置参数、默认参数、可变参数、关键字参数。**"
   ],
   "metadata": {}
  },
  {
   "cell_type": "markdown",
   "source": [
    "#### 1.位置参数\r\n",
    "<font size=3 >\r\n",
    "计算 x^2 的函数："
   ],
   "metadata": {}
  },
  {
   "cell_type": "code",
   "execution_count": 5,
   "source": [
    "def power(x):\n",
    "    return x * x\n",
    "\n",
    "power(5)"
   ],
   "outputs": [
    {
     "output_type": "execute_result",
     "data": {
      "text/plain": [
       "25"
      ]
     },
     "metadata": {},
     "execution_count": 5
    }
   ],
   "metadata": {}
  },
  {
   "cell_type": "markdown",
   "source": [
    "<font size=3 >对于 power(x) 函数，参数 x 就是一个位置参数，也叫做必选参数。当我们调用 power 函数时，必须传入有且仅有的一个参数 x："
   ],
   "metadata": {}
  },
  {
   "cell_type": "markdown",
   "source": [
    "<font size=3 >现在，如果我们要计算 x^3，或 x^4，就可以把 power(x) 修改为 power(x, n) ，用来计算 x^n："
   ],
   "metadata": {}
  },
  {
   "cell_type": "code",
   "execution_count": 6,
   "source": [
    "def power(x, n): \n",
    "    s = 1\n",
    "    while n > 0:\n",
    "        n = n - 1 \n",
    "        s = s * x\n",
    "    return s\n",
    "\n",
    "power(5,3)"
   ],
   "outputs": [
    {
     "output_type": "execute_result",
     "data": {
      "text/plain": [
       "125"
      ]
     },
     "metadata": {},
     "execution_count": 6
    }
   ],
   "metadata": {}
  },
  {
   "cell_type": "markdown",
   "source": [
    "<font size=3 >注意：这里的 n 是用来控制 while 循环次数的，几次方就循环几次。\r\n",
    "\r\n",
    "对于这个修改后的 power(x, n) 函数，可以计算任意 n 次方：\r\n",
    "\r\n",
    "修改后的 power(x, n) 函数有两个参数：x 和 n，这两个参数都是位置参数，调用函数时，传入的两个值按照位置顺序依次赋给参数x 和 n "
   ],
   "metadata": {}
  },
  {
   "cell_type": "markdown",
   "source": [
    "#### 2.默认参数\r\n",
    "<font size=3 >\r\n",
    "由于我们使用平方的次数远远大于其他次方，因此我们可以给 n 设置一个默认值，这样我们在传参的时候就只用传一个 x 的值即可："
   ],
   "metadata": {}
  },
  {
   "cell_type": "code",
   "execution_count": 8,
   "source": [
    "def power(x, n=2):\r\n",
    "    s = 1\r\n",
    "    while n > 0:\r\n",
    "        n = n - 1 \r\n",
    "        s = s * x\r\n",
    "    return s\r\n",
    "\r\n",
    "power(5, n=3)"
   ],
   "outputs": [
    {
     "output_type": "execute_result",
     "data": {
      "text/plain": [
       "125"
      ]
     },
     "metadata": {},
     "execution_count": 8
    }
   ],
   "metadata": {}
  },
  {
   "cell_type": "markdown",
   "source": [
    "<font size=3 >由此可见，**默认参数可以简化函数的调用**。尤其是在实际应用中，比如要录入一个班级的学生信息，由于大多数学生都来自同一个地方，因此类似于 city 这样的参数就可以设置为默认参数，只在有特殊情况的时候传入，而把 name、gender 等变化较大的参数设置为必选参数，这样在调用函数的时候大多数情况下就只用传入必选参数即可，大大降低了函数调用的难度。\r\n",
    "\r\n",
    "不过，设置默认参数时，有几点要注意：\r\n",
    "\r\n",
    "•一是**必选参数在前，默认参数在后**，否则 Python 的解释器会报错；\r\n",
    "\r\n",
    "•二是**当函数有多个参数时，把经常变化的参数放前面，不经常变化的参数放后面**。不经常变化的参数就可以作为默认参数。\r\n",
    "\r\n",
    "•三是当有多个默认参数时，调用时既可以按顺序提供默认参数，也可以不按顺序加上参数名来提供，比如一个 enroll(name, gender, age=18, city=\"Beijing\") 的函数，在调用时可以输入enroll('Bob', 'M', 17, \"Tianjin\")按顺序传入 age 和 city 两个默认参数的值，也可以输入enroll('Adam', 'M', city='Tianjin', age=17) 不按顺序按关键词传入。"
   ],
   "metadata": {}
  },
  {
   "cell_type": "markdown",
   "source": [
    "<font size=3 >扩展\r\n",
    "\r\n",
    "默认参数有个最大的坑，演示如下：\r\n",
    "\r\n",
    "先定义一个函数，传入一个 list，添加一个 END 再返回："
   ],
   "metadata": {}
  },
  {
   "cell_type": "code",
   "execution_count": 10,
   "source": [
    "def add_end(L=[]):\n",
    "    L.append('END')\n",
    "    return L\n",
    "add_end([1, 2, 3])\n",
    "add_end(['x', 'y', 'z'])"
   ],
   "outputs": [
    {
     "output_type": "execute_result",
     "data": {
      "text/plain": [
       "['x', 'y', 'z', 'END']"
      ]
     },
     "metadata": {},
     "execution_count": 10
    }
   ],
   "metadata": {}
  },
  {
   "cell_type": "code",
   "execution_count": 12,
   "source": [
    "# 当你使用默认参数调用时，一开始结果也是对的\n",
    "add_end() \n",
    "add_end() "
   ],
   "outputs": [
    {
     "output_type": "execute_result",
     "data": {
      "text/plain": [
       "['END', 'END', 'END', 'END']"
      ]
     },
     "metadata": {},
     "execution_count": 12
    }
   ],
   "metadata": {}
  },
  {
   "cell_type": "markdown",
   "source": [
    "<font size=3 >这就奇了怪了，默认参数是 [] ，但函数好像每次都“记住了”上次添加了 END 后的 list。\r\n",
    "\r\n",
    "原因是这样的：\r\n",
    "\r\n",
    "Python函数在定义的时候，默认参数 L 的值就被计算出来了，即 []，因为默认参数 L 也是一个变量，它指向对象 [] ，每次调用该函数，如果改变了 L 的内容，则下次调用时，默认参数的内容就变了，不再是函数定义时的 [] 了。\r\n",
    "\r\n",
    "因此，定义默认参数要牢记一点：**默认参数必须指向不变对象！**\r\n",
    "\r\n",
    "要修改上面的例子，我们可以用 None 这个不变对象来实现："
   ],
   "metadata": {}
  },
  {
   "cell_type": "code",
   "execution_count": 13,
   "source": [
    "def add_end(L=None): \n",
    "    if L is None:\n",
    "        L = []\n",
    "    L.append('END') \n",
    "    return L\n",
    "add_end()\n",
    "add_end()"
   ],
   "outputs": [
    {
     "output_type": "execute_result",
     "data": {
      "text/plain": [
       "['END']"
      ]
     },
     "metadata": {},
     "execution_count": 13
    }
   ],
   "metadata": {}
  },
  {
   "cell_type": "markdown",
   "source": [
    "<font size=3 >为什么要设计 str 、None 这样的不变对象呢？因为不变对象一旦创建，对象内部的数据就不能修改，这样就减少了由于修改数据导致的错误。此外，由于对象不变，多任务环境下同时读取对象不需要加锁，同时读一点问题都没有。**我们在编写程序时，如果可以设计一个不变对象，那就尽量设计成不变对象。**"
   ],
   "metadata": {}
  },
  {
   "cell_type": "markdown",
   "source": [
    "#### 3.可变参数（不定长参数）\r\n",
    "<font size=3 >\r\n",
    "在Python函数中，还可以定义可变参数。顾名思义，可变参数就是传入的参数个数是可变的，可以是1个、2个到任意个，还可以是0个，因此可变参数还被叫做不定长参数。\r\n",
    "\r\n",
    "以一个数学题为例，给定一组数字 a，b，c…… ，计算 a^2 + b^2 + c^2 +....。\r\n",
    "\r\n",
    "要定义出这个函数，我们必须确定输入的参数。由于参数个数不确定，我们首先想到可以把 a，b，c…… 作为一个 list 或 tuple 传进来，这样，函数可以定义如下："
   ],
   "metadata": {}
  },
  {
   "cell_type": "code",
   "execution_count": 14,
   "source": [
    "def calc(numbers):\n",
    "    sum = 0\n",
    "    for n in numbers:\n",
    "        sum = sum + n*n\n",
    "    return sum\n",
    "print(calc([1, 2, 3]))\n",
    "print(calc([1, 3, 5, 7]))\n"
   ],
   "outputs": [
    {
     "output_type": "stream",
     "name": "stdout",
     "text": [
      "14\n",
      "84\n"
     ]
    }
   ],
   "metadata": {}
  },
  {
   "cell_type": "markdown",
   "source": [
    "<font size=3 >所以，我们把函数的参数改为可变参数："
   ],
   "metadata": {}
  },
  {
   "cell_type": "code",
   "execution_count": 15,
   "source": [
    "def calc(*numbers): \n",
    "    sum = 0\n",
    "    for n in numbers: \n",
    "        sum = sum + n * n\n",
    "    return sum\n",
    "print(calc(1, 2, 3))\n",
    "print(calc(1, 3, 5, 7))"
   ],
   "outputs": [
    {
     "output_type": "stream",
     "name": "stdout",
     "text": [
      "14\n",
      "84\n"
     ]
    }
   ],
   "metadata": {}
  },
  {
   "cell_type": "markdown",
   "source": [
    "<font size=3 >定义可变参数和定义一个 list 或 tuple 参数相比，仅仅在参数前面加了一个 * 号。在函数内部，**参数 numbers 接收到的是一个tuple**，因此，函数代码完全不变。但是，调用该函数时，可以传入任意个参数，包括0个参数："
   ],
   "metadata": {}
  },
  {
   "cell_type": "code",
   "execution_count": 17,
   "source": [
    "calc(1,2)"
   ],
   "outputs": [
    {
     "output_type": "execute_result",
     "data": {
      "text/plain": [
       "5"
      ]
     },
     "metadata": {},
     "execution_count": 17
    }
   ],
   "metadata": {}
  },
  {
   "cell_type": "code",
   "execution_count": 18,
   "source": [
    "calc()"
   ],
   "outputs": [
    {
     "output_type": "execute_result",
     "data": {
      "text/plain": [
       "0"
      ]
     },
     "metadata": {},
     "execution_count": 18
    }
   ],
   "metadata": {}
  },
  {
   "cell_type": "markdown",
   "source": [
    "<font size=3 >如果已经有一个 list 或者 tuple，要调用一个可变参数怎么办？可以这样做："
   ],
   "metadata": {}
  },
  {
   "cell_type": "code",
   "execution_count": 19,
   "source": [
    "nums = [1, 2, 3]\n",
    "calc(nums[0], nums[1], nums[2])"
   ],
   "outputs": [
    {
     "output_type": "execute_result",
     "data": {
      "text/plain": [
       "14"
      ]
     },
     "metadata": {},
     "execution_count": 19
    }
   ],
   "metadata": {}
  },
  {
   "cell_type": "markdown",
   "source": [
    "<font size=3 >**这种写法当然是可行的，问题是太繁琐，所以Python允许你在list或tuple前面加一个 * 号，把 list 或 tuple 的元素变成可变参数传进去：**"
   ],
   "metadata": {}
  },
  {
   "cell_type": "code",
   "execution_count": 20,
   "source": [
    "nums = [1, 2, 3]\r\n",
    "calc(*nums) \r\n",
    "# *nums 表示把 nums 这个 list 的所有元素作为可变参数传进去。"
   ],
   "outputs": [
    {
     "output_type": "execute_result",
     "data": {
      "text/plain": [
       "14"
      ]
     },
     "metadata": {},
     "execution_count": 20
    }
   ],
   "metadata": {}
  },
  {
   "cell_type": "markdown",
   "source": [
    "#### 4.命名关键字参数\r\n",
    "<font size=3 >\r\n",
    "对于关键字参数，函数的调用者可以传入任意不受限制的关键字参数。至于到底传入了哪些，就需要在函数内部通过 kw 检查。\r\n",
    "\r\n",
    "仍以 person() 函数为例，我们希望检查是否有 city 和 job 参数："
   ],
   "metadata": {}
  },
  {
   "cell_type": "code",
   "execution_count": 21,
   "source": [
    "def person(name, age, **kw): \r\n",
    "    if 'city' in kw:\r\n",
    "        # 有city参数\r\n",
    "        pass\r\n",
    "    if 'job' in kw: \r\n",
    "        # 有job参数\r\n",
    "        pass\r\n",
    "    print('name:', name, 'age:', age, 'other:', kw)"
   ],
   "outputs": [],
   "metadata": {}
  },
  {
   "cell_type": "code",
   "execution_count": 22,
   "source": [
    "person('Jack', 24, city='Beijing',addr='Chaoyang', zipcode=123456)"
   ],
   "outputs": [
    {
     "output_type": "stream",
     "name": "stdout",
     "text": [
      "name: Jack age: 24 other: {'city': 'Beijing', 'addr': 'Chaoyang', 'zipcode': 123456}\n"
     ]
    }
   ],
   "metadata": {}
  },
  {
   "cell_type": "markdown",
   "source": [
    "<font size=3 >如果要限制关键字参数的名字，就可以用命名关键字参数，例如，只接收 city 和 job 作为关键字参数。这种方式定义的函数如下："
   ],
   "metadata": {}
  },
  {
   "cell_type": "code",
   "execution_count": 23,
   "source": [
    "def person(name, age, *, city, job): \r\n",
    "    print(name, age, city, job)"
   ],
   "outputs": [],
   "metadata": {}
  },
  {
   "cell_type": "markdown",
   "source": [
    "<font size=3 >**和关键字参数 **kw 不同，命名关键字参数需要一个特殊分隔符 *，* 后面的参数被视为命名关键字参数。**\r\n",
    "\r\n",
    "调用方式如下："
   ],
   "metadata": {}
  },
  {
   "cell_type": "code",
   "execution_count": 25,
   "source": [
    "person('Jack', 24, city='Beijing', job='Engineer') "
   ],
   "outputs": [
    {
     "output_type": "stream",
     "name": "stdout",
     "text": [
      "Jack 24 Beijing Engineer\n"
     ]
    }
   ],
   "metadata": {}
  },
  {
   "cell_type": "markdown",
   "source": [
    "<font size=3 >如果函数定义中已经有了一个可变参数，后面跟着的命名关键字参数就不再需要一个特殊分隔符 * 了："
   ],
   "metadata": {}
  },
  {
   "cell_type": "code",
   "execution_count": null,
   "source": [
    "def person(name, age, *args, city, job): \r\n",
    "    print(name, age, args, city, job)"
   ],
   "outputs": [],
   "metadata": {}
  },
  {
   "cell_type": "markdown",
   "source": [
    "<font size=3 >命名关键字参数必须传入参数名，这和位置参数不同。如果没有传入参数名，调用将报错："
   ],
   "metadata": {}
  },
  {
   "cell_type": "code",
   "execution_count": null,
   "source": [
    "person('Jack', 24, 'Beijing', 'Engineer')"
   ],
   "outputs": [
    {
     "output_type": "error",
     "ename": "TypeError",
     "evalue": "person() missing 2 required keyword-only arguments: 'city' and 'job'",
     "traceback": [
      "\u001b[1;31m---------------------------------------------------------------------------\u001b[0m",
      "\u001b[1;31mTypeError\u001b[0m                                 Traceback (most recent call last)",
      "\u001b[1;32m<ipython-input-144-e7e3c3c0aaca>\u001b[0m in \u001b[0;36m<module>\u001b[1;34m\u001b[0m\n\u001b[1;32m----> 1\u001b[1;33m \u001b[0mperson\u001b[0m\u001b[1;33m(\u001b[0m\u001b[1;34m'Jack'\u001b[0m\u001b[1;33m,\u001b[0m \u001b[1;36m24\u001b[0m\u001b[1;33m,\u001b[0m \u001b[1;34m'Beijing'\u001b[0m\u001b[1;33m,\u001b[0m \u001b[1;34m'Engineer'\u001b[0m\u001b[1;33m)\u001b[0m\u001b[1;33m\u001b[0m\u001b[1;33m\u001b[0m\u001b[0m\n\u001b[0m",
      "\u001b[1;31mTypeError\u001b[0m: person() missing 2 required keyword-only arguments: 'city' and 'job'"
     ]
    }
   ],
   "metadata": {}
  },
  {
   "cell_type": "markdown",
   "source": [
    "<font size=3 >由于调用时缺少参数名 city 和 job ，Python 解释器把这 4 个参数均视为位置参数，但 person() 函数仅接受 2 个位置参数。\r\n",
    "\r\n",
    "命名关键字参数可以有缺省值，从而简化调用："
   ],
   "metadata": {}
  },
  {
   "cell_type": "code",
   "execution_count": 26,
   "source": [
    "def person(name, age, *, city='Beijing', job): \r\n",
    "    print(name, age, city, job)\r\n",
    "# 由于命名关键字参数 city 具有默认值，调用时，可不传入 city 参数：\r\n",
    "person('Jack', 24, job='Engineer') "
   ],
   "outputs": [
    {
     "output_type": "stream",
     "name": "stdout",
     "text": [
      "Jack 24 Beijing Engineer\n"
     ]
    }
   ],
   "metadata": {}
  },
  {
   "cell_type": "markdown",
   "source": [
    "<font size=3 >使用命名关键字参数时，要特别注意，如果没有可变参数，就必须加一个 * 作为特殊分隔符。如果缺少 *，Python解释器将无法识别位置参数和命名关键字参数："
   ],
   "metadata": {}
  },
  {
   "cell_type": "code",
   "execution_count": 27,
   "source": [
    "def person(name, age, city, job): \r\n",
    "# 缺少 *，city和job被视为位置参数\r\n",
    "    pass"
   ],
   "outputs": [],
   "metadata": {}
  },
  {
   "cell_type": "markdown",
   "source": [
    "#### 5.参数组合\r\n",
    "<font size=3 >\r\n",
    "在 Python 中定义函数，可以用**必选参数、默认参数、可变参数、关键字参数和命名关键字参数**，这 5 种参数都可以组合使用。但是请注意，参数定义的顺序必须是：**必选参数、默认参数、可变参数、命名关键字参数和关键字参数**。\r\n",
    "\r\n",
    "比如定义一个函数，包含上述若干种参数："
   ],
   "metadata": {}
  },
  {
   "cell_type": "code",
   "execution_count": 28,
   "source": [
    "\r\n",
    "def f1(a, b, c=0, *args, **kw):\r\n",
    "    print('a =', a, 'b =', b, 'c =', c, 'args =', args, 'kw =', kw)\r\n",
    "# 必选参数：a、b，\r\n",
    "# 默认参数：c\r\n",
    "# 可变参数：*args\r\n",
    "# 关键字参数：**kw\r\n",
    "def f2(a, b, c=0, *, d, **kw):\r\n",
    "    print('a =', a, 'b =', b, 'c =', c, 'd =', d, 'kw =', kw)\r\n",
    "# 必选参数：a、b，\r\n",
    "# 默认参数：c\r\n",
    "# 命名关键字参数：d\r\n",
    "# 关键字参数：**kw\r\n",
    "\r\n",
    "print(f1(1, 2))\r\n",
    "print(f1(1, 2, c=3))\r\n",
    "f1(1, 2, 3, 'a', 'b')\r\n",
    "f1(1, 2, 3, 'a', 'b', x=99)\r\n",
    "f2(1, 2, d=99, ext=None)\r\n",
    "# 必选参数、默认参数、可变参数、命名关键字参数和关键字参数。"
   ],
   "outputs": [
    {
     "output_type": "stream",
     "name": "stdout",
     "text": [
      "a = 1 b = 2 c = 0 args = () kw = {}\n",
      "None\n",
      "a = 1 b = 2 c = 3 args = () kw = {}\n",
      "None\n",
      "a = 1 b = 2 c = 3 args = ('a', 'b') kw = {}\n",
      "a = 1 b = 2 c = 3 args = ('a', 'b') kw = {'x': 99}\n",
      "a = 1 b = 2 c = 0 d = 99 kw = {'ext': None}\n"
     ]
    }
   ],
   "metadata": {}
  },
  {
   "cell_type": "markdown",
   "source": [
    "<font size=3 >最神奇的是通过一个 tuple 和 dict ，你也可以调用上述函数：\r\n"
   ],
   "metadata": {}
  },
  {
   "cell_type": "code",
   "execution_count": 29,
   "source": [
    "args = (1, 2, 3, 4)\r\n",
    "kw = {'d': 99, 'x': '#'}\r\n",
    "f1(*args, **kw)"
   ],
   "outputs": [
    {
     "output_type": "stream",
     "name": "stdout",
     "text": [
      "a = 1 b = 2 c = 3 args = (4,) kw = {'d': 99, 'x': '#'}\n"
     ]
    }
   ],
   "metadata": {}
  },
  {
   "cell_type": "code",
   "execution_count": 30,
   "source": [
    "args = (1, 2, 3)\r\n",
    "kw = {'d': 88, 'x': '#'}\r\n",
    "f2(*args, **kw)"
   ],
   "outputs": [
    {
     "output_type": "stream",
     "name": "stdout",
     "text": [
      "a = 1 b = 2 c = 3 d = 88 kw = {'x': '#'}\n"
     ]
    }
   ],
   "metadata": {}
  },
  {
   "cell_type": "markdown",
   "source": [
    "<font size = 3>所以，对于任意函数，都可以通过类似 func(*args, **kw) 的形式调用它，无论它的参数是如何定义的。\r\n",
    "\r\n",
    "虽然可以组合多达 5 种参数，但不要同时使用太多的组合，否则函数接口的可理解性很差。"
   ],
   "metadata": {}
  },
  {
   "cell_type": "markdown",
   "source": [
    "### 四、函数返回值\r\n",
    "<font size = 3>\r\n",
    "\r\n",
    "1. “返回值”介绍\r\n",
    "\r\n",
    "所谓“返回值”，就是程序中函数完成一件事情后，最后给调用者的结果\r\n",
    "\r\n",
    "2. 带有返回值的函数\r\n",
    "   \r\n",
    "想要在函数中把结果返回给调用者，需要在函数中使用 return，如下示例:"
   ],
   "metadata": {}
  },
  {
   "cell_type": "code",
   "execution_count": 31,
   "source": [
    "def cal(a, b): \r\n",
    "    c = a+b \r\n",
    "    return c"
   ],
   "outputs": [],
   "metadata": {}
  },
  {
   "cell_type": "markdown",
   "source": [
    "<font size =3>\r\n",
    "3. 保存函数的返回值\r\n",
    "\r\n",
    "保存函数的返回值示例如下:"
   ],
   "metadata": {}
  },
  {
   "cell_type": "code",
   "execution_count": 34,
   "source": [
    "#定义函数\r\n",
    "def cal(a, b): \r\n",
    "    return a+b\r\n",
    "\r\n",
    "#调用函数，顺便保存函数的返回值\r\n",
    "result = cal(100,98)\r\n",
    "print(result)\r\n",
    "#result已经保存了cal的返回值，所以接下来就可以使用了print(result)"
   ],
   "outputs": [
    {
     "output_type": "stream",
     "name": "stdout",
     "text": [
      "198\n"
     ]
    }
   ],
   "metadata": {}
  },
  {
   "cell_type": "markdown",
   "source": [
    "<font size = 3>\r\n",
    "4. 多个返回值\r\n",
    "\r\n",
    "（1）多个return?"
   ],
   "metadata": {}
  },
  {
   "cell_type": "code",
   "execution_count": 36,
   "source": [
    "def cal_nums(): \r\n",
    "    print(\"---1---\") \r\n",
    "    return 1\r\n",
    "# 函数中下面的代码不会被执行，因为return除了能够将数据返回之外，还有一个隐藏的功能：结束函数\r\n",
    "    print(\"---2---\") \r\n",
    "    return 2\r\n",
    "    print(\"---3---\")"
   ],
   "outputs": [],
   "metadata": {}
  },
  {
   "cell_type": "markdown",
   "source": [
    "<font size = 3>\r\n",
    "总结1： 一个函数中可以有多个 return 语句，但是只要有一个 return 语句被执行到，那么这个函数就会结束了，因此后面的return 没有什么用处。\r\n",
    "\r\n",
    "不过，如果程序设计为如下，是可以的。因为不同的场景下执行不同的 return："
   ],
   "metadata": {}
  },
  {
   "cell_type": "code",
   "execution_count": 37,
   "source": [
    "def cal_nums(num): \r\n",
    "    print(\"---1---\") \r\n",
    "    if num == 100:\r\n",
    "        print(\"---2---\")\r\n",
    "        return num+1    \r\n",
    "# 函数中下面的代码不会被执行，因为return除了能够将数据返回之外，还有一个隐藏的功能：结束函数\r\n",
    "    else:\r\n",
    "        print(\"---3---\") \r\n",
    "        return num+2\r\n",
    "    print(\"---4---\")\r\n",
    "\r\n",
    "result1 = cal_nums(100) \r\n",
    "print(result1)    # 打印101 \r\n",
    "result2 = cal_nums(200) \r\n",
    "print(result2)    # 打印202"
   ],
   "outputs": [
    {
     "output_type": "stream",
     "name": "stdout",
     "text": [
      "---1---\n",
      "---2---\n",
      "101\n",
      "---1---\n",
      "---3---\n",
      "202\n"
     ]
    }
   ],
   "metadata": {}
  },
  {
   "cell_type": "markdown",
   "source": [
    "<font size = 3> （2）一个函数返回多个数据的方式"
   ],
   "metadata": {}
  },
  {
   "cell_type": "code",
   "execution_count": 38,
   "source": [
    "def calculate(a, b): \r\n",
    "    shang = a//b \r\n",
    "    yushu = a%b\r\n",
    "    return shang, yushu    #默认是元组\r\n",
    "\r\n",
    "result = calculate(5, 2) \r\n",
    "print(result)    # 输出(2, 1)"
   ],
   "outputs": [
    {
     "output_type": "stream",
     "name": "stdout",
     "text": [
      "(2, 1)\n"
     ]
    }
   ],
   "metadata": {}
  },
  {
   "cell_type": "markdown",
   "source": [
    "<font size =3>\r\n",
    "总结2： return 后面可以是元组，列表、字典等，只要是能够存储多个数据的类型，就可以一次性返回多个数据："
   ],
   "metadata": {}
  },
  {
   "cell_type": "code",
   "execution_count": 42,
   "source": [
    "\r\n",
    "def my_function():\r\n",
    "    return [1, 2, 3]\r\n",
    "    return (1, 2, 3)\r\n",
    "    return {\"num1\": 1, \"num2\": 2, \"num3\": 3}\r\n",
    "\r\n",
    "my_function()"
   ],
   "outputs": [
    {
     "output_type": "execute_result",
     "data": {
      "text/plain": [
       "[1, 2, 3]"
      ]
     },
     "metadata": {},
     "execution_count": 42
    }
   ],
   "metadata": {}
  },
  {
   "cell_type": "markdown",
   "source": [
    "<font size = 3>如果 return 后面有多个数据，那么默认是元组，也就是无论是 return 1, 2, 3，还是 return (1, 2, 3)，返回结果都是元组 (1, 2, 3)："
   ],
   "metadata": {}
  },
  {
   "cell_type": "code",
   "execution_count": 43,
   "source": [
    "def my_func():\r\n",
    "    return 1, 2, 3\r\n",
    "result = my_func()\r\n",
    "print(result, type(result))"
   ],
   "outputs": [
    {
     "output_type": "stream",
     "name": "stdout",
     "text": [
      "(1, 2, 3) <class 'tuple'>\n"
     ]
    }
   ],
   "metadata": {}
  },
  {
   "cell_type": "code",
   "execution_count": 44,
   "source": [
    "def my_func():\r\n",
    "    return (1, 2, 3)\r\n",
    "result = my_func()\r\n",
    "print(result, type(result))"
   ],
   "outputs": [
    {
     "output_type": "stream",
     "name": "stdout",
     "text": [
      "(1, 2, 3) <class 'tuple'>\n"
     ]
    }
   ],
   "metadata": {}
  },
  {
   "cell_type": "markdown",
   "source": [
    "### 五、递归函数\r\n",
    "\r\n",
    "<font size = 3>\r\n",
    "在函数内部，可以调用其他函数。如果一个函数在内部调用自身本身，这个函数就是递归函数。\r\n",
    "\r\n",
    "举个例子，我们来计算阶乘 n! = 1 x 2 x 3 x ... x n ，用函数 fact(n) 表示，可以看出："
   ],
   "metadata": {}
  },
  {
   "cell_type": "code",
   "execution_count": 46,
   "source": [
    "def fact(n):\r\n",
    "    if n == 1:\r\n",
    "        return 1\r\n",
    "    return n * fact(n - 1)\r\n",
    "fact(1)\r\n",
    "fact(100)"
   ],
   "outputs": [
    {
     "output_type": "execute_result",
     "data": {
      "text/plain": [
       "93326215443944152681699238856266700490715968264381621468592963895217599993229915608941463976156518286253697920827223758251185210916864000000000000000000000000"
      ]
     },
     "metadata": {},
     "execution_count": 46
    }
   ],
   "metadata": {}
  },
  {
   "cell_type": "markdown",
   "source": [
    "<font size =3>\r\n",
    "递归函数的优点是定义简单，逻辑清晰。理论上，所有的递归函数都可以写成循环的方式，但循环的逻辑不如递归清晰。\r\n",
    "\r\n",
    "**使用递归函数需要注意防止栈溢出**。在计算机中，函数调用是通过栈（stack）这种数据结构实现的，每当进入一个函数调用，栈就会加一层栈帧，每当函数返回，栈就会减一层栈帧。由于栈的大小不是无限的，所以，递归调用的次数过多，会导致栈溢出。可以试试 fact(1000) ："
   ],
   "metadata": {}
  },
  {
   "cell_type": "code",
   "execution_count": 49,
   "source": [
    "fact(10)"
   ],
   "outputs": [
    {
     "output_type": "execute_result",
     "data": {
      "text/plain": [
       "3628800"
      ]
     },
     "metadata": {},
     "execution_count": 49
    }
   ],
   "metadata": {}
  },
  {
   "cell_type": "markdown",
   "source": [
    "<font size =3>\r\n",
    "\r\n",
    "解决递归调用栈溢出的方法是通过尾递归优化，事实上尾递归和循环的效果是一样的，所以，把循环看成是一种特殊的尾递归函数也是可以的。\r\n",
    "\r\n",
    "尾递归是指，在函数返回的时候，调用自身本身，并且， return语句不能包含表达式。这样，编译器或者解释器就可以把尾递归做优化，使递归本身无论调用多少次，都只占用一个栈帧，不会出现栈溢出的情况。\r\n",
    "\r\n",
    "上面的 fact(n) 函数由于 return n * fact(n - 1) 引入了乘法表达式，所以就不是尾递归了。要改成尾递归方式，需要多一点代码，**主要是要把每一步的乘积传入到递归函数中**："
   ],
   "metadata": {}
  },
  {
   "cell_type": "code",
   "execution_count": 51,
   "source": [
    "# 将普通递归改写为尾递归\r\n",
    "\r\n",
    "def fact(n):\r\n",
    "    return fact_iter(n, 1)\r\n",
    "\r\n",
    "def fact_iter(num, product):\r\n",
    "    if num == 1:\r\n",
    "        return product\r\n",
    "    return fact_iter(num - 1, num * product)\r\n",
    "\r\n",
    "# fact(1000) 使用尾递归后就没有报错了"
   ],
   "outputs": [],
   "metadata": {}
  },
  {
   "cell_type": "markdown",
   "source": [
    "<font size = 3>fact(5) 对应的 fact_iter(5, 1) 的调用如下：\r\n",
    "\r\n",
    "===>    fact_iter(5, 1)\r\n",
    "\r\n",
    "===>    fact_iter(4, 5)\r\n",
    "\r\n",
    "===>    fact_iter(3, 20)\r\n",
    "\r\n",
    "===>    fact_iter(2, 60)\r\n",
    "\r\n",
    "===>    fact_iter(1, 120)\r\n",
    "\r\n",
    "===>    120"
   ],
   "metadata": {}
  },
  {
   "cell_type": "markdown",
   "source": [
    "### 六、局部变量与全局变量\r\n",
    "<font size = 3>\r\n",
    "\r\n",
    "1. 局部变量\r\n",
    "\r\n",
    "局部变量，就是在函数内部定义的变量，其作用范围是这个函数内部，即只能在这个函数中使用，在函数的外部是不能使用的。因为其作用范围只是在自己的函数内部，所以不同的函数可以定义相同名字的局部变量（打个比方，把你、我是当做成函数，把局部变量理解为每个人手里的手机，你可有个iPhone11，我当然也可以有个iPhone11了，互不相关）\r\n",
    "\r\n",
    "局部变量的作用，是为了临时保存数据需要在函数中定义变量来进行存储。当函数调用时，局部变量被创建，当函数调用完成后这个变量就不能够使用了。"
   ],
   "metadata": {}
  },
  {
   "cell_type": "code",
   "execution_count": 52,
   "source": [
    "\r\n",
    "def show():\r\n",
    "    # 定义局部变量\r\n",
    "    sal = 15000 \r\n",
    "    print(\"薪资:\", sal)\r\n",
    "show()\r\n",
    "print(sal)\r\n",
    "# 这里就会报错，因为在全局作用域下，不存在 `sal` 这个变量。"
   ],
   "outputs": [
    {
     "output_type": "stream",
     "name": "stdout",
     "text": [
      "薪资: 15000\n"
     ]
    },
    {
     "output_type": "error",
     "ename": "NameError",
     "evalue": "name 'sal' is not defined",
     "traceback": [
      "\u001b[1;31m---------------------------------------------------------------------------\u001b[0m",
      "\u001b[1;31mNameError\u001b[0m                                 Traceback (most recent call last)",
      "\u001b[1;32m<ipython-input-52-7fb3066ccd7d>\u001b[0m in \u001b[0;36m<module>\u001b[1;34m\u001b[0m\n\u001b[0;32m      4\u001b[0m     \u001b[0mprint\u001b[0m\u001b[1;33m(\u001b[0m\u001b[1;34m\"薪资:\"\u001b[0m\u001b[1;33m,\u001b[0m \u001b[0msal\u001b[0m\u001b[1;33m)\u001b[0m\u001b[1;33m\u001b[0m\u001b[1;33m\u001b[0m\u001b[0m\n\u001b[0;32m      5\u001b[0m \u001b[0mshow\u001b[0m\u001b[1;33m(\u001b[0m\u001b[1;33m)\u001b[0m\u001b[1;33m\u001b[0m\u001b[1;33m\u001b[0m\u001b[0m\n\u001b[1;32m----> 6\u001b[1;33m \u001b[0mprint\u001b[0m\u001b[1;33m(\u001b[0m\u001b[0msal\u001b[0m\u001b[1;33m)\u001b[0m\u001b[1;33m\u001b[0m\u001b[1;33m\u001b[0m\u001b[0m\n\u001b[0m\u001b[0;32m      7\u001b[0m \u001b[1;31m# 这里就会报错，因为在全局作用域下，不存在 `sal` 这个变量。\u001b[0m\u001b[1;33m\u001b[0m\u001b[1;33m\u001b[0m\u001b[1;33m\u001b[0m\u001b[0m\n",
      "\u001b[1;31mNameError\u001b[0m: name 'sal' is not defined"
     ]
    }
   ],
   "metadata": {}
  },
  {
   "cell_type": "markdown",
   "source": [
    "<font size = 3>\r\n",
    "2. 全局变量\r\n",
    " \r\n",
    "如果一个变量，既能在一个函数中使用，也能在其他的函数中使用，这样的变量就是全局变量。\r\n",
    "\r\n",
    "比如全家每个人各有一部手机只能自己使用，但是家里还装了一个固定电话，全家人都可以使用，那么每个人自己的手机就是局部变量，固定电话就是全局变量。\r\n",
    "\r\n",
    "总结：在函数外边定义的变量叫做全局变量。全局变量能够在所有的函数中进行访问。"
   ],
   "metadata": {}
  },
  {
   "cell_type": "code",
   "execution_count": 53,
   "source": [
    "\r\n",
    "# 定义全局变量\r\n",
    "money = 1200\r\n",
    "\r\n",
    "def test1():\r\n",
    "    print(money)    \r\n",
    "    # 虽然没有定义变量money但是可是使用全局变量money\r\n",
    "\r\n",
    "def test2():\r\n",
    "    print(money)    \r\n",
    "    # 虽然没有定义变量money但是可是使用全局变量money\r\n",
    "\r\n",
    "# 调用函数\r\n",
    "test1() \r\n",
    "test2()"
   ],
   "outputs": [
    {
     "output_type": "stream",
     "name": "stdout",
     "text": [
      "1200\n",
      "1200\n"
     ]
    }
   ],
   "metadata": {}
  },
  {
   "cell_type": "markdown",
   "source": [
    "<font size = 3>\r\n",
    "3. 全局变量和局部变量的冲突问题\r\n",
    "\r\n",
    "总结：当函数内出现局部变量和全局变量相同名字时，函数内部中的此时理解为定义了一个局部变量，而不是修改全局变量的值。"
   ],
   "metadata": {}
  },
  {
   "cell_type": "markdown",
   "source": [
    "<font size = 3>\r\n",
    "\r\n",
    "4. 修改全局变量\r\n",
    "函数中使用全局变量时可否进行修改呢？"
   ],
   "metadata": {}
  },
  {
   "cell_type": "code",
   "execution_count": 54,
   "source": [
    "# 定义全局变量\r\n",
    "x = 100\r\n",
    "\r\n",
    "def test1():\r\n",
    "    # 定义全局变量，使用 global 函数声明变量 x 为全局变量\r\n",
    "    global x\r\n",
    "    print('修改之前：%d'%x)\r\n",
    "\r\n",
    "    #修改\r\n",
    "    x = 200\r\n",
    "    print('修改后的%d'%x)\r\n",
    "\r\n",
    "def test2():\r\n",
    "    print('x = %d'%x)\r\n",
    "\r\n",
    "test1() \r\n",
    "test2()"
   ],
   "outputs": [
    {
     "output_type": "stream",
     "name": "stdout",
     "text": [
      "修改之前：100\n",
      "修改后的200\n",
      "x = 200\n"
     ]
    }
   ],
   "metadata": {}
  },
  {
   "cell_type": "markdown",
   "source": [
    "### 七、捕获异常\r\n",
    "<font size = 3>\r\n",
    "程序一旦出错，还要一级一级上报，直到某个函数可以处理该错误（比如，给用户输出一个错误信息）。所以高级语言通常都内置了一套 try...except...finally... 的错误处理机制，Python也不例外。\r\n",
    "\r\n",
    "让我们用一个例子来看看 try 的机制："
   ],
   "metadata": {}
  },
  {
   "cell_type": "code",
   "execution_count": 55,
   "source": [
    "\r\n",
    "try:\r\n",
    "    print('try...') \r\n",
    "    r = 10 / 0\r\n",
    "    print('result:', r)\r\n",
    "except ZeroDivisionError as e: \r\n",
    "    print('except:', e)\r\n",
    "finally:\r\n",
    "    print('finally...') \r\n",
    "    print('END')"
   ],
   "outputs": [
    {
     "output_type": "stream",
     "name": "stdout",
     "text": [
      "try...\n",
      "except: division by zero\n",
      "finally...\n",
      "END\n"
     ]
    }
   ],
   "metadata": {}
  },
  {
   "cell_type": "markdown",
   "source": [
    "<font size = 3>当我们认为某些代码可能会出错时，就可以用 try 来运行这段代码，如果执行出错，则后续代码不会继续执行，而是直接跳转至错误处理代码，即 except 语句块，执行完 except 后，如果有 finally 语句块，则执行 finally 语句块，至此， 执行完毕。\r\n",
    "\r\n",
    "上面的代码在计算 10 / 0 时会产生一个除法运算错误："
   ],
   "metadata": {}
  },
  {
   "cell_type": "code",
   "execution_count": 56,
   "source": [
    "try:\r\n",
    "    print('try...') \r\n",
    "    r = 10 / int('a')\r\n",
    "    print('result:', r) \r\n",
    "except ValueError as e:\r\n",
    "    print('ValueError:', e) \r\n",
    "except ZeroDivisionError as e:\r\n",
    "    print('ZeroDivisionError:', e) \r\n",
    "finally:\r\n",
    "    print('finally...') \r\n",
    "    print('END')"
   ],
   "outputs": [
    {
     "output_type": "stream",
     "name": "stdout",
     "text": [
      "try...\n",
      "ValueError: invalid literal for int() with base 10: 'a'\n",
      "finally...\n",
      "END\n"
     ]
    }
   ],
   "metadata": {}
  },
  {
   "cell_type": "markdown",
   "source": [
    "<font size =3 >\r\n",
    "\r\n",
    "Python所有的错误都是从 BaseException 类派生的，常见的错误类型和继承关系可以看下面这个链接：\r\n",
    "\r\n",
    "https://docs.python.org/3/library/exceptions.html#exception-hierarchy\r\n",
    "\r\n",
    "使用 try...except 捕获错误还有一个巨大的好处，就是可以跨越多层调用，比如函数 main() 调用 foo() ， foo() 调用 bar() ，结果 bar() 出错了，这时，只要 main() 捕获到了，就可以处理："
   ],
   "metadata": {}
  },
  {
   "cell_type": "code",
   "execution_count": 57,
   "source": [
    "\r\n",
    "def foo(s):\r\n",
    "    return 10 / int(s)\r\n",
    "\r\n",
    "def bar(s):\r\n",
    "    return foo(s) * 2\r\n",
    "\r\n",
    "def main(): \r\n",
    "    try:\r\n",
    "        bar('0')\r\n",
    "    except Exception as e: \r\n",
    "        print('Error:', e)\r\n",
    "    finally:\r\n",
    "        print('finally...')\r\n",
    "\r\n",
    "main()"
   ],
   "outputs": [
    {
     "output_type": "stream",
     "name": "stdout",
     "text": [
      "Error: division by zero\n",
      "finally...\n"
     ]
    }
   ],
   "metadata": {}
  },
  {
   "cell_type": "markdown",
   "source": [
    "\r\n",
    "<font size = 3>\r\n",
    "\r\n",
    "python所有的标准异常类：\r\n",
    "\r\n",
    "|异常名称|\t描述 |\r\n",
    "| -- | --|\r\n",
    "|BaseException|\t所有异常的基类|\r\n",
    "SystemExit|\t解释器请求退出\r\n",
    "KeyboardInterrupt|\t用户中断执行(通常是输入^C)\r\n",
    "Exception|\t常规错误的基类\r\n",
    "StopIteration|\t迭代器没有更多的值\r\n",
    "GeneratorExit|\t生成器(generator)发生异常来通知退出\r\n",
    "SystemExit|\tPython 解释器请求退出\r\n",
    "StandardError|\t所有的内建标准异常的基类\r\n",
    "ArithmeticError|\t所有数值计算错误的基类\r\n",
    "FloatingPointError|\t浮点计算错误\r\n",
    "OverﬂowError|\t数值运算超出最大限制\r\n",
    "ZeroDivisionError|\t除(或取模)零 (所有数据类型)\r\n",
    "AssertionError|\t断言语句失败\r\n",
    "AttributeError|\t对象没有这个属性\r\n",
    "EOFError|\t没有内建输入，到达EOF 标记\r\n",
    "EnvironmentError|\t操作系统错误的基类\r\n",
    "IOError|\t输入/输出操作失败\r\n",
    "OSError|\t操作系统错误\r\n",
    "WindowsError|\t系统调用失败\r\n",
    "ImportError|\t导入模块/对象失败\r\n",
    "KeyboardInterrupt|\t用户中断执行(通常是输入^C)\r\n",
    "LookupError|\t无效数据查询的基类\r\n",
    "IndexError|\t序列中没有没有此索引(index)\r\n",
    "KeyError|\t映射中没有这个键\r\n",
    "MemoryError|\t内存溢出错误(对于Python 解释器不是致命的)\r\n",
    "NameError|\t未声明/初始化对象 (没有属性)\r\n",
    "UnboundLocalError|\t访问未初始化的本地变量\r\n",
    "ReferenceError|\t弱引用(Weak reference)试图访问已经垃圾回收了的对象\r\n",
    "RuntimeError|\t一般的运行时错误\r\n",
    "NotImplementedError|\t尚未实现的方法\r\n",
    "SyntaxError\tPython| 语法错误\r\n",
    "IndentationError|\t缩进错误\r\n",
    "TabError|\tTab 和空格混用\r\n",
    "SystemError|\t一般的解释器系统错误\r\n",
    "TypeError|\t对类型无效的操作\r\n",
    "ValueError|\t传入无效的参数\r\n",
    "UnicodeError|\tUnicode 相关的错误\r\n",
    "UnicodeDecodeError|\tUnicode 解码时的错误\r\n",
    "UnicodeEncodeError|\tUnicode 编码时错误\r\n",
    "UnicodeTranslateError|\tUnicode 转换时错误\r\n",
    "Warning|\t警告的基类\r\n",
    "DeprecationWarning|\t关于被弃用的特征的警告\r\n",
    "FutureWarning|\t关于构造将来语义会有改变的警告\r\n",
    "OverﬂowWarning|\t旧的关于自动提升为长整型(long)的警告\r\n",
    "PendingDeprecationWarning|\t关于特性将会被废弃的警告\r\n",
    "RuntimeWarning|\t可疑的运行时行为(runtime behavior)的警告\r\n",
    "SyntaxWarning|\t可疑的语法的警告\r\n",
    "UserWarning|\t用户代码生成的警告"
   ],
   "metadata": {}
  },
  {
   "cell_type": "markdown",
   "source": [
    "## 数据分析课程 - 04 - Python基础知识（四）：类和对象\r\n",
    "\r\n",
    "面向对象编程和面向过程编程这两个概念，对于零基础的同学来说可能太过抽象，不容易理解和区分。我用老师上课举的一个例子来说明一下，你就懂了。\r\n",
    "\r\n",
    "假设你现在要做一道菜，面向过程的方法是，买菜，洗菜，切菜，炒菜等一系列正常做菜的流程。而面向对象的方法是找一个“对象”来给你做这道菜，这个“对象”可以是一位厨师，可以是你男/女朋友，也可以是外卖商家，让他们来为你完成做菜这个任务。\r\n",
    "\r\n",
    "在编程中，我们经常需要实现一些功能、方法或者任务，如果这些功能、方法或任务是需要经常使用的，那么你就应该构造一些能够实现它们的“对象”（也就是函数），每次要用到的时候，直接叫这些对象来执行就行（也就是调用函数）。\r\n",
    "\r\n",
    "接下来，让我们来系统学习一下类和对象的相关知识吧。\r\n",
    "\r\n",
    "本节知识概要：\r\n",
    "\r\n",
    "1、面向对象编程\r\n",
    "\r\n",
    "2、类和对象\r\n",
    "\r\n",
    "（1）类\r\n",
    "\r\n",
    "（2）对象\r\n",
    "\r\n",
    "（3）类和对象之间的关系\r\n",
    "\r\n",
    "（4）定义类和创建对象\r\n",
    "\r\n",
    "3、对象的属性和方法\r\n",
    "\r\n",
    "（1）添加和获取对象的属性\r\n",
    "\r\n",
    "（2）通过self获取对象属性\r\n",
    "\r\n",
    "（3）__init__ 魔法方法\r\n",
    "\r\n",
    "4、继承\r\n",
    "\r\n",
    "（1）单继承\r\n",
    "\r\n",
    "（2）多继承\r\n",
    "\r\n",
    "（3）重写父类方法\r\n",
    "\r\n",
    "5、多态"
   ],
   "metadata": {}
  },
  {
   "cell_type": "markdown",
   "source": [
    "## 一、面向对象编程\r\n",
    "\r\n",
    "1. 面向对象编程的定义\r\n",
    "\r\n",
    "面向对象编程（Object Oriented Programming，简称OOP），是一种程序设计思想。OOP把对象作为程序的基本单元，一个对象包含了数据和操作数据的函数。\r\n",
    "\r\n",
    "2. 面向过程编程和面向对象编程的区别\r\n",
    "\r\n",
    "面向过程的程序设计把计算机程序视为一系列的命令集合，即一组函数的顺序执行。为了简化程序设计，面向过程把函数继续切分为子函数，即把大块函数通过切割成小块函数来降低系统的复杂度。\r\n",
    "\r\n",
    "而面向对象的程序设计把计算机程序视为一组对象的集合，而每个对象都可以接收其他对象发过来的消息，并处理这些消息，计算机程序的执行就是一系列消息在各个对象之间传递。\r\n",
    "\r\n",
    "在Python中，所有数据类型都可以视为对象，当然也可以自定义对象。自定义的对象数据类型就是面向对象中的类（Class）的概念。\r\n",
    "\r\n",
    "举例说明二者区别，假设我们要处理员工的绩效考核分数，为了表示一个员工的分数，面向过程的程序可以用一个 dict 表示："
   ],
   "metadata": {}
  },
  {
   "cell_type": "code",
   "execution_count": 1,
   "source": [
    "staff1 = {'name': 'Jack', 'score': 98}\r\n",
    "staff2 = {'name': 'Mary', 'score': 81}"
   ],
   "outputs": [],
   "metadata": {}
  },
  {
   "cell_type": "code",
   "execution_count": 2,
   "source": [
    "# 而处理员工分数可以通过函数实现，比如打印员工分数：\r\n",
    "\r\n",
    "def print_score(staff):\r\n",
    "    print('%s: %s' % (staff['name'], staff['score']))\r\n",
    "\r\n",
    "print(staff1)"
   ],
   "outputs": [
    {
     "output_type": "stream",
     "name": "stdout",
     "text": [
      "{'name': 'Jack', 'score': 98}\n"
     ]
    }
   ],
   "metadata": {}
  },
  {
   "cell_type": "markdown",
   "source": [
    "如果采用面向对象的程序设计思想，我们首选思考的不是程序的执行流程，而是 Staff 这种数据类型应该被视为一个对象，这个对象拥有 name 和 score 这两个属性（Property）。如果要打印一个员工的分数，首先必须创建出这个员工对应的对象，然后，给对象发一个 print_score 消息，让对象自己把自己的数据打印出来。\r\n",
    "\r\n",
    "给对象发消息实际上就是调用对象对应的关联函数，我们称之为对象的方法（Method）。面向对象的程序写出来就像这样："
   ],
   "metadata": {}
  },
  {
   "cell_type": "code",
   "execution_count": 3,
   "source": [
    "class Staff(object):\r\n",
    "\r\n",
    "    def __init__(self, name, score):\r\n",
    "        self.name = name\r\n",
    "        self.score = score\r\n",
    "\r\n",
    "    def print_score(self):\r\n",
    "        print('%s: %s' % (self.name, self.score))"
   ],
   "outputs": [],
   "metadata": {}
  },
  {
   "cell_type": "code",
   "execution_count": 6,
   "source": [
    "staff = Staff('Jack', 98)\r\n",
    "staff.print_score()"
   ],
   "outputs": [
    {
     "output_type": "stream",
     "name": "stdout",
     "text": [
      "Jack: 98\n"
     ]
    }
   ],
   "metadata": {}
  },
  {
   "cell_type": "markdown",
   "source": [
    "面向对象的设计思想是从自然界中来的，因为在自然界中，类（Class）和实例（Instance）的概念是很普遍的。Class 是一种抽象概念，比如我们定义的 Class——Staff，是指员工这个概念，而实例（Instance）则是一个个具体的 Staff ，比如， Jack Simpson 和 Mary Simpson 是两个具体的 Staff。\r\n",
    "\r\n",
    "所以，面向对象的设计思想是抽象出 Class ，根据 Class 创建 Instance 。\r\n",
    "\r\n",
    "面向对象的抽象程度又比函数要高，因为一个 Class 既包含数据，又包含操作数据的方法。"
   ],
   "metadata": {}
  },
  {
   "cell_type": "markdown",
   "source": [
    "## 二、类和对象\r\n",
    "\r\n",
    "类和对象是面向对象编程的两个非常重要的概念。\r\n",
    "\r\n",
    "对象是面向对象编程的核心，在使用对象的过程中，为了将具有共同特征和行为的一组对象抽象定义，提出了另外一个新的概念——类\r\n",
    "\r\n",
    "1. 类\r\n",
    "\r\n",
    "类是具有相同属性和行为的事物的统称。类是抽象的，我们在使用的时候通常会找到这个类的一个具体的存在，使用这个具体的存在。一个类可以找到多个对象。\r\n",
    "\r\n",
    "2. 对象\r\n",
    "\r\n",
    "对象是某一个具体的事物，在现实世界中是可以看得见摸得着的，是可以直接使用的。\r\n",
    "\r\n",
    "3. 类和对象之间的关系\r\n",
    "\r\n",
    "比如，“共享单车”是一个类，而“我早上上班骑的那辆共享单车”就是一个对象。前者是一个抽象的概念，后者是一个具体的事物。\r\n",
    "\r\n",
    "4. 定义类和创建对象\r\n",
    "\r\n",
    "定义一个类，格式如下："
   ],
   "metadata": {}
  },
  {
   "cell_type": "markdown",
   "source": [
    "```Python\r\n",
    "class 类名：\r\n",
    "    方法列表\r\n",
    "# class Hero: # 经典类（旧式类）定义形式\r\n",
    "# class Teacher():\r\n",
    "class Teacher(object): # 新式类定义形式\r\n",
    "    def info(self):\r\n",
    "        print(\"teacher)\r\n",
    "```\r\n",
    "\r\n",
    "说明：\r\n",
    "\r\n",
    "•定义类时有2种形式：新式类和经典类，上面代码中的 Teacher 为新式类，前两行注释部分则为经典类；\r\n",
    "\r\n",
    "•object 是 Python 里所有类的最顶级父类；\r\n",
    "\r\n",
    "•类名的命名规则按照\"大驼峰命名法\"；\r\n",
    "\r\n",
    "•info 是一个实例方法，第一个参数一般是 self，表示实例对象本身，当然可以将 self 换为其它的名字，其作用是一个变量，这个变量指向了实例对象。\r\n",
    "\r\n",
    "•python 中，可以根据已经定义的类去创建出一个或多个对象。\r\n",
    "\r\n",
    "```Python\r\n",
    "对象名1 = 类名()\r\n",
    "对象名2 = 类名()\r\n",
    "对象名3 = 类名()\r\n",
    "class Teacher(object): # 新式类定义形式\r\n",
    "    \"\"\"info是一个实例方法，类对象可以调用实例方法，实例方法的第一个参数一定是self\"\"\"\r\n",
    "    def info(self):\r\n",
    "        \"\"\"当对象调用实例方法时，Python会自动将对象本身的引用做为参数，传递到实例方法的第一个参数self里\"\"\"\r\n",
    "        print(self)\r\n",
    "        print(\"self各不同，对象是出处。\")\r\n",
    "\r\n",
    "# Teacher这个类，实例化了一个对象\r\n",
    "teacher = Teacher()\r\n",
    "\r\n",
    "# 对象调用实例方法info()，执行info()里的代码\r\n",
    "# .表示选择属性或者方法\r\n",
    "hero.info()\r\n",
    "print(teacher) # 打印对象,则默认打印对象在内存的地址,结果等同于info里的print(self)\r\n",
    "```"
   ],
   "metadata": {}
  },
  {
   "cell_type": "markdown",
   "source": [
    "## 三、对象的属性和方法\r\n",
    "\r\n",
    "### 1. 添加和获取对象的属性\r\n",
    "\r\n",
    "```Python\r\n",
    "class Teacher(object):\r\n",
    "    \"\"\"定义了一个Teacher类,可以讲课\"\"\"\r\n",
    "    def talk(self):\r\n",
    "        \"\"\"实例方法\"\"\"\r\n",
    "        print(\"正在讲课...\")\r\n",
    "\r\n",
    "# 实例化了一个对象\r\n",
    "teacher = Teacher()\r\n",
    "\r\n",
    "# 给对象添加属性,以及对应的属性值\r\n",
    "teacher.name = \"Zhang San\" # 姓名\r\n",
    "teacher.age = 30 # 年龄\r\n",
    "\r\n",
    "# 通过.成员选择运算符,获取对象的属性值\r\n",
    "print(\"老师 %s 的年龄 :%d\" %(teacher.name, teacher.age))\r\n",
    "\r\n",
    "# 通过.成员选择运算符,获取对象的实例方法\r\n",
    "teacher.talk()\r\n",
    "```"
   ],
   "metadata": {}
  },
  {
   "cell_type": "markdown",
   "source": [
    "### 2. 通过 self 获取对象属性\r\n",
    "\r\n",
    "```Python\r\n",
    "class Teacher(object):\r\n",
    "    \"\"\"定义了一个Teacher类,可以讲课\"\"\"\r\n",
    "    def talk(self):\r\n",
    "        \"\"\"实例方法\"\"\"\r\n",
    "        print(\"正在讲课...\")\r\n",
    "\r\n",
    "    def info(self):\r\n",
    "        \"\"\"在类的实例方法中,通过self获取该对象的属性\"\"\"\r\n",
    "        print(\"老师 %s 的年龄 :%d\" % (self.name, self.age))\r\n",
    "\r\n",
    "# 实例化了一个对象\r\n",
    "teacher = Teacher()\r\n",
    "\r\n",
    "# 给对象添加属性,以及对应的属性值\r\n",
    "teacher.name = \"Zhang San\" # 姓名\r\n",
    "teacher.age = 30 # 年龄\r\n",
    "\r\n",
    "# 通过.成员选择运算符,获取对象的实例方法\r\n",
    "teacher.info() # 只需要调用实例方法info(),即可获取英雄的属性\r\n",
    "teacher.talk()\r\n",
    "```"
   ],
   "metadata": {}
  },
  {
   "cell_type": "markdown",
   "source": [
    "### 3. `__init__ `魔法方法\r\n",
    "\r\n",
    "（1）`__init__`方法\r\n",
    "\r\n",
    "```Python\r\n",
    "\r\n",
    "class Teacher(object):\r\n",
    "    \"\"\"定义了一个 Teacher 类，可以讲课\"\"\"\r\n",
    "    # Python 的类里提供的，两个下划线开始，两个下划线结束的方法，就是魔法方法，`__init__()` 就是一个魔法方法，通常用来做 属性初始化 或 赋值 操作。\r\n",
    "    # 如果类面没有写 `__init__` 方法，Python 会自动创建，但是不执行任何操作，\r\n",
    "    # 如果为了能够在完成自己想要的功能，可以自己定义 `__init__` 方法，\r\n",
    "    # 所以一个类里无论自己是否编写 `__init__` 方法 一定有 `__init__` 方法。\r\n",
    "\r\n",
    "    def __init__ (self):\r\n",
    "        \"\"\" 方法，用来做变量初始化或赋值操作，在类实例化对象的时候，会被自动调用\"\"\" \r\n",
    "        self.name = \"Zhang San\" # 姓名\r\n",
    "        self.age = 30 # 生命值\r\n",
    "\r\n",
    "    def talk(self): \"\"\"实例方法\"\"\"\r\n",
    "        print(\"正在讲课...\")\r\n",
    "\r\n",
    "# 实例化了一个 Teacher 对象，并自动调用 `__init__()` 方法\r\n",
    "teacher = Teacher()\r\n",
    "\r\n",
    "# 通过.成员选择运算符，获取对象的实例方法\r\n",
    "teacher.info() # 只需要调用实例方法 info()，即可获取英雄的属性\r\n",
    "teacher.talk()\r\n",
    "```"
   ],
   "metadata": {}
  },
  {
   "cell_type": "markdown",
   "source": [
    "总结：\r\n",
    "\r\n",
    "•`__init__()` 方法，在创建一个对象时默认被调用，不需要手动调用；\r\n",
    "\r\n",
    "•`__init__(self)` 中的 self 参数，不需要开发者传递，python 解释器会自动把当前的对象引用传递过去。"
   ],
   "metadata": {}
  },
  {
   "cell_type": "markdown",
   "source": [
    "（2）有参数的 `__init__()` 方法\r\n",
    "\r\n",
    "```Python\r\n",
    "\r\n",
    "class Teacher(object):\r\n",
    "\"\"\"定义了一个 Teacher 类，可以移动和攻击\"\"\"\r\n",
    "\r\n",
    "    def __init__ (self, name, age):\r\n",
    "    \"\"\" __init__() 方法，用来做变量初始化 或 赋值 操作\"\"\" \r\n",
    "        # 英雄名\r\n",
    "        self.name = name \r\n",
    "        # 年龄 ：self.age = age\r\n",
    "\r\n",
    "    def talk(self): \"\"\"实例方法\"\"\"\r\n",
    "        print(\"%s 正在讲课...\" % self.name)\r\n",
    "\r\n",
    "    def info(self):\r\n",
    "        print(\"老师 %s 的年龄 :%d\" % (self.name, self.age))\r\n",
    "```\r\n",
    "\r\n",
    "注意：\r\n",
    "\r\n",
    "•通过一个类，可以创建多个对象，就好比通过一个模具创建多个实体一样；\r\n",
    "\r\n",
    "•`__init__(self)` 中，默认有 1 个参数名字为 self，如果在创建对象时传递了 2 个实参，那么 __init__(self) 中除了 self 作为第一个形参外还需要 2 个形参，例如 __init__(self,x,y)\r\n",
    "\r\n",
    "•在类内部获取属性和实例方法，通过 self 获取；\r\n",
    "\r\n",
    "•在类外部获取 属性 和 实例方法，通过对象名获取。\r\n",
    "\r\n",
    "•如果一个类有多个对象，每个对象的属性是各自保存的，都有各自独立的地址；\r\n",
    "\r\n",
    "•但是实例方法是所有对象共享的，只占用一份内存空间。类会通过 self 来判断是哪个对象调用了实例方法。"
   ],
   "metadata": {}
  },
  {
   "cell_type": "markdown",
   "source": [
    "## 四、继承\r\n",
    "\r\n",
    "•在程序中，继承描述的是多个类之间的所属关系。\r\n",
    "\r\n",
    "•如果一个类 A 里面的属性和方法可以复用，则可以通过继承的方式，传递到类 B 里。\r\n",
    "\r\n",
    "•那么类 A 就是基类，也叫做父类；类 B 就是派生类，也叫做子类。"
   ],
   "metadata": {}
  },
  {
   "cell_type": "code",
   "execution_count": 9,
   "source": [
    "# 父类\r\n",
    "class A(object):\r\n",
    "    def __init__(self):\r\n",
    "        self.num = 10\r\n",
    "\r\n",
    "    def print_num(self):\r\n",
    "        print(self.num + 10)\r\n",
    "\r\n",
    "# 子类\r\n",
    "class B(A):\r\n",
    "    pass\r\n",
    "\r\n",
    "b = B()\r\n",
    "print(b.num)\r\n",
    "b.print_num()\r\n"
   ],
   "outputs": [
    {
     "output_type": "stream",
     "name": "stdout",
     "text": [
      "10\n",
      "20\n"
     ]
    }
   ],
   "metadata": {}
  },
  {
   "cell_type": "markdown",
   "source": [
    "### 1. 单继承\r\n",
    "\r\n",
    "单继承：子类只继承一个父类。"
   ],
   "metadata": {}
  },
  {
   "cell_type": "code",
   "execution_count": 10,
   "source": [
    "# 定义一个Person类\r\n",
    "class Person(object):\r\n",
    "    def __init__(self):\r\n",
    "        # 属性\r\n",
    "        self.name = \"女娲\"\r\n",
    "    \r\n",
    "    # 实例方法\r\n",
    "    def make_person(self):\r\n",
    "        print(\" <%s> 造了一个人...\" % self.name)\r\n",
    "\r\n",
    "# 定义Teacher类，继承了 Person，则Teacher是子类，Person是父类。\r\n",
    "\r\n",
    "class Teacher(Person):\r\n",
    "    # 子类可以继承父类所有的属性和方法，哪怕子类没有自己的属性和方法，也可以使用父类的属性和方法\r\n",
    "    pass\r\n",
    "\r\n",
    "panda = Teacher() # 创建子类实例对象\r\n",
    "print(panda.name) # 子类对象可以直接使用父类的属性\r\n",
    "damao = Teacher()\r\n",
    "damao.make_person() # 子类对象可以直接使用父类的方法"
   ],
   "outputs": [
    {
     "output_type": "stream",
     "name": "stdout",
     "text": [
      "女娲\n",
      " <女娲> 造了一个人...\n"
     ]
    }
   ],
   "metadata": {}
  },
  {
   "cell_type": "markdown",
   "source": [
    "总结：\r\n",
    "\r\n",
    "•虽然子类没有定义 `__init__`方法初始化属性，也没有定义实例方法，但是父类有。所以只要创建子类的对象，就默认执行了那个继承过来的 __init__ 方法；\r\n",
    "\r\n",
    "•子类在继承的时候，在定义类时，小括号 () 中为父类的名字；\r\n",
    "\r\n",
    "•父类的属性、方法，会被继承给子类；"
   ],
   "metadata": {}
  },
  {
   "cell_type": "markdown",
   "source": [
    "### 2. 多继承\r\n",
    "\r\n",
    "多继承：子类继承多个父类。"
   ],
   "metadata": {}
  },
  {
   "cell_type": "code",
   "execution_count": 14,
   "source": [
    "class Women(object):\r\n",
    "    def __init__(self):\r\n",
    "        self.name = \"女娲\" # 实例变量，属性\r\n",
    "\r\n",
    "    def make_person(self): # 实例方法，方法\r\n",
    "        print(\" <%s> 造了一个人...\" % self.name)\r\n",
    "\r\n",
    "    def move(self):\r\n",
    "        print(\"移动..\")\r\n",
    "\r\n",
    "class Man(object):\r\n",
    "    def __init__(self):\r\n",
    "        self.name = \"亚当\"\r\n",
    "\r\n",
    "    def make_person(self):\r\n",
    "        print(\" <%s> 造了以恶个人...\" % self.name)\r\n",
    "\r\n",
    "    def run(self):\r\n",
    "        print(\"跑..\")\r\n",
    "\r\n",
    "class Person(Women, Man): # 多继承，继承了多个父类\r\n",
    "    pass\r\n",
    "\r\n",
    "ls = Person()\r\n",
    "\r\n",
    "print(ls.name)\r\n",
    "ls.make_person()\r\n",
    "\r\n",
    "# 子类的魔法属性mro决定了属性和方法的查找顺序\r\n",
    "print(Person.mro)"
   ],
   "outputs": [
    {
     "output_type": "stream",
     "name": "stdout",
     "text": [
      "女娲\n",
      " <女娲> 造了一个人...\n",
      "<built-in method mro of type object at 0x000001E3F4711590>\n"
     ]
    }
   ],
   "metadata": {}
  },
  {
   "cell_type": "markdown",
   "source": [
    "> 扩展：关于 `__mro__`：python 类有多继承特性，如果继承关系太复杂，很难看出会先调用那个属性或方法。为了方便且快速地看清继承关系和顺序，我们可以用 __mro__ 方法来获取这个类的调用顺序。\r\n",
    "\r\n",
    "结论：\r\n",
    "\r\n",
    "•多继承可以继承多个父类，也继承了所有父类的属性和方法；\r\n",
    "\r\n",
    "•注意：如果多个父类中有同名的属性和方法，则*默认使用第一个父类*的属性和方法（根据类的魔法属性 mro 的顺序来查找）\r\n",
    "\r\n",
    "•多个父类中，不重名的属性和方法，不会有任何影响。"
   ],
   "metadata": {}
  },
  {
   "cell_type": "markdown",
   "source": [
    "### 3. 重写父类方法\r\n",
    "\r\n",
    "子类继承父类，当父类的方法满足不了子类的需要，子类可以对父类的方法进行重写。\r\n",
    "\r\n",
    "重写的特点:\r\n",
    "\r\n",
    "•继承关系；\r\n",
    "\r\n",
    "•方法名相同。"
   ],
   "metadata": {}
  },
  {
   "cell_type": "code",
   "execution_count": 18,
   "source": [
    "class Person(object):\r\n",
    "    def run(self):\r\n",
    "        print(\"跑起来了\")\r\n",
    "\r\n",
    "class Student(Person):\r\n",
    "    def __init__(self, name, age):\r\n",
    "        self.name = name\r\n",
    "        self.age = age\r\n",
    "\r\n",
    "    # 因为父类的方法满足不了子类的需要，对其进行重写\r\n",
    "    def run(self):\r\n",
    "        print(\"%s跑起来了\" % self.name)\r\n",
    "\r\n",
    "stu = Student(\"王五\", 10)\r\n",
    "# 调用方法的时候先从本类去找，如果本类没有再去父类找，会遵循mro的特点\r\n",
    "stu.run()"
   ],
   "outputs": [
    {
     "output_type": "stream",
     "name": "stdout",
     "text": [
      "王五跑起来了\n"
     ]
    }
   ],
   "metadata": {}
  },
  {
   "cell_type": "markdown",
   "source": [
    "### 4、多态\r\n",
    "\r\n",
    "多态是指，不同的子类对象调用相同的父类方法，产生不同的执行结果，可以增加代码的外部调用灵活度。多态以继承和重写父类方法为前提。\r\n",
    "\r\n",
    "多态是调用方法的技巧，不会影响到类的内部设计。"
   ],
   "metadata": {}
  },
  {
   "cell_type": "code",
   "execution_count": 19,
   "source": [
    "class Animal(object):\r\n",
    "    def run(self):\r\n",
    "        print(\"Animal is running...\")\r\n",
    "\r\n",
    "class Dog(object):\r\n",
    "    def run(self):\r\n",
    "        print(\"Dog is running...\")\r\n",
    "\r\n",
    "class Cat(object):\r\n",
    "    def run(self):\r\n",
    "        print(\"Cat is running...\")\r\n",
    "\r\n",
    "# 定义一个方法\r\n",
    "def run_twice(animal):\r\n",
    "    animal.run()\r\n",
    "    animal.run()\r\n",
    "\r\n",
    "dog = Dog()\r\n",
    "cat = Cat()\r\n",
    "\r\n",
    "run_twice(dog)\r\n",
    "run_twice(cat)"
   ],
   "outputs": [
    {
     "output_type": "stream",
     "name": "stdout",
     "text": [
      "Dog is running...\n",
      "Dog is running...\n",
      "Cat is running...\n",
      "Cat is running...\n"
     ]
    }
   ],
   "metadata": {}
  },
  {
   "cell_type": "markdown",
   "source": [
    "# 数据分析课程笔记 - 05 - Python基础知识（五）：异常、模块、包\r\n",
    "\r\n",
    "本节课的主要内容有：\r\n",
    "\r\n",
    "1、捕获异常\r\n",
    "\r\n",
    "2、模块\r\n",
    "\r\n",
    "（1）自定义模块的使用\r\n",
    "\r\n",
    "3、包的介绍\r\n",
    "\r\n",
    "4、文件基础操作(不是重点)\r\n",
    "\r\n",
    "（1）文件简介\r\n",
    "\r\n",
    "（2）读文件\r\n",
    "\r\n",
    "（3）文件的打开方式\r\n",
    "\r\n",
    "（4）字符编码\r\n",
    "\r\n",
    "（5）写文件"
   ],
   "metadata": {}
  },
  {
   "cell_type": "markdown",
   "source": [
    "## 一、捕获异常\r\n",
    "\r\n",
    "在各种计算机编程语言中，程序一旦出错，系统会一级一级上报，直到某个函数可以处理该错误（比如，给用户输出一个错误信息），才会停止。所以高级语言通常都内置了一套 `try...except...finally...` 的*错误处理机制*，Python 也不例外。举个例子来看一下 `try` 的机制："
   ],
   "metadata": {}
  },
  {
   "cell_type": "code",
   "execution_count": 20,
   "source": [
    "try:\r\n",
    "    print('try...')\r\n",
    "    r = 10 / 0\r\n",
    "    print('result:', r)\r\n",
    "except ZeroDivisionError as e:\r\n",
    "    print('except:', e)\r\n",
    "finally:\r\n",
    "    print('finally...')\r\n",
    "print(\"END\")\r\n"
   ],
   "outputs": [
    {
     "output_type": "stream",
     "name": "stdout",
     "text": [
      "try...\n",
      "except: division by zero\n",
      "finally...\n",
      "END\n"
     ]
    }
   ],
   "metadata": {}
  },
  {
   "cell_type": "markdown",
   "source": [
    "当我们认为某些代码可能会出错时，就可以用 `try` 来运行这段代码，如果执行出错，则*后续代码不会继续执行*，而是直接跳转至错误处理代码，即 `except` 语句块，执行完 `except` 后，如果有 `finally` 语句块，则执行 `finally` 语句块，至此，执行完毕。\r\n",
    "\r\n",
    "上面的代码在计算 `10 / 0` 时会产生一个除法运算错误：\r\n",
    "\r\n",
    "```Python\r\n",
    "try...\r\n",
    "except: division by zero finally...\r\n",
    "END\r\n",
    "```\r\n",
    "\r\n",
    "从输出可以看到，当错误发生时，后续语句 `print('result:', r)` 不会被执行，`except` 由于捕获到 `ZeroDivisionError` ，因此被执行。最后， `finally` 语句被执行。然后，程序继续按照流程往下走。\r\n",
    "\r\n",
    "如果把除数 0 改成 2 ，则执行结果如下："
   ],
   "metadata": {}
  },
  {
   "cell_type": "code",
   "execution_count": 21,
   "source": [
    "try:\r\n",
    "    print('try...')\r\n",
    "    r = 10 / 2\r\n",
    "    print('result:', r)\r\n",
    "except ZeroDivisionError as e:\r\n",
    "    print('except:', e)\r\n",
    "finally:\r\n",
    "    print('finally...')\r\n",
    "print(\"END\")"
   ],
   "outputs": [
    {
     "output_type": "stream",
     "name": "stdout",
     "text": [
      "try...\n",
      "result: 5.0\n",
      "finally...\n",
      "END\n"
     ]
    }
   ],
   "metadata": {}
  },
  {
   "cell_type": "markdown",
   "source": [
    "由于没有错误发生，所以 `except` 语句块不会被执行，但是 `finally` 如果有，则一定会被执行（可以没有 `finally` 语句）。\r\n",
    "\r\n",
    "当然，错误有很多种类，如果发生了不同类型的错误，应该由不同的 `except` 语句块处理。所以我们可以用多个 `except` 来捕获不同类型的错误："
   ],
   "metadata": {}
  },
  {
   "cell_type": "code",
   "execution_count": 22,
   "source": [
    "try:\r\n",
    "    print('try...')\r\n",
    "    r = 10 / int('a')\r\n",
    "    print('result:', r)\r\n",
    "except ValueError as e:\r\n",
    "    print('ValueError:', e)\r\n",
    "except ZeroDivisionError as e:\r\n",
    "    print('ZeroDivisionError:', e)\r\n",
    "finally:\r\n",
    "    print('finally...')\r\n",
    "print(\"END\")"
   ],
   "outputs": [
    {
     "output_type": "stream",
     "name": "stdout",
     "text": [
      "try...\n",
      "ValueError: invalid literal for int() with base 10: 'a'\n",
      "finally...\n",
      "END\n"
     ]
    }
   ],
   "metadata": {}
  },
  {
   "cell_type": "markdown",
   "source": [
    "`int()` 函数可能会抛出 `ValueError` ，所以我们用一个 `except` 捕获 `ValueError`，用另一个 `except` 捕获 `ZeroDivisionError`。\r\n",
    "\r\n",
    "此外，如果没有错误发生，可以在 `except` 语句块后面加一个 `else` ，当没有错误发生时，会自动执行 `else` 语句："
   ],
   "metadata": {}
  },
  {
   "cell_type": "code",
   "execution_count": 23,
   "source": [
    "\r\n",
    "try:\r\n",
    "    print('try...') \r\n",
    "    r = 10 / int('2')\r\n",
    "    print('result:', r) \r\n",
    "except ValueError as e:\r\n",
    "    print('ValueError:', e) \r\n",
    "except ZeroDivisionError as e:\r\n",
    "    print('ZeroDivisionError:', e) \r\n",
    "else:\r\n",
    "    print('no error!') \r\n",
    "finally:\r\n",
    "    print('finally...') \r\n",
    "print('END')"
   ],
   "outputs": [
    {
     "output_type": "stream",
     "name": "stdout",
     "text": [
      "try...\n",
      "result: 5.0\n",
      "no error!\n",
      "finally...\n",
      "END\n"
     ]
    }
   ],
   "metadata": {}
  },
  {
   "cell_type": "markdown",
   "source": [
    "Python 的错误其实也是 `class` ，所有的错误类型都*继承*自 `BaseException`，所以在使用 `except` 时需要注意的是，它不但捕获该类型的错误，还把其子类也“一网打尽”。比如："
   ],
   "metadata": {}
  },
  {
   "cell_type": "code",
   "execution_count": 27,
   "source": [
    "try:\r\n",
    "    # foo()\r\n",
    "    print(\"Hello\")\r\n",
    "except ValueError as e:\r\n",
    "    print('ValueError')\r\n",
    "except UnicodeError() as e:\r\n",
    "    print('UnicodeError')\r\n"
   ],
   "outputs": [
    {
     "output_type": "stream",
     "name": "stdout",
     "text": [
      "Hello\n"
     ]
    }
   ],
   "metadata": {}
  },
  {
   "cell_type": "markdown",
   "source": [
    "第二个 `except` 永远也捕获不到 `UnicodeError` ，因为 `UnicodeError` 是 `ValueError` 的子类，如果有，也被第一个 `except` 给捕获了。\r\n",
    "\r\n",
    "Python所有的错误都是从 `BaseException` 类派生的，常见的错误类型和继承关系看这里：\r\n",
    "\r\n",
    "https://docs.python.org/3/library/exceptions.html#exception-hierarchy\r\n",
    "\r\n",
    "使用 `try...except` 捕获错误还有一个巨大的好处，就是可以跨越多层调用，比如函数 `main()` 调用 `foo()` ， `foo()` 调用 `bar()` ，结果 `bar()` 出错了，这时，只要 `main() `捕获到了，就可以处理："
   ],
   "metadata": {}
  },
  {
   "cell_type": "code",
   "execution_count": 29,
   "source": [
    "\r\n",
    "def foo(s):\r\n",
    "    return 10 / int(s)\r\n",
    "\r\n",
    "def bar(s):\r\n",
    "    return foo(s) * 2\r\n",
    "\r\n",
    "def main(): \r\n",
    "    try:\r\n",
    "        bar('0')\r\n",
    "    except Exception as e: \r\n",
    "        print('Error:', e)\r\n",
    "    finally:\r\n",
    "        print('finally...')\r\n",
    "\r\n",
    "main()"
   ],
   "outputs": [
    {
     "output_type": "stream",
     "name": "stdout",
     "text": [
      "Error: division by zero\n",
      "finally...\n"
     ]
    }
   ],
   "metadata": {}
  },
  {
   "cell_type": "markdown",
   "source": [
    "也就是说，不需要在每个可能出错的地方去捕获错误，只要在合适的层次去捕获错误就可以了。这样一来，就大大减少了写 `try...except...finally` 的麻烦。"
   ],
   "metadata": {}
  },
  {
   "cell_type": "markdown",
   "source": [
    "\r\n",
    "<font size = 3>\r\n",
    "\r\n",
    "**python所有的标准异常类**：\r\n",
    "\r\n",
    "|异常名称|\t描述 |\r\n",
    "| -- | --|\r\n",
    "|BaseException|\t所有异常的基类|\r\n",
    "SystemExit|\t解释器请求退出\r\n",
    "KeyboardInterrupt|\t用户中断执行(通常是输入^C)\r\n",
    "Exception|\t常规错误的基类\r\n",
    "StopIteration|\t迭代器没有更多的值\r\n",
    "GeneratorExit|\t生成器(generator)发生异常来通知退出\r\n",
    "SystemExit|\tPython 解释器请求退出\r\n",
    "StandardError|\t所有的内建标准异常的基类\r\n",
    "ArithmeticError|\t所有数值计算错误的基类\r\n",
    "FloatingPointError|\t浮点计算错误\r\n",
    "OverﬂowError|\t数值运算超出最大限制\r\n",
    "ZeroDivisionError|\t除(或取模)零 (所有数据类型)\r\n",
    "AssertionError|\t断言语句失败\r\n",
    "AttributeError|\t对象没有这个属性\r\n",
    "EOFError|\t没有内建输入，到达EOF 标记\r\n",
    "EnvironmentError|\t操作系统错误的基类\r\n",
    "IOError|\t输入/输出操作失败\r\n",
    "OSError|\t操作系统错误\r\n",
    "WindowsError|\t系统调用失败\r\n",
    "ImportError|\t导入模块/对象失败\r\n",
    "KeyboardInterrupt|\t用户中断执行(通常是输入^C)\r\n",
    "LookupError|\t无效数据查询的基类\r\n",
    "IndexError|\t序列中没有没有此索引(index)\r\n",
    "KeyError|\t映射中没有这个键\r\n",
    "MemoryError|\t内存溢出错误(对于Python 解释器不是致命的)\r\n",
    "NameError|\t未声明/初始化对象 (没有属性)\r\n",
    "UnboundLocalError|\t访问未初始化的本地变量\r\n",
    "ReferenceError|\t弱引用(Weak reference)试图访问已经垃圾回收了的对象\r\n",
    "RuntimeError|\t一般的运行时错误\r\n",
    "NotImplementedError|\t尚未实现的方法\r\n",
    "SyntaxError\tPython| 语法错误\r\n",
    "IndentationError|\t缩进错误\r\n",
    "TabError|\tTab 和空格混用\r\n",
    "SystemError|\t一般的解释器系统错误\r\n",
    "TypeError|\t对类型无效的操作\r\n",
    "ValueError|\t传入无效的参数\r\n",
    "UnicodeError|\tUnicode 相关的错误\r\n",
    "UnicodeDecodeError|\tUnicode 解码时的错误\r\n",
    "UnicodeEncodeError|\tUnicode 编码时错误\r\n",
    "UnicodeTranslateError|\tUnicode 转换时错误\r\n",
    "Warning|\t警告的基类\r\n",
    "DeprecationWarning|\t关于被弃用的特征的警告\r\n",
    "FutureWarning|\t关于构造将来语义会有改变的警告\r\n",
    "OverﬂowWarning|\t旧的关于自动提升为长整型(long)的警告\r\n",
    "PendingDeprecationWarning|\t关于特性将会被废弃的警告\r\n",
    "RuntimeWarning|\t可疑的运行时行为(runtime behavior)的警告\r\n",
    "SyntaxWarning|\t可疑的语法的警告\r\n",
    "UserWarning|\t用户代码生成的警告"
   ],
   "metadata": {}
  },
  {
   "cell_type": "markdown",
   "source": [
    "## 二、模块\r\n",
    "\r\n",
    "*模块*： 通俗理解，一个 `.py` 文件就是一个模块，模块是管理功能代码的。\r\n",
    "\r\n",
    "*内置模块*：就是 python 自己内部自带的不需要我们去下载的模块， 比如：`time`, `random` 等。\r\n",
    "\r\n",
    "### 1、自定义模块的使用\r\n",
    "\r\n",
    "注意： 自定义模块名字和变量名的定义很类似，都是由字母、数字、下划线组成，但是不能以数字开头，否则无法导入该模块。\r\n",
    "\r\n",
    "创建名为ﬁrst_module的自定义模块："
   ],
   "metadata": {}
  },
  {
   "cell_type": "code",
   "execution_count": 30,
   "source": [
    "__all__ = [\"g_num\", \"show\"]\r\n",
    "# 指定 all 表示 from 模块名 import * 只能使用指定的功能代码，而不是所有的功能代码\r\n",
    "\r\n",
    "# 定义全局变量\r\n",
    "g_num = 10\r\n",
    "\r\n",
    "# 定义函数\r\n",
    "def show():\r\n",
    "    print(\"我是一个函数\")\r\n",
    "\r\n",
    "# 定义类\r\n",
    "class Student(object):\r\n",
    "    def __init__(self, name, age):\r\n",
    "        self.name = name\r\n",
    "        self.age = age\r\n",
    "\r\n",
    "    def show_msg(self):\r\n",
    "        print(self.name, self.age)\r\n",
    "\r\n",
    "# 解决导入的模块中方法没有调用就执行\r\n",
    "if __name__ == \"__main__\":\r\n",
    "    show()"
   ],
   "outputs": [
    {
     "output_type": "stream",
     "name": "stdout",
     "text": [
      "我是一个函数\n"
     ]
    }
   ],
   "metadata": {}
  },
  {
   "cell_type": "markdown",
   "source": [
    "使用自定义的模块："
   ],
   "metadata": {}
  },
  {
   "cell_type": "code",
   "execution_count": 33,
   "source": [
    "# 导入模块\r\n",
    "import first_module\r\n",
    "\r\n",
    "# 使用模块中的功能代码\r\n",
    "print(first_module.g_num)"
   ],
   "outputs": [
    {
     "output_type": "stream",
     "name": "stdout",
     "text": [
      "10\n"
     ]
    }
   ],
   "metadata": {}
  },
  {
   "cell_type": "code",
   "execution_count": null,
   "source": [],
   "outputs": [],
   "metadata": {}
  }
 ],
 "metadata": {
  "interpreter": {
   "hash": "9c91df8a30f2ca0588df6ae5802e19be614d84a80266001c42d6a0fb9a071694"
  },
  "kernelspec": {
   "display_name": "Python 3.8.3 64-bit ('base': conda)",
   "name": "python3"
  },
  "language_info": {
   "codemirror_mode": {
    "name": "ipython",
    "version": 3
   },
   "file_extension": ".py",
   "mimetype": "text/x-python",
   "name": "python",
   "nbconvert_exporter": "python",
   "pygments_lexer": "ipython3",
   "version": "3.8.3"
  },
  "orig_nbformat": 4
 },
 "nbformat": 4,
 "nbformat_minor": 2
}