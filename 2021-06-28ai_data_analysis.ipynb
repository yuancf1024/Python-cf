{
 "cells": [
  {
   "cell_type": "markdown",
   "metadata": {},
   "source": [
    "# ai酱数据分析课程笔记"
   ]
  },
  {
   "cell_type": "markdown",
   "metadata": {},
   "source": [
    "[toc]\n",
    "Learning records:\n",
    "2021-06-28 \n",
    "\n"
   ]
  },
  {
   "cell_type": "markdown",
   "metadata": {},
   "source": [
    "## 数据分析课程笔记 - 00 - 环境安装\n",
    "\n",
    "安装Anaconda和MySql，见链接\n",
    "https://www.jianshu.com/p/1daa5934a2b8\n"
   ]
  },
  {
   "cell_type": "markdown",
   "metadata": {},
   "source": [
    "## 数据分析课程 - 01 - Python基础知识（一）\n",
    "\n",
    "### 一、变量与赋值\n",
    "\n",
    "1. 变量定义形式\n",
    "> 变量名=数据\n",
    "\n",
    "2. 常用数据类型\n",
    "\n",
    "•字符串（str）\n",
    "\n",
    "•整数（int）\n",
    "\n",
    "•浮点数（float）\n",
    "\n",
    "•布尔值（bool）\n",
    "\n",
    "•列表（list）\n",
    "\n",
    "•元组（tuple）\n",
    "\n",
    "•字典（dict）\n",
    "\n",
    "•集合（set）\n",
    "\n",
    "3. 变量的命名规则\n",
    "\n",
    "**（1）变量名**\n",
    "\n",
    "> 由字母、数字、下划线组成，且不能以数字开头。\n",
    "\n",
    "注意：不要使用关键字作为变量名。\n",
    "```Python\n",
    "# Python 中的关键字\n",
    "['False', 'None', 'True', 'and', 'as', 'assert', 'async', \n",
    "'await', 'break', 'class', 'continue', 'def', 'del', 'elif',\n",
    " 'else', 'except', 'finally', 'for', 'from', 'global', 'if',\n",
    "  'import', 'in', 'is', 'lambda', 'nonlocal', 'not', 'or', \n",
    "  'pass', 'raise', 'return', 'try', 'while', 'with', 'yield']\n",
    "```\n",
    "\n",
    "**（2）变量命名方式**\n",
    "驼峰命名法：\n",
    "\n",
    "•大驼峰：每个单词首字母都大写：PageNum\n",
    "\n",
    "•小驼峰：第一个单词首字母小写，其他单词首字母大写：pageNum\n",
    "\n",
    "下划线命名法：\n",
    "\n",
    "•单词都使用小写字母，用下划线连接：page_num\n"
   ]
  },
  {
   "cell_type": "markdown",
   "metadata": {},
   "source": [
    "4. 常用的数据类型转换函数\n",
    "\n",
    "|函数\t|   说明 |\n",
    "| ---  | --- |\n",
    "|int(x [,base ]) |\t将x转换为一个整数，后面一个参数为进制，如 int('ff', 16) 结果为 255|\n",
    "|ﬂoat(x)|\t将x转换为一个浮点数|\n",
    "|complex(real [,imag])|\t创建一个复数*，real为实部，imag为虚部|\n",
    "|str(x)|\t将 x 转换为字符串|\n",
    "|repr(x)|\t将 x 转换为表达式字符串，返回结果是给 x 加个双引号|\n",
    "|eval(str)|\t用来计算在字符串中的有效Python表达式，并返回表达式结果|\n",
    "|tuple(s)|\t将序列 s 转换为一个元组|\n",
    "|list(s)|\t将序列 s 转换为一个列表|\n",
    "|chr(x)|\t将一个整数转换为一个Unicode字符|\n",
    "|ord(x)|\t将一个字符转换为它的ASCII整数值|\n",
    "|hex(x)|\t将一个整数转换为一个十六进制字符串|\n",
    "|oct(x)|\t将一个整数转换为一个八进制字符串|\n",
    "|bin(x)|\t将一个整数转换为一个二进制字符串|\n",
    "> 注*：我们把形如z=a+bi（a,b均为实数）的数称为复数，其中a称为实部，b称为虚部，i称为虚数单位。当z的虚部等于零时，常称z为实数；当z的虚部不等于零时，实部等于零时，常称z为纯虚数。"
   ]
  },
  {
   "cell_type": "markdown",
   "metadata": {},
   "source": [
    "### 二、输入和输出\n",
    "\n",
    "1. 输入和输出"
   ]
  },
  {
   "cell_type": "code",
   "execution_count": 3,
   "metadata": {},
   "outputs": [
    {
     "name": "stdout",
     "output_type": "stream",
     "text": [
      "\n",
      "hello world\n",
      "300\n"
     ]
    }
   ],
   "source": [
    "# 输入\n",
    "name = input()\n",
    "# 输出\n",
    "print(name)\n",
    "print(\"hello world\")\n",
    "print(100+200)"
   ]
  },
  {
   "cell_type": "markdown",
   "metadata": {},
   "source": [
    "2. 格式化输出"
   ]
  },
  {
   "cell_type": "code",
   "execution_count": 4,
   "metadata": {},
   "outputs": [
    {
     "name": "stdout",
     "output_type": "stream",
     "text": [
      "π的值是3.14\n",
      "数据分析师的薪资是: 25000\n"
     ]
    }
   ],
   "source": [
    "# 格式化符号：%s, %d, %f, %s\n",
    "# %s: 输出字符串\n",
    "# %d：输出int类型数字\n",
    "# %f：输出浮点数\n",
    "# %x：输出16进制数据\n",
    "\n",
    "PI = 3.1415926\n",
    "print(\"π的值是%.2f\" % PI)\n",
    "\n",
    "job = \"数据分析师\"\n",
    "money = 25000\n",
    "print(\"%s的薪资是: %d\" % (job, money))"
   ]
  },
  {
   "cell_type": "markdown",
   "metadata": {},
   "source": [
    "### 三、运算符\n",
    "1. 算术运算符\n",
    "\n",
    "ython支持以下几种运算符：（假设：x=10, y=20, z = 25）\n",
    "\n",
    "|运算符|\t描述|\t实例|\n",
    "|---|---|---|\n",
    "|+|\t加|\tx + y → 30|\n",
    "|-|\t减|\t负数或减法，x - y → -10|\n",
    "|*|\t乘|\t两个数相乘或是返回一个被重复若干次的字符串，x * y → 200|\n",
    "|/|\t除|\ty / x → 2|\n",
    "|//|\t取整除|\t返回商的整数部分，9//2 → 4，9.0//2.0 → 4.0|\n",
    "|%|\t取余|\t返回除法的余数， z % x → 5|\n",
    "|**\t|指数|\tx**y → 100000000000000000000|\n",
    "\n",
    "> 混合运算时，优先级顺序为：** 高于 * / // % 高于 + - ，为了避免歧义，建议使用 () 来处理运算符优先级。并且，不同类型的数字在进行混合运算时，整数将会转换成浮点数进行运算。"
   ]
  },
  {
   "cell_type": "markdown",
   "metadata": {},
   "source": [
    "2. 赋值运算符\n",
    "\n",
    "\n",
    "|运算符|\t描述|\t实例|\n",
    "|--|--|--|\n",
    "|=|\t赋值运算符|\t把 = 号右边的结果 赋给 左边的变量，如 num = 1 + 2 * 3，结果num的值为7|"
   ]
  },
  {
   "cell_type": "code",
   "execution_count": 5,
   "metadata": {},
   "outputs": [
    {
     "name": "stdout",
     "output_type": "stream",
     "text": [
      "100 3.14 hello True\n"
     ]
    }
   ],
   "source": [
    "# 单个变量赋值\n",
    "num = 1000\n",
    "\n",
    "# 多个变量赋值\n",
    "\n",
    "num1, f1, str1, b1 = 100, 3.14, \"hello\", True\n",
    "print(num1, f1, str1, b1)"
   ]
  },
  {
   "cell_type": "markdown",
   "metadata": {},
   "source": [
    "3. 复合赋值运算符\n",
    "\n",
    "|运算符|\t描述|\t实例|\n",
    "|---|---|---|\n",
    "|+=|\t加法赋值运算符|\tz += x 等效于 z = z + x|\n",
    "|-=|\t减法赋值运算符|\tz -= x 等效于 z = z - x|\n",
    "|*=|\t乘法赋值运算符|\tz *= x 等效于 z = z * x|\n",
    "|/=|\t除法赋值运算符|\tz /= x 等效于 z = z/ x|\n",
    "|%=|\t取模赋值运算符|\tz%= x 等效于 z = z% x|\n",
    "|**=|\t幂赋值运算符|\tz** = x 等效于 z= z**x|\n",
    "|//=\t取整除赋值运算符|\tz //= x 等效于 z = z // x"
   ]
  },
  {
   "cell_type": "code",
   "execution_count": 6,
   "metadata": {},
   "outputs": [
    {
     "name": "stdout",
     "output_type": "stream",
     "text": [
      "3\n"
     ]
    }
   ],
   "source": [
    "z = 10\n",
    "z//=3\n",
    "print(z)"
   ]
  },
  {
   "cell_type": "markdown",
   "metadata": {},
   "source": [
    "4. 比较（关系）运算符\n",
    "\n",
    "Python语言支持比较运算符：（假设：x 为 10, y为 20）\n",
    "\n",
    "|运算符|\t描述|\t实例|\n",
    "|--|--|--|\n",
    "|==|\t等于 - 比较对象是否相等|\t(x == y) 返回 False|\n",
    "|!=|\t不等于 - 比较两个对象是否不相等|\t(x != y) 返回 True|\n",
    "|>|\t大于 - 返回x是否大于y|\t(x > y) 返回 False|\n",
    "|<|\t小于 - 返回x是否小于y。所有比较运算符返回1表示真，返回0表示假。|\t(x < y) 返回 True\n",
    "|>=|\t大于等于 - 返回x是否大于等于y|\t(x >= y) 返回 False|\n",
    "|<=|\t小于等于 - 返回x是否小于等于y|\t(x <= y) 返回 True|\n",
    "\n",
    "\n"
   ]
  },
  {
   "cell_type": "markdown",
   "metadata": {},
   "source": [
    "5. 逻辑运算符\n",
    "\n",
    "Python语言支持逻辑运算符：（假设：变量 x 为 True, y 为 False）\n",
    "\n",
    "|运算符|\t描述|\t实例|\n",
    "|--|--|--|\n",
    "|and|\t布尔\"与\"|\tx and y 返回False|\n",
    "|or|\t布尔\"或\"|\tx or y 返回 True|\n",
    "|not|\t布尔\"非\"|\tnot x 返回False|"
   ]
  },
  {
   "cell_type": "markdown",
   "metadata": {},
   "source": [
    "### 四、if语句\n",
    "\n",
    "1. 条件判断\n",
    "\n",
    "Python语言print输出默认带有换行"
   ]
  },
  {
   "cell_type": "code",
   "execution_count": 7,
   "metadata": {},
   "outputs": [
    {
     "name": "stdout",
     "output_type": "stream",
     "text": [
      "your age is 20\n",
      "adult\n"
     ]
    }
   ],
   "source": [
    "age = 20\n",
    "if age >= 18:\n",
    "    print('your age is', age)\n",
    "    # print('your age is', age, end='\\n')\n",
    "    print('adult')"
   ]
  },
  {
   "cell_type": "markdown",
   "metadata": {},
   "source": [
    "2. if ... else 条件判断："
   ]
  },
  {
   "cell_type": "code",
   "execution_count": 8,
   "metadata": {},
   "outputs": [
    {
     "name": "stdout",
     "output_type": "stream",
     "text": [
      "你的年龄 6\n",
      "未成年\n"
     ]
    }
   ],
   "source": [
    "age = 6\n",
    "if age >= 18:\n",
    "    print(\"你的年龄\", age)\n",
    "    print(\"成年\")\n",
    "else:\n",
    "    print(\"你的年龄\", age)\n",
    "    print(\"未成年\")"
   ]
  },
  {
   "cell_type": "markdown",
   "metadata": {},
   "source": [
    "3. if...elif...else 条件判断："
   ]
  },
  {
   "cell_type": "code",
   "execution_count": 9,
   "metadata": {},
   "outputs": [
    {
     "name": "stdout",
     "output_type": "stream",
     "text": [
      "儿童\n"
     ]
    }
   ],
   "source": [
    "age = 6\n",
    "if age >= 18:\n",
    "    print(\"成年\")\n",
    "elif age >= 7:\n",
    "    print(\"青少年\")\n",
    "else:\n",
    "    print(\"儿童\")"
   ]
  },
  {
   "cell_type": "markdown",
   "metadata": {},
   "source": [
    "可以有多个 elif：\n",
    "\n",
    "```Python\n",
    "if <条件判断1>:\n",
    "    <执行1>\n",
    "elif <条件判断2>:\n",
    "    <执行2>\n",
    "elif <条件判断3>:\n",
    "    <执行3> \n",
    "else:\n",
    "    <执行4>\n",
    "```\n",
    "\n",
    "> 注意： if 语句执行时是从上往下判断，如果在某个判断上是 True ，把该判断对应的语句执行后，就会忽略掉剩下的 elif 和 else.**因此在设置条件的时候一定要把各个语句的判断条件设置成相互独立的集合，不要存在交集。**"
   ]
  },
  {
   "cell_type": "markdown",
   "metadata": {},
   "source": [
    "### 五、循环\n",
    "\n",
    "1. while循环\n",
    "\n",
    "**while循环主要用于在满足一定条件的情况下执行重复任务。**\n",
    "\n",
    "语法：\n",
    "```Python\n",
    "while 条件:\n",
    "    条件满足时，做的事情1 \n",
    "    条件满足时，做的事情2 \n",
    "    条件满足时，做的事情3\n",
    "    ...(省略)...\n",
    "```"
   ]
  },
  {
   "cell_type": "code",
   "execution_count": 10,
   "metadata": {},
   "outputs": [
    {
     "name": "stdout",
     "output_type": "stream",
     "text": [
      "Hello world\n",
      "Hello world\n",
      "Hello world\n",
      "Hello world\n",
      "Hello world\n",
      "Hello world\n",
      "Hello world\n",
      "Hello world\n",
      "Hello world\n",
      "Hello world\n"
     ]
    }
   ],
   "source": [
    "i = 1\n",
    "while i <= 10:\n",
    "    print(\"Hello world\")\n",
    "    i+=1"
   ]
  },
  {
   "cell_type": "markdown",
   "metadata": {},
   "source": [
    "2. for循环\n",
    "**for循环主要用于遍历。**\n",
    "遍历字符串"
   ]
  },
  {
   "cell_type": "code",
   "execution_count": 11,
   "metadata": {},
   "outputs": [
    {
     "name": "stdout",
     "output_type": "stream",
     "text": [
      "Mike\n",
      "HuaHua\n",
      "Jay\n"
     ]
    }
   ],
   "source": [
    "names = ['Mike', 'HuaHua', 'Jay']\n",
    "for name in names:\n",
    "    print(name)"
   ]
  },
  {
   "cell_type": "markdown",
   "metadata": {},
   "source": [
    "所以 for x in ... 循环就是把每个元素代入变量 x ，然后执行缩进块的语句。\n",
    "\n",
    "变量累加："
   ]
  },
  {
   "cell_type": "code",
   "execution_count": 12,
   "metadata": {},
   "outputs": [
    {
     "name": "stdout",
     "output_type": "stream",
     "text": [
      "55\n"
     ]
    }
   ],
   "source": [
    "sum = 0\n",
    "for x in range(1,11):\n",
    "    sum += x\n",
    "print(sum)"
   ]
  },
  {
   "cell_type": "markdown",
   "metadata": {},
   "source": [
    "3. range() 函数\n",
    "\n",
    "range() 函数的语法是 range（start， end， scan)，start 是开始数，end是结尾数，scan是跳跃间距，默认从0开始，**取开头不取结尾**，因此从1到10就写成 range(1,11)，如果是取从 1-10 的奇数就写成 range(1,10,2)。如果写成 range(10)，就代表从 0 到 9 这 10 个数。"
   ]
  },
  {
   "cell_type": "markdown",
   "metadata": {},
   "source": [
    "4. break\n",
    "\n",
    "**break 语句的作用是可以提前退出循环。**\n",
    "\n",
    "例如，我们希望在 m 大于 10 的时候就提前退出循环："
   ]
  },
  {
   "cell_type": "code",
   "execution_count": 13,
   "metadata": {},
   "outputs": [
    {
     "name": "stdout",
     "output_type": "stream",
     "text": [
      "1\n",
      "2\n",
      "3\n",
      "4\n",
      "5\n",
      "6\n",
      "7\n",
      "8\n",
      "9\n",
      "10\n",
      "END\n"
     ]
    }
   ],
   "source": [
    "m = 1\n",
    "while m <= 50:\n",
    "    if m > 10:\n",
    "        break\n",
    "    print(m)\n",
    "    m += 1\n",
    "print(\"END\")"
   ]
  },
  {
   "cell_type": "markdown",
   "metadata": {},
   "source": [
    "5. continue\n",
    "\n",
    "在循环过程中，也可以通过 continue 语句，**跳过当前的这次循环，直接开始下一次循环。**\n",
    "\n",
    "如果我们想打印 1-10 中的奇数，可以用 continue 语句跳过某些循环："
   ]
  },
  {
   "cell_type": "code",
   "execution_count": 14,
   "metadata": {},
   "outputs": [
    {
     "name": "stdout",
     "output_type": "stream",
     "text": [
      "1\n",
      "3\n",
      "5\n",
      "7\n",
      "9\n"
     ]
    }
   ],
   "source": [
    "n = 0\n",
    "while n < 10:\n",
    "    n += 1\n",
    "    if n % 2 == 0:\n",
    "        continue\n",
    "    print(n)"
   ]
  },
  {
   "cell_type": "markdown",
   "metadata": {},
   "source": [
    "## 数据分析课程 - 02 - Python基础知识（二）：数据容器\n",
    "\n",
    "全面梳理了 Python 的几种数据容器：字符串、列表、字典、元组、集合的定义、特性以及一些增删改查的基本操作。之前学得比较零碎，或者概念比较混淆的同学也可以系统地过一遍加深印象、进一步理解和区分这几种数据容器。"
   ]
  },
  {
   "cell_type": "markdown",
   "metadata": {},
   "source": [
    "### 一、字符串（str）\n",
    "1. 字符串的定义\n",
    "\n",
    "被单引号、双引号、三引号包围的字符组，就是字符串，例如：\n"
   ]
  },
  {
   "cell_type": "code",
   "execution_count": 15,
   "metadata": {},
   "outputs": [],
   "source": [
    "str = 'hello'\n",
    "str = 'world'\n",
    "str = \"\"\"hello\n",
    "        Python\"\"\""
   ]
  },
  {
   "cell_type": "markdown",
   "metadata": {},
   "source": [
    "2. 下标和切片\n",
    "\n",
    "（1）下标索引\n",
    "\n",
    "根据下标找到元素位置，索引从 0 开始："
   ]
  },
  {
   "cell_type": "code",
   "execution_count": 16,
   "metadata": {},
   "outputs": [
    {
     "name": "stdout",
     "output_type": "stream",
     "text": [
      "a\n"
     ]
    }
   ],
   "source": [
    "name = 'zhangsan'\n",
    "print(name[2])"
   ]
  },
  {
   "cell_type": "markdown",
   "metadata": {},
   "source": [
    "（2）切片\n",
    "\n",
    "利用下表索引从字符串里截取一段元素，切片的语法是: [起始:结束:步长]。字符串、列表、元组都支持切片操作。"
   ]
  },
  {
   "cell_type": "code",
   "execution_count": 17,
   "metadata": {},
   "outputs": [
    {
     "name": "stdout",
     "output_type": "stream",
     "text": [
      "abc\n",
      "de\n",
      "cdef\n",
      "bcde\n",
      "abc\n",
      "ace\n",
      "\n",
      "bd\n",
      "fdb\n",
      "fd\n"
     ]
    }
   ],
   "source": [
    "name = 'abcdef'\n",
    "print(name[0:3])\n",
    "print(name[3:5])\n",
    "print(name[2:])\n",
    "print(name[1:-1])\n",
    "\n",
    "a = 'abcdef'\n",
    "print(a[:3])\n",
    "print(a[::2])\n",
    "print(a[5:1:2])\n",
    "print(a[1:5:2])\n",
    "print(a[::-2])\n",
    "print(a[5:1:-2])"
   ]
  },
  {
   "cell_type": "markdown",
   "metadata": {},
   "source": [
    "3. 字符串的增删改查\n",
    "\n",
    "假如有字符串 mystr = 'hello world kkb'：\n",
    "\n",
    "#### ***（1）查***：\n",
    " ﬁnd、index、count、startswith、endswith、rﬁnd、rindex\n",
    "\n",
    "① find\n",
    "\n",
    "检测 str 是否包含在 mystr 中，如果是，返回开始的索引值，否则返回-1\n",
    "```Python\n",
    "mystr.find(str, start=0, end=len(mystr))\n",
    "```"
   ]
  },
  {
   "cell_type": "code",
   "execution_count": 18,
   "metadata": {},
   "outputs": [
    {
     "data": {
      "text/plain": [
       "-1"
      ]
     },
     "execution_count": 18,
     "metadata": {},
     "output_type": "execute_result"
    }
   ],
   "source": [
    "mystr = 'hello world kkb'\n",
    "mystr.find(\"kkb\")\n",
    "mystr.find(\"kkb\", 0, 10)"
   ]
  },
  {
   "cell_type": "markdown",
   "metadata": {},
   "source": [
    "② index\n",
    "\n",
    "跟 find() 方法一样，只不过如果 str 不在 mystr 中会报一个异常。\n",
    "```Python\n",
    "mystr.index(str, start=0, end=len(mystr))\n",
    "```"
   ]
  },
  {
   "cell_type": "code",
   "execution_count": 19,
   "metadata": {},
   "outputs": [
    {
     "ename": "ValueError",
     "evalue": "substring not found",
     "output_type": "error",
     "traceback": [
      "\u001b[1;31m---------------------------------------------------------------------------\u001b[0m",
      "\u001b[1;31mValueError\u001b[0m                                Traceback (most recent call last)",
      "\u001b[1;32m<ipython-input-19-d6ac757e5ced>\u001b[0m in \u001b[0;36m<module>\u001b[1;34m\u001b[0m\n\u001b[0;32m      1\u001b[0m \u001b[0mmystr\u001b[0m \u001b[1;33m=\u001b[0m \u001b[1;34m'hello world kkb'\u001b[0m\u001b[1;33m\u001b[0m\u001b[1;33m\u001b[0m\u001b[0m\n\u001b[1;32m----> 2\u001b[1;33m \u001b[0mmystr\u001b[0m\u001b[1;33m.\u001b[0m\u001b[0mindex\u001b[0m\u001b[1;33m(\u001b[0m\u001b[1;34m\"ab\"\u001b[0m\u001b[1;33m)\u001b[0m\u001b[1;33m\u001b[0m\u001b[1;33m\u001b[0m\u001b[0m\n\u001b[0m",
      "\u001b[1;31mValueError\u001b[0m: substring not found"
     ]
    }
   ],
   "source": [
    "mystr = 'hello world kkb'\n",
    "mystr.index(\"ab\")"
   ]
  },
  {
   "cell_type": "markdown",
   "metadata": {},
   "source": [
    "③ count\n",
    "\n",
    "返回 str 在 start 和 end 之间 在 mystr 里出现的次数：\n",
    "```Python\n",
    "mystr.count(str, start=0, end=len(mystr))\n",
    "```"
   ]
  },
  {
   "cell_type": "code",
   "execution_count": null,
   "metadata": {},
   "outputs": [
    {
     "data": {
      "text/plain": [
       "2"
      ]
     },
     "execution_count": 42,
     "metadata": {},
     "output_type": "execute_result"
    }
   ],
   "source": [
    "mystr = 'hello world kkb and kkb'\n",
    "mystr.count('kkb')"
   ]
  },
  {
   "cell_type": "markdown",
   "metadata": {},
   "source": [
    "④ startswith\n",
    "\n",
    "检查字符串是否是以 hello 开头，是则返回 True ，否则返回 False："
   ]
  },
  {
   "cell_type": "code",
   "execution_count": null,
   "metadata": {},
   "outputs": [
    {
     "data": {
      "text/plain": [
       "True"
      ]
     },
     "execution_count": 43,
     "metadata": {},
     "output_type": "execute_result"
    }
   ],
   "source": [
    "mystr.startswith('hello')"
   ]
  },
  {
   "cell_type": "markdown",
   "metadata": {},
   "source": [
    "⑤ endswith\n",
    "\n",
    "检查字符串是否以 obj 结束，如果是返回 True ，否则返回 False："
   ]
  },
  {
   "cell_type": "code",
   "execution_count": null,
   "metadata": {},
   "outputs": [
    {
     "data": {
      "text/plain": [
       "True"
      ]
     },
     "execution_count": 45,
     "metadata": {},
     "output_type": "execute_result"
    }
   ],
   "source": [
    "mystr.endswith('kkb')"
   ]
  },
  {
   "cell_type": "markdown",
   "metadata": {},
   "source": [
    "⑥ rﬁnd\n",
    "\n",
    "类似于 find() 函数，不过是从右边开始查找：\n",
    "```Python\n",
    "mystr.rfind(str, start=0, end=len(mystr))\n",
    "```"
   ]
  },
  {
   "cell_type": "markdown",
   "metadata": {},
   "source": [
    "⑦ rindex\n",
    "\n",
    "类似于 index() ，不过是从右边开始：\n",
    "```Python\n",
    "mystr.rindex(str, start=0, end=len(mystr))\n",
    "```"
   ]
  },
  {
   "cell_type": "markdown",
   "metadata": {},
   "source": [
    "#### （2）增\n",
    "\n",
    "join\n",
    "\n",
    "mystr 中每个元素后面插入 str ,构造出一个新的字符串：\n",
    "```Python\n",
    "str.join(mystr)\n",
    "```\n"
   ]
  },
  {
   "cell_type": "code",
   "execution_count": null,
   "metadata": {},
   "outputs": [
    {
     "data": {
      "text/plain": [
       "'a1234b1234c1234d'"
      ]
     },
     "execution_count": 47,
     "metadata": {},
     "output_type": "execute_result"
    }
   ],
   "source": [
    "str1 = \"1234\"\n",
    "mystr = \"abcd\"\n",
    "str1.join(mystr)"
   ]
  },
  {
   "cell_type": "markdown",
   "metadata": {},
   "source": [
    "#### （3）删\n",
    "\n",
    "① lstrip\n",
    "\n",
    "删除 mystr 左边的空白字符：\n",
    "```Python\n",
    "mystr.lstrip()\n",
    "```\n",
    "\n",
    "② rstrip\n",
    "\n",
    "删除 mystr 字符串末尾的空白字符：\n",
    "```Python\n",
    "mystr.rstrip()\n",
    "```\n",
    "③ strip\n",
    "\n",
    "删除 mystr 字符串两端的空白字符：\n"
   ]
  },
  {
   "cell_type": "code",
   "execution_count": null,
   "metadata": {},
   "outputs": [
    {
     "data": {
      "text/plain": [
       "'kkb'"
      ]
     },
     "execution_count": 48,
     "metadata": {},
     "output_type": "execute_result"
    }
   ],
   "source": [
    "a = \"\\n\\t kkb \\t\\n\"\n",
    "a.strip()"
   ]
  },
  {
   "cell_type": "markdown",
   "metadata": {},
   "source": [
    "#### （4）改\n",
    "\n",
    "① replace\n",
    "\n",
    "把 mystr 中的 str1 替换成 str2，如果 count 指定，则替换不超过 count 次：\n",
    "```Python\n",
    "mystr.replace(str1, str2, mystr.count(str1))\n",
    "```\n",
    "\n",
    "② split\n",
    "\n",
    "以 str 为分隔符切片 mystr ，如果 maxsplit 有指定值，则仅分隔 maxsplit 个子字符串：\n",
    "\n",
    "```Python\n",
    "mystr.split(str=\" \", 2)\n",
    "```\n",
    "\n",
    "③ capitalize\n",
    "\n",
    "把字符串的第一个字符大写：\n",
    "```Python\n",
    "mystr.capitalize()\n",
    "```"
   ]
  },
  {
   "cell_type": "markdown",
   "metadata": {},
   "source": [
    "④ title\n",
    "\n",
    "返回“标题化”的字符串，所有单词都以大写开始，其余字母均为小写：\n"
   ]
  },
  {
   "cell_type": "code",
   "execution_count": null,
   "metadata": {},
   "outputs": [
    {
     "data": {
      "text/plain": [
       "'Hello Kkb'"
      ]
     },
     "execution_count": 49,
     "metadata": {},
     "output_type": "execute_result"
    }
   ],
   "source": [
    "a = \"hello kkb\"\n",
    "a.title()"
   ]
  },
  {
   "cell_type": "markdown",
   "metadata": {},
   "source": [
    "⑤ lower\n",
    "\n",
    "转换 mystr 中所有大写字符为小写："
   ]
  },
  {
   "cell_type": "code",
   "execution_count": null,
   "metadata": {},
   "outputs": [
    {
     "data": {
      "text/plain": [
       "'abcd'"
      ]
     },
     "execution_count": 50,
     "metadata": {},
     "output_type": "execute_result"
    }
   ],
   "source": [
    "mystr.lower()"
   ]
  },
  {
   "cell_type": "markdown",
   "metadata": {},
   "source": [
    "⑥ upper\n",
    "\n",
    "转换 mystr 中的小写字母为大写："
   ]
  },
  {
   "cell_type": "code",
   "execution_count": null,
   "metadata": {},
   "outputs": [
    {
     "data": {
      "text/plain": [
       "'ABCD'"
      ]
     },
     "execution_count": 51,
     "metadata": {},
     "output_type": "execute_result"
    }
   ],
   "source": [
    "mystr.upper()"
   ]
  },
  {
   "cell_type": "markdown",
   "metadata": {},
   "source": [
    "⑦ ljust\n",
    "\n",
    "返回一个原字符串左对齐，并使用空格填充至 width 长度的新字符串：\n",
    "```Python\n",
    "mystr.ljust(width)\n",
    "```\n",
    "\n",
    "⑧ rjust\n",
    "\n",
    "返回一个原字符串右对齐，并使用空格填充至长度 width 的新字符串：\n",
    "```Python\n",
    "mystr.rjust(width)\n",
    "```\n",
    "\n",
    "⑨ center\n",
    "\n",
    "返回一个原字符串居中，并使用空格填充至 width 长度的新字符串：\n",
    "```Python\n",
    "mystr.center(width)\n",
    "```\n",
    "\n",
    "⑩ partition\n",
    "\n",
    "把 mystr 以 str 分割成三部分，str 前、str 和 str 后：\n",
    "```Python\n",
    "mystr.partition(str)\n",
    "```\n",
    "\n",
    "⑪ rpartition\n",
    "\n",
    "类似于 partition() 函数，不过是从右边开始：\n",
    "```Python\n",
    "mystr.rpartition(str)\n",
    "```\n",
    "\n",
    "⑫ splitlines\n",
    "\n",
    "按照行分隔，返回一个包含各行作为元素的列表：\n",
    "```Python\n",
    "mystr.splitlines()\n",
    "```"
   ]
  },
  {
   "cell_type": "markdown",
   "metadata": {},
   "source": [
    "### 二、列表（list）\n",
    "1. 列表简介\n",
    "列表是一种有序的集合，可以随时添加和删除其中的元素，写在方括号之间、用逗号分隔开的数值列表。列表内的项目不必全是相同的类型（这点是比C语言的数组强大的地方）。\n",
    "\n",
    "例如："
   ]
  },
  {
   "cell_type": "code",
   "execution_count": null,
   "metadata": {},
   "outputs": [],
   "source": [
    "list1 = ['Mike', '张三', 25000, 99.99, True]"
   ]
  },
  {
   "cell_type": "markdown",
   "metadata": {},
   "source": [
    "2. 列表的增删改查\n",
    "\n",
    "（1）列表的长度\n"
   ]
  },
  {
   "cell_type": "code",
   "execution_count": null,
   "metadata": {},
   "outputs": [
    {
     "data": {
      "text/plain": [
       "3"
      ]
     },
     "execution_count": 53,
     "metadata": {},
     "output_type": "execute_result"
    }
   ],
   "source": [
    "# 用len()函数可以获得list元素的个数：\n",
    "nameList = ['xiaoWang', 'xiaoZhang', 'xiaoHua']\n",
    "len(nameList)"
   ]
  },
  {
   "cell_type": "markdown",
   "metadata": {},
   "source": [
    "（2）列表的访问\n",
    "\n",
    "用索引来访问 list 中每一个位置的元素，与字符串的索引相同，列表的索引也是从0开始的："
   ]
  },
  {
   "cell_type": "code",
   "execution_count": null,
   "metadata": {},
   "outputs": [
    {
     "name": "stdout",
     "output_type": "stream",
     "text": [
      "Tony\n",
      "Rose\n",
      "Lucy\n"
     ]
    }
   ],
   "source": [
    "nameList = ['Tony', 'Rose', 'Lucy']\n",
    "print(nameList[0])\n",
    "print(nameList[1])\n",
    "print(nameList[2])"
   ]
  },
  {
   "cell_type": "markdown",
   "metadata": {},
   "source": [
    "如果索引超出当前列表范围，例如如果输入 print(namesList[3])，系统就会报错：IndexError: list index out of range。所以，要确保索引不越界，最后一个元素的索引是 len(classmates) - 1。\n",
    "\n",
    "此外，还可以通过 -1来取最后一个元素："
   ]
  },
  {
   "cell_type": "code",
   "execution_count": null,
   "metadata": {},
   "outputs": [
    {
     "name": "stdout",
     "output_type": "stream",
     "text": [
      "Lucy\n"
     ]
    }
   ],
   "source": [
    "print(nameList[-1])"
   ]
  },
  {
   "cell_type": "code",
   "execution_count": null,
   "metadata": {},
   "outputs": [
    {
     "name": "stdout",
     "output_type": "stream",
     "text": [
      "Lucy\n",
      "Rose\n",
      "Tony\n"
     ]
    }
   ],
   "source": [
    "# 以此类推，-2、-3 可以获取倒数第2个、倒数第3个元素：\n",
    "print(nameList[-1])\n",
    "print(nameList[-2])\n",
    "print(nameList[-3])"
   ]
  },
  {
   "cell_type": "markdown",
   "metadata": {},
   "source": [
    "（3）列表的切片\n",
    "\n",
    "切片是根据下标的范围获取一部分数据。\n",
    "\n",
    "切片的使用格式：\n",
    "`数据[起始下标:结束下标:步长]`\n",
    "\n",
    "> 注意：起始下标默认0， 结束下标是不包含（也就是取左不取右）， 步长默认是1"
   ]
  },
  {
   "cell_type": "code",
   "execution_count": null,
   "metadata": {},
   "outputs": [
    {
     "name": "stdout",
     "output_type": "stream",
     "text": [
      "['张三', 25000, 9.9]\n",
      "['Mike', '张三', 25000]\n",
      "['Mike', '张三', 25000]\n"
     ]
    }
   ],
   "source": [
    "# 使用切片的方式\n",
    "my_str = ['Mike', '张三', 25000, 9.9, True]\n",
    "result = my_str[1:4:1]\n",
    "print(result)\n",
    "\n",
    "# 前三个\n",
    "result = my_str[0:3]\n",
    "print(result)\n",
    "result = my_str[:3]\n",
    "print(result)"
   ]
  },
  {
   "cell_type": "markdown",
   "metadata": {},
   "source": [
    "（4）添加元素（append、extend、insert）\n",
    "\n",
    "通过 append 可以向列表添加元素："
   ]
  },
  {
   "cell_type": "code",
   "execution_count": null,
   "metadata": {},
   "outputs": [
    {
     "name": "stdout",
     "output_type": "stream",
     "text": [
      "-----添加之前，列表A的数据-----\n",
      "ZhangSan\n",
      "LiSi\n",
      "WangWu\n",
      "-----添加之后，列表A的数据-----\n",
      "ZhangSan\n",
      "LiSi\n",
      "WangWu\n",
      "Chenfeng\n"
     ]
    }
   ],
   "source": [
    "# 定义变量A，默认有3个元素\n",
    "nameListA = ['ZhangSan', 'LiSi', 'WangWu']\n",
    "\n",
    "print(\"-----添加之前，列表A的数据-----\")\n",
    "for tempName in nameListA:\n",
    "    print(tempName)\n",
    "\n",
    "# 提示、并添加元素\n",
    "temp = input(\"请输入要添加的学生姓名：\")\n",
    "nameListA.append(temp)\n",
    "\n",
    "print(\"-----添加之后，列表A的数据-----\")\n",
    "for tempName in nameListA:\n",
    "    print(tempName)"
   ]
  },
  {
   "cell_type": "markdown",
   "metadata": {},
   "source": [
    "通过 extend 可以将另一个集合中的元素逐一添加到列表中："
   ]
  },
  {
   "cell_type": "code",
   "execution_count": null,
   "metadata": {},
   "outputs": [
    {
     "name": "stdout",
     "output_type": "stream",
     "text": [
      "[1, 2, 3, [4, 5, 6]]\n",
      "[1, 2, 3, 4, 5, 6]\n",
      "[1, 100, 2, 3]\n"
     ]
    }
   ],
   "source": [
    "# append\n",
    "a = [1, 2, 3]\n",
    "b =[4, 5, 6]\n",
    "a.append(b)\n",
    "print(a)\n",
    "\n",
    "# extend\n",
    "a = [1, 2, 3]\n",
    "b =[4, 5, 6]\n",
    "a.extend(b)\n",
    "print(a)\n",
    "\n",
    "# insert\n",
    "# insert(index, object)` 在指定位置`index`前插入元素`object \n",
    "a = [1, 2, 3]\n",
    "a.insert(1, 100)\n",
    "print(a)\n"
   ]
  },
  {
   "cell_type": "markdown",
   "metadata": {},
   "source": [
    "（5）修改元素\n",
    "\n",
    "修改元素时，要通过下标来确定要修改哪个元素，然后才能进行修改："
   ]
  },
  {
   "cell_type": "code",
   "execution_count": null,
   "metadata": {},
   "outputs": [
    {
     "name": "stdout",
     "output_type": "stream",
     "text": [
      "修改之前，列表A的数据\n",
      "ZhangSan\n",
      "LiSi\n",
      "WangWu\n",
      "ZhaoLiu\n",
      "修改之后，列表A的数据\n",
      "ZhangSan\n",
      "张三\n",
      "WangWu\n",
      "ZhaoLiu\n"
     ]
    }
   ],
   "source": [
    "# 定义变量namesListA, 默认有4个元素\n",
    "namesListA = ['ZhangSan', 'LiSi', 'WangWu', 'ZhaoLiu']\n",
    "\n",
    "print(\"修改之前，列表A的数据\")\n",
    "for tempName in namesListA:\n",
    "    print(tempName)\n",
    "\n",
    "# 修改元素\n",
    "namesListA[1] = '张三'\n",
    "print(\"修改之后，列表A的数据\")\n",
    "for tempName in namesListA:\n",
    "    print(tempName)"
   ]
  },
  {
   "cell_type": "markdown",
   "metadata": {},
   "source": [
    "（6）查找元素\n",
    "\n",
    "所谓的查找，即查找指定元素是否存在。\n",
    "\n",
    "python 中查找的常用方法为：\n",
    "\n",
    "•in （存在）,如果存在那么结果为 true ，否则为 false\n",
    "\n",
    "•not in（不存在），如果不存在那么结果为 true ，否则 false"
   ]
  },
  {
   "cell_type": "code",
   "execution_count": null,
   "metadata": {},
   "outputs": [
    {
     "name": "stdout",
     "output_type": "stream",
     "text": [
      "在列表中找到了相同的名字\n"
     ]
    }
   ],
   "source": [
    "# 待查找的列表\n",
    "namesListA = ['ZhangSan', 'LiSi', 'WangWu', 'ZhaoLiu']\n",
    "\n",
    "# 获取用户的名字\n",
    "findName = input(\"亲身高和如要查找的姓名：\")\n",
    "\n",
    "# 查找是否存在\n",
    "if findName in namesListA:\n",
    "    print(\"在列表中找到了相同的名字\")\n",
    "else:\n",
    "    print(\"没有找到\")\n",
    "    "
   ]
  },
  {
   "cell_type": "markdown",
   "metadata": {},
   "source": [
    "index 和 count 与字符串中的用法相同："
   ]
  },
  {
   "cell_type": "code",
   "execution_count": null,
   "metadata": {},
   "outputs": [
    {
     "name": "stdout",
     "output_type": "stream",
     "text": [
      "2\n",
      "0\n"
     ]
    }
   ],
   "source": [
    "a = ['a', 'b', 'c', 'a', 'b']\n",
    "a.index('a', 1, 4)\n",
    "print(a.count('b'))\n",
    "print(a.count('d'))"
   ]
  },
  {
   "cell_type": "markdown",
   "metadata": {},
   "source": [
    "（7）删除元素\n",
    "\n",
    "列表元素的常用删除方法有：\n",
    "\n",
    "•del： 根据下标进行删除；\n",
    "\n",
    "•pop：删除最后一个元素；\n",
    "\n",
    "•remove：根据元素的值进行删除；\n",
    "\n",
    "① del\n"
   ]
  },
  {
   "cell_type": "code",
   "execution_count": null,
   "metadata": {},
   "outputs": [
    {
     "name": "stdout",
     "output_type": "stream",
     "text": [
      "------删除之前------\n",
      "a\n",
      "b\n",
      "c\n",
      "d\n",
      "e\n",
      "f\n",
      "------删除之后------\n",
      "a\n",
      "b\n",
      "d\n",
      "e\n",
      "f\n"
     ]
    }
   ],
   "source": [
    "\n",
    "list1 = ['a','b','c','d','e','f']\n",
    "\n",
    "print('------删除之前------')\n",
    "for tempName in list1: \n",
    "    print(tempName)\n",
    "\n",
    "del list1[2]\n",
    "\n",
    "print('------删除之后------')\n",
    "for tempName in list1: \n",
    "    print(tempName)"
   ]
  },
  {
   "cell_type": "markdown",
   "metadata": {},
   "source": [
    "② pop"
   ]
  },
  {
   "cell_type": "code",
   "execution_count": null,
   "metadata": {},
   "outputs": [
    {
     "name": "stdout",
     "output_type": "stream",
     "text": [
      "------删除之后------\n",
      "a\n",
      "b\n",
      "c\n",
      "d\n",
      "e\n"
     ]
    }
   ],
   "source": [
    "\n",
    "list2 = ['a','b','c','d','e','f']\n",
    "\n",
    "list2.pop()\n",
    "\n",
    "print('------删除之后------')\n",
    "for tempName in list2: \n",
    "    print(tempName)"
   ]
  },
  {
   "cell_type": "markdown",
   "metadata": {},
   "source": [
    "③ remove"
   ]
  },
  {
   "cell_type": "code",
   "execution_count": null,
   "metadata": {},
   "outputs": [
    {
     "name": "stdout",
     "output_type": "stream",
     "text": [
      "------删除之后------\n",
      "a\n",
      "b\n",
      "c\n",
      "d\n",
      "f\n"
     ]
    }
   ],
   "source": [
    "\n",
    "list3 = ['a','b','c','d','e','f']\n",
    "\n",
    "list3.remove('e')\n",
    "\n",
    "print('------删除之后------')\n",
    "for tempName in list3: \n",
    "    print(tempName)\n"
   ]
  },
  {
   "cell_type": "markdown",
   "metadata": {},
   "source": [
    "（8）排序 sort\n",
    "\n",
    "sort 方法是将 list 按特定顺序重新排列，默认为由小到大，参数 reverse=True 可改为倒序，由大到小。reverse 方法是将 list 逆置。"
   ]
  },
  {
   "cell_type": "code",
   "execution_count": null,
   "metadata": {},
   "outputs": [
    {
     "name": "stdout",
     "output_type": "stream",
     "text": [
      "[1, 4, 2, 3]\n",
      "[3, 2, 4, 1]\n",
      "[1, 2, 3, 4]\n",
      "[4, 3, 2, 1]\n"
     ]
    }
   ],
   "source": [
    "a = [1, 4, 2, 3]\n",
    "print(a)\n",
    "\n",
    "a.reverse()\n",
    "print(a)\n",
    "\n",
    "a.sort()\n",
    "print(a)\n",
    "a.sort(reverse=True)\n",
    "print(a)"
   ]
  },
  {
   "cell_type": "markdown",
   "metadata": {},
   "source": [
    "#### 3. 列表的遍历\n",
    "\n",
    "（1）使用 for 循环\n",
    "\n",
    "为了更有效率的输出列表的每个数据，可以使用循环来完成："
   ]
  },
  {
   "cell_type": "code",
   "execution_count": null,
   "metadata": {},
   "outputs": [
    {
     "name": "stdout",
     "output_type": "stream",
     "text": [
      "ZhangSan\n",
      "LiSi\n",
      "WangWu\n",
      "ZhaoLiu\n"
     ]
    }
   ],
   "source": [
    "namesList = ['ZhangSan','LiSi','WangWu','ZhaoLiu'] \n",
    "for name in namesList:\n",
    "    print(name)"
   ]
  },
  {
   "cell_type": "markdown",
   "metadata": {},
   "source": [
    "（2）使用while循环\n",
    "\n"
   ]
  },
  {
   "cell_type": "code",
   "execution_count": null,
   "metadata": {},
   "outputs": [
    {
     "name": "stdout",
     "output_type": "stream",
     "text": [
      "ZhangSan\n",
      "LiSi\n",
      "WangWu\n",
      "ZhaoLiu\n"
     ]
    }
   ],
   "source": [
    "\n",
    "namesList = ['ZhangSan','LiSi','WangWu','ZhaoLiu']\n",
    "length = len(namesList)\n",
    "i = 0\n",
    "while i<length: \n",
    "    print(namesList[i]) \n",
    "    i+=1"
   ]
  },
  {
   "cell_type": "markdown",
   "metadata": {},
   "source": [
    "#### 三、元组（tuple）\n",
    "\n",
    "元组（tuple）是另一种有序列表，它和 list 非常类似，但是 tuple 一旦初始化就不能修改.\n",
    "`classmates = ('Michael', 'Bob', 'Tracy')` \n",
    "\n",
    "现在， classmates 这个 tuple 不能变了，它也没有 append() 、 insert() 这样的方法，不过，其他获取元素的方法 tuple 和 list 是一样的，比如还是可以用 classmates[0] 、classmates[-1] 来取值，但不能赋值成另外的元素。\n",
    "\n",
    "tuple 存在的意义在于，由于 tuple 不可变，所以代码更安全。如果可能，能用 tuple 代替 list 就尽量用 tuple 。\n",
    "\n"
   ]
  },
  {
   "cell_type": "code",
   "execution_count": null,
   "metadata": {},
   "outputs": [],
   "source": [
    "t = ()"
   ]
  },
  {
   "cell_type": "markdown",
   "metadata": {},
   "source": [
    "但是，要定义一个只有1个元素的 tuple ，如果你这么定义：\n",
    "`t = (1)`\n",
    "\n",
    "那么你定义的不是tuple，而是1这个数！这是因为括号 () 既可以表示 tuple，又可以表示数学公式中的小括号，这就产生了歧义，因此，Python规定，这种情况下，按小括号进行计算，计算结果自然是1。\n",
    "\n",
    "所以，只有1个元素的tuple定义时必须加一个逗号，来消除歧义：\n",
    "\n",
    "`t = (1, )`\n",
    "\n",
    "Python在显示只有1个元素的 `tuple 时，也会加一个逗号，以免你误解成数学计算意义上的括号。\n",
    "\n",
    "最后来看一个“可变的”tuple："
   ]
  },
  {
   "cell_type": "code",
   "execution_count": null,
   "metadata": {},
   "outputs": [
    {
     "data": {
      "text/plain": [
       "('a', 'b', ['X', 'Y'])"
      ]
     },
     "execution_count": 88,
     "metadata": {},
     "output_type": "execute_result"
    }
   ],
   "source": [
    "t = ('a', 'b', ['A', 'B'])\n",
    "t[2][0] = 'X'\n",
    "t[2][1] = 'Y'\n",
    "# 也就是说，元组中的列表的值是可以改变的。\n",
    "\n",
    "t"
   ]
  },
  {
   "cell_type": "markdown",
   "metadata": {},
   "source": [
    "#### 四、字典（dict）\n",
    "\n",
    "1. 字典简介\n",
    "\n",
    "字典是另一种可变容器模型，且可存储任意类型对象。字典的每个键值（key=>value）对用冒号 : 分割，每个对之间用逗号 , 分割，整个字典包括在花括号 {} 中。\n",
    "\n",
    "例如，要根据姓名查询成绩，可以通过一个姓名-成绩对照表："
   ]
  },
  {
   "cell_type": "code",
   "execution_count": null,
   "metadata": {},
   "outputs": [
    {
     "data": {
      "text/plain": [
       "95"
      ]
     },
     "execution_count": 89,
     "metadata": {},
     "output_type": "execute_result"
    }
   ],
   "source": [
    "d = {'Michael': 95, 'Bob': 75, 'Tracy': 85}\n",
    "d['Michael']"
   ]
  },
  {
   "cell_type": "markdown",
   "metadata": {},
   "source": [
    "2. 字典的增删改查\n",
    "\n",
    "（1）修改元素\n",
    "\n",
    "字典的每个元素中的数据是可以修改的，只要通过 key 找到，即可修改："
   ]
  },
  {
   "cell_type": "code",
   "execution_count": null,
   "metadata": {},
   "outputs": [
    {
     "name": "stdout",
     "output_type": "stream",
     "text": [
      "修改之后的id为: 2020\n"
     ]
    }
   ],
   "source": [
    "\n",
    "info = {'name':'kkb', 'id':100, 'sex':'f', 'address':'中国北京'} \n",
    "new_id = input('请输入新的学号:')\n",
    "info['id'] = int(new_id)\n",
    "\n",
    "print('修改之后的id为: %d' % info['id'])"
   ]
  },
  {
   "cell_type": "markdown",
   "metadata": {},
   "source": [
    "（2）添加元素"
   ]
  },
  {
   "cell_type": "code",
   "execution_count": null,
   "metadata": {},
   "outputs": [
    {
     "ename": "KeyError",
     "evalue": "'id'",
     "output_type": "error",
     "traceback": [
      "\u001b[1;31m---------------------------------------------------------------------------\u001b[0m",
      "\u001b[1;31mKeyError\u001b[0m                                  Traceback (most recent call last)",
      "\u001b[1;32m<ipython-input-92-ea74de7aa0a7>\u001b[0m in \u001b[0;36m<module>\u001b[1;34m\u001b[0m\n\u001b[0;32m      3\u001b[0m \u001b[0minfo\u001b[0m \u001b[1;33m=\u001b[0m \u001b[1;33m{\u001b[0m\u001b[1;34m'name'\u001b[0m\u001b[1;33m:\u001b[0m\u001b[1;34m'kkb'\u001b[0m\u001b[1;33m,\u001b[0m \u001b[1;34m'sex'\u001b[0m\u001b[1;33m:\u001b[0m\u001b[1;34m'f'\u001b[0m\u001b[1;33m,\u001b[0m \u001b[1;34m'address'\u001b[0m\u001b[1;33m:\u001b[0m\u001b[1;34m'中国北京'\u001b[0m\u001b[1;33m}\u001b[0m\u001b[1;33m\u001b[0m\u001b[1;33m\u001b[0m\u001b[0m\n\u001b[0;32m      4\u001b[0m \u001b[1;33m\u001b[0m\u001b[0m\n\u001b[1;32m----> 5\u001b[1;33m \u001b[0mprint\u001b[0m\u001b[1;33m(\u001b[0m\u001b[1;34m'id为:%d'\u001b[0m \u001b[1;33m%\u001b[0m \u001b[0minfo\u001b[0m\u001b[1;33m[\u001b[0m\u001b[1;34m'id'\u001b[0m\u001b[1;33m]\u001b[0m\u001b[1;33m)\u001b[0m\u001b[1;33m\u001b[0m\u001b[1;33m\u001b[0m\u001b[0m\n\u001b[0m",
      "\u001b[1;31mKeyError\u001b[0m: 'id'"
     ]
    }
   ],
   "source": [
    "# 访问不存在的元素\n",
    "\n",
    "info = {'name':'kkb', 'sex':'f', 'address':'中国北京'}\n",
    "\n",
    "print('id为:%d' % info['id'])"
   ]
  },
  {
   "cell_type": "markdown",
   "metadata": {},
   "source": [
    "如果在使用 变量名['键'] = 数据 时，这个“键”在字典中，不存在，那么就会新增这个元素。\n",
    "\n",
    "添加新的元素："
   ]
  },
  {
   "cell_type": "code",
   "execution_count": null,
   "metadata": {},
   "outputs": [
    {
     "name": "stdout",
     "output_type": "stream",
     "text": [
      "添加之后的id为:2021\n"
     ]
    }
   ],
   "source": [
    "\n",
    "info = {'name':'kkb', 'sex':'f', 'address':'中国北京'}\n",
    "\n",
    "# print('id为:%d'%info['id'])\n",
    "#程序会终端运行，因为访问了不存在的键\n",
    "newId = input('请输入新的学号：')\n",
    "info['id'] = int(newId)\n",
    "print('添加之后的id为:%d' % info['id'])"
   ]
  },
  {
   "cell_type": "markdown",
   "metadata": {},
   "source": [
    "（3）删除元素\n",
    "\n",
    "对字典进行删除操作，有以下几种：\n",
    "\n",
    "•del\n",
    "•clear()\n",
    "\n",
    "① del 删除指定的元素"
   ]
  },
  {
   "cell_type": "code",
   "execution_count": null,
   "metadata": {},
   "outputs": [
    {
     "name": "stdout",
     "output_type": "stream",
     "text": [
      "删除前,kkb\n"
     ]
    }
   ],
   "source": [
    "info = {'name':'kkb', 'sex':'f', 'address':'中国北京'} \n",
    "print('删除前,%s' % info['name'])\n",
    "del info['name']\n",
    "# print('删除后,%s' % info['name'])"
   ]
  },
  {
   "cell_type": "markdown",
   "metadata": {},
   "source": [
    "② del 删除整个字典"
   ]
  },
  {
   "cell_type": "code",
   "execution_count": null,
   "metadata": {},
   "outputs": [
    {
     "name": "stdout",
     "output_type": "stream",
     "text": [
      "删除前,{'name': 'monitor', 'sex': 'f', 'address': 'China'}\n"
     ]
    }
   ],
   "source": [
    "info = {'name':'monitor', 'sex':'f', 'address':'China'}\n",
    "print('删除前,%s' % info) \n",
    "del info\n",
    "# print('删除后,%s' % info)"
   ]
  },
  {
   "cell_type": "markdown",
   "metadata": {},
   "source": [
    "③ clear 清空整个字典"
   ]
  },
  {
   "cell_type": "code",
   "execution_count": null,
   "metadata": {},
   "outputs": [
    {
     "name": "stdout",
     "output_type": "stream",
     "text": [
      "清空前,{'name': 'monitor', 'sex': 'f', 'address': 'China'}\n",
      "清空后,{}\n"
     ]
    }
   ],
   "source": [
    "info = {'name':'monitor', 'sex':'f', 'address':'China'}\n",
    "print('清空前,%s' % info) \n",
    "info.clear()\n",
    "print('清空后,%s' % info)"
   ]
  },
  {
   "cell_type": "markdown",
   "metadata": {},
   "source": [
    "（4）其他操作\n",
    "\n",
    "① len() 测量字典中，键值对的个数："
   ]
  },
  {
   "cell_type": "code",
   "execution_count": null,
   "metadata": {},
   "outputs": [
    {
     "name": "stdout",
     "output_type": "stream",
     "text": [
      "3\n"
     ]
    }
   ],
   "source": [
    "\n",
    "d1 = {'name':'abc','age':'18', 'class':'cnh'} \n",
    "print(len(d1))"
   ]
  },
  {
   "cell_type": "markdown",
   "metadata": {},
   "source": [
    "② keys 返回一个包含字典所有key的列表："
   ]
  },
  {
   "cell_type": "code",
   "execution_count": null,
   "metadata": {},
   "outputs": [
    {
     "name": "stdout",
     "output_type": "stream",
     "text": [
      "['name', 'age', 'class']\n"
     ]
    }
   ],
   "source": [
    "d1 = {'name':'abc','age':'18', 'class':'cnh'} \n",
    "print(list(d1.keys()))"
   ]
  },
  {
   "cell_type": "markdown",
   "metadata": {},
   "source": [
    "③ values 返回一个包含字典所有value的列表："
   ]
  },
  {
   "cell_type": "code",
   "execution_count": null,
   "metadata": {},
   "outputs": [
    {
     "name": "stdout",
     "output_type": "stream",
     "text": [
      "['abc', '18', 'cnh']\n"
     ]
    }
   ],
   "source": [
    "d1 = {'name':'abc','age':'18', 'class':'cnh'} \n",
    "print(list(d1.values()))"
   ]
  },
  {
   "cell_type": "markdown",
   "metadata": {},
   "source": [
    "④ items 返回一个包含所有（键，值）元祖的列表："
   ]
  },
  {
   "cell_type": "code",
   "execution_count": null,
   "metadata": {},
   "outputs": [
    {
     "name": "stdout",
     "output_type": "stream",
     "text": [
      "[('name', 'abc'), ('age', '18'), ('class', 'cnh')]\n"
     ]
    }
   ],
   "source": [
    "d1 = {'name':'abc','age':'18', 'class':'cnh'} \n",
    "print(list(d1.items()))"
   ]
  },
  {
   "cell_type": "markdown",
   "metadata": {},
   "source": [
    "### 5、集合（set）\n",
    "\n",
    "集合（set）是一个无序的不重复元素序列。可以使用大括号 { } 或者 set() 函数创建集合。\n",
    "\n",
    ">注意：\n",
    "（1）创建一个空集合必须用 set() 而不是 { }，因为 { } 是用来创建一个空字典。 （2）集合不支持下标赋值和取值，因为集合元素没有顺序，因此没有序列的概念。"
   ]
  },
  {
   "cell_type": "code",
   "execution_count": null,
   "metadata": {},
   "outputs": [
    {
     "name": "stdout",
     "output_type": "stream",
     "text": [
      "1\n",
      "5\n",
      "7\n",
      "0 1\n",
      "1 5\n",
      "2 7\n",
      "{1} <class 'set'>\n",
      "{1, 3, 5}\n",
      "{3, 5} <class 'set'>\n"
     ]
    }
   ],
   "source": [
    "my_set = {1, 4, 'abc', 'hello'} \n",
    "\n",
    "#通过遍历获取数据\n",
    "my_set = {1, 5, 7} \n",
    "for value in my_set:\n",
    "    print(value)\n",
    "\n",
    "for index,value in enumerate(my_set): \n",
    "    print(index,value)\n",
    "\n",
    "# 定义空的集合的时候不能直接使用{}\n",
    "my_set = set() \n",
    "my_set.add(1) \n",
    "my_set.add(1) \n",
    "print(my_set, type(my_set))\n",
    "# 这里 my_set 仍然只有一个元素1，因为集合元素不能重复。\n",
    "\n",
    "# 集合可以对容器类型数据去重\n",
    "my_list = [1, 1, 3, 5, 3] \n",
    "# 把列表转成集合，会把数据去重\n",
    "my_set = set(my_list)\n",
    "print(my_set)\n",
    "# 输出结果为 {1, 3, 5}\n",
    "\n",
    "# 列表，元组， 集合 三者之间可以相互转换\n",
    "my_tuple = (5, 3)\n",
    "my_tuple = set(my_tuple)\n",
    "print(my_tuple, type(my_tuple))\n",
    "# 输出结果为 {3, 5} <class 'set'>"
   ]
  },
  {
   "cell_type": "markdown",
   "metadata": {},
   "source": [
    "## 数据分析课程 - 03 - Python基础知识（三）：函数\n",
    "\n",
    "大家好呀，今天是 Python 基础知识的第三课——函数。回顾我学习 Python 的历程，循环是我的第一个坎儿，函数是第二个，而且是更难、当然也更重要的一个。到目前为止，我感觉只有理解和掌握了函数，才算是真正入了 Python 的门。所以自学 Python 的小伙伴，尤其是零基础的同学，一定要好好学习和理解函数。"
   ]
  },
  {
   "cell_type": "markdown",
   "metadata": {},
   "source": [
    "一、函数简介\n",
    "\n",
    "在程序中，如果实现了某个功能的代码需要多次使用，就把这段代码块组织为一个小模块，这就是函数。函数可以提高编程效率，实现代码复用。之前我们接触到的 print()、input()，也是函数，它们是 python 的内建函数。我们也可以自己创建函数，也就是用户自定义函数。\n",
    "\n",
    "例如，圆的面积的计算公式为 s = π × r^2，我们可以创建一个计算圆的面积的函数：s = area_of_circle(r) ，就不用每次计算圆的面积都得写一遍这个公式，而只需要直接调用这个函数就行。\n"
   ]
  },
  {
   "cell_type": "markdown",
   "metadata": {},
   "source": [
    "二、函数定义和调用\n",
    "\n",
    "函数必须先定义，后调用。\n",
    "\n",
    "1. 定义函数\n",
    "\n",
    "定义函数的格式："
   ]
  },
  {
   "cell_type": "code",
   "execution_count": null,
   "metadata": {},
   "outputs": [],
   "source": [
    "\"\"\"\n",
    "def 函数名():\n",
    "    代码（代码前有缩进,tab）\n",
    "\"\"\"\n",
    "\n",
    "# 定义函数，完成打印信息的功能\n",
    "def printInfo(): \n",
    "    print('************************************') \n",
    "    print('    Python 数 据 分 析 ')\n",
    "    print('************************************')"
   ]
  },
  {
   "cell_type": "markdown",
   "metadata": {},
   "source": [
    "2. 调用函数\n",
    "\n",
    "定义函数之后，就相当于完成了某个功能的代码，想要让代码能够执行，需要调用函数，通过 函数名() 即可完成调用。\n",
    "\n",
    "注意：\n",
    "\n",
    "•调用函数时，函数会从头开始执行，当函数中的代码执行完毕后，则函数调用结束。\n",
    "\n",
    "•函数中如果存在 return 语句，执行到 return 语句时，函数调用结束。\n",
    "\n",
    "函数的文档说明：\n",
    "\n",
    "•help(函数名) 能够看到test函数的相关说明例如: help(printInfo)\n",
    "\n",
    "•test.__doc__ 直接查看文档说明"
   ]
  },
  {
   "cell_type": "code",
   "execution_count": null,
   "metadata": {},
   "outputs": [
    {
     "name": "stdout",
     "output_type": "stream",
     "text": [
      "************************************\n",
      "    Python 数 据 分 析 \n",
      "************************************\n"
     ]
    }
   ],
   "source": [
    "\n",
    "# 定义函数后，函数是不能够自动执行的，需要调用函数，函数才能执行。\n",
    "printInfo()"
   ]
  },
  {
   "cell_type": "markdown",
   "metadata": {},
   "source": [
    "三、函数的参数\n",
    "\n",
    "函数参数的存在使得函数变得非常灵活，不但使得函数能够处理复杂多变的参数，还能简化函数的调用。Python中的函数参数有如下几种：**位置参数、默认参数、可变参数、关键字参数。**"
   ]
  },
  {
   "cell_type": "markdown",
   "metadata": {},
   "source": [
    "1. 位置参数\n",
    "\n",
    "计算 x^2 的函数："
   ]
  },
  {
   "cell_type": "code",
   "execution_count": null,
   "metadata": {},
   "outputs": [
    {
     "data": {
      "text/plain": [
       "25"
      ]
     },
     "execution_count": 112,
     "metadata": {},
     "output_type": "execute_result"
    }
   ],
   "source": [
    "def power(x):\n",
    "    return x * x\n",
    "\n",
    "power(5)"
   ]
  },
  {
   "cell_type": "markdown",
   "metadata": {},
   "source": [
    "对于 power(x) 函数，参数 x 就是一个位置参数，也叫做必选参数。当我们调用 power 函数时，必须传入有且仅有的一个参数 x："
   ]
  },
  {
   "cell_type": "markdown",
   "metadata": {},
   "source": [
    "现在，如果我们要计算 x^3，或 x^4，就可以把 power(x) 修改为 power(x, n) ，用来计算 x^n："
   ]
  },
  {
   "cell_type": "code",
   "execution_count": null,
   "metadata": {},
   "outputs": [
    {
     "data": {
      "text/plain": [
       "125"
      ]
     },
     "execution_count": 114,
     "metadata": {},
     "output_type": "execute_result"
    }
   ],
   "source": [
    "def power(x, n): \n",
    "    s = 1\n",
    "    while n > 0:\n",
    "        n = n - 1 \n",
    "        s = s * x\n",
    "    return s\n",
    "\n",
    "power(5,3)"
   ]
  },
  {
   "cell_type": "markdown",
   "metadata": {},
   "source": [
    "注意：这里的 n 是用来控制 while 循环次数的，几次方就循环几次。\n",
    "\n",
    "对于这个修改后的 power(x, n) 函数，可以计算任意 n 次方：\n",
    "\n",
    "修改后的 power(x, n) 函数有两个参数：x 和 n，这两个参数都是位置参数，调用函数时，传入的两个值按照位置顺序依次赋给参数x 和 n "
   ]
  },
  {
   "cell_type": "markdown",
   "metadata": {},
   "source": [
    "2. 默认参数\n",
    "\n",
    "由于我们使用平方的次数远远大于其他次方，因此我们可以给 n 设置一个默认值，这样我们在传参的时候就只用传一个 x 的值即可："
   ]
  },
  {
   "cell_type": "code",
   "execution_count": null,
   "metadata": {},
   "outputs": [
    {
     "data": {
      "text/plain": [
       "25"
      ]
     },
     "execution_count": 115,
     "metadata": {},
     "output_type": "execute_result"
    }
   ],
   "source": [
    "def power(x, n=2):\n",
    "    s = 1\n",
    "    while n > 0:\n",
    "        n = n - 1 \n",
    "        s = s * x\n",
    "    return s\n",
    "\n",
    "power(5)"
   ]
  },
  {
   "cell_type": "markdown",
   "metadata": {},
   "source": [
    "由此可见，**默认参数可以简化函数的调用**。尤其是在实际应用中，比如要录入一个班级的学生信息，由于大多数学生都来自同一个地方，因此类似于 city 这样的参数就可以设置为默认参数，只在有特殊情况的时候传入，而把 name、gender 等变化较大的参数设置为必选参数，这样在调用函数的时候大多数情况下就只用传入必选参数即可，大大降低了函数调用的难度。\n",
    "\n",
    "不过，设置默认参数时，有几点要注意：\n",
    "\n",
    "•一是**必选参数在前，默认参数在后**，否则 Python 的解释器会报错；\n",
    "\n",
    "•二是**当函数有多个参数时，把经常变化的参数放前面，不经常变化的参数放后面**。不经常变化的参数就可以作为默认参数。\n",
    "\n",
    "•三是当有多个默认参数时，调用时既可以按顺序提供默认参数，也可以不按顺序加上参数名来提供，比如一个 enroll(name, gender, age=18, city=\"Beijing\") 的函数，在调用时可以输入enroll('Bob', 'M', 17, \"Tianjin\")按顺序传入 age 和 city 两个默认参数的值，也可以输入enroll('Adam', 'M', city='Tianjin', age=17) 不按顺序按关键词传入。"
   ]
  },
  {
   "cell_type": "markdown",
   "metadata": {},
   "source": [
    "扩展\n",
    "\n",
    "默认参数有个最大的坑，演示如下：\n",
    "\n",
    "先定义一个函数，传入一个 list，添加一个 END 再返回："
   ]
  },
  {
   "cell_type": "code",
   "execution_count": null,
   "metadata": {},
   "outputs": [
    {
     "data": {
      "text/plain": [
       "['x', 'y', 'z', 'END']"
      ]
     },
     "execution_count": 117,
     "metadata": {},
     "output_type": "execute_result"
    }
   ],
   "source": [
    "def add_end(L=[]):\n",
    "    L.append('END')\n",
    "    return L\n",
    "add_end([1, 2, 3])\n",
    "add_end(['x', 'y', 'z'])"
   ]
  },
  {
   "cell_type": "code",
   "execution_count": null,
   "metadata": {},
   "outputs": [
    {
     "data": {
      "text/plain": [
       "['END', 'END', 'END', 'END']"
      ]
     },
     "execution_count": 121,
     "metadata": {},
     "output_type": "execute_result"
    }
   ],
   "source": [
    "# 当你使用默认参数调用时，一开始结果也是对的\n",
    "add_end() \n",
    "add_end() "
   ]
  },
  {
   "cell_type": "markdown",
   "metadata": {},
   "source": [
    "这就奇了怪了，默认参数是 [] ，但函数好像每次都“记住了”上次添加了 END 后的 list。\n",
    "\n",
    "原因是这样的：\n",
    "\n",
    "Python函数在定义的时候，默认参数 L 的值就被计算出来了，即 []，因为默认参数 L 也是一个变量，它指向对象 [] ，每次调用该函数，如果改变了 L 的内容，则下次调用时，默认参数的内容就变了，不再是函数定义时的 [] 了。\n",
    "\n",
    "因此，定义默认参数要牢记一点：**默认参数必须指向不变对象！**\n",
    "\n",
    "要修改上面的例子，我们可以用 None 这个不变对象来实现："
   ]
  },
  {
   "cell_type": "code",
   "execution_count": null,
   "metadata": {},
   "outputs": [
    {
     "data": {
      "text/plain": [
       "['END']"
      ]
     },
     "execution_count": 123,
     "metadata": {},
     "output_type": "execute_result"
    }
   ],
   "source": [
    "def add_end(L=None): \n",
    "    if L is None:\n",
    "        L = []\n",
    "    L.append('END') \n",
    "    return L\n",
    "add_end()\n",
    "add_end()"
   ]
  },
  {
   "cell_type": "markdown",
   "metadata": {},
   "source": [
    "为什么要设计 str 、None 这样的不变对象呢？因为不变对象一旦创建，对象内部的数据就不能修改，这样就减少了由于修改数据导致的错误。此外，由于对象不变，多任务环境下同时读取对象不需要加锁，同时读一点问题都没有。**我们在编写程序时，如果可以设计一个不变对象，那就尽量设计成不变对象。**"
   ]
  },
  {
   "cell_type": "markdown",
   "metadata": {},
   "source": [
    "3. 可变参数（不定长参数）\n",
    "\n",
    "在Python函数中，还可以定义可变参数。顾名思义，可变参数就是传入的参数个数是可变的，可以是1个、2个到任意个，还可以是0个，因此可变参数还被叫做不定长参数。\n",
    "\n",
    "以一个数学题为例，给定一组数字 a，b，c…… ，计算 a^2 + b^2 + c^2 +....。\n",
    "\n",
    "要定义出这个函数，我们必须确定输入的参数。由于参数个数不确定，我们首先想到可以把 a，b，c…… 作为一个 list 或 tuple 传进来，这样，函数可以定义如下："
   ]
  },
  {
   "cell_type": "code",
   "execution_count": null,
   "metadata": {},
   "outputs": [
    {
     "name": "stdout",
     "output_type": "stream",
     "text": [
      "14\n",
      "84\n"
     ]
    }
   ],
   "source": [
    "def calc(numbers):\n",
    "    sum = 0\n",
    "    for n in numbers:\n",
    "        sum = sum + n*n\n",
    "    return sum\n",
    "print(calc([1, 2, 3]))\n",
    "print(calc([1, 3, 5, 7]))\n"
   ]
  },
  {
   "cell_type": "markdown",
   "metadata": {},
   "source": [
    "所以，我们把函数的参数改为可变参数："
   ]
  },
  {
   "cell_type": "code",
   "execution_count": null,
   "metadata": {},
   "outputs": [
    {
     "name": "stdout",
     "output_type": "stream",
     "text": [
      "14\n",
      "84\n"
     ]
    }
   ],
   "source": [
    "def calc(*numbers): \n",
    "    sum = 0\n",
    "    for n in numbers: \n",
    "        sum = sum + n * n\n",
    "    return sum\n",
    "print(calc(1, 2, 3))\n",
    "print(calc(1, 3, 5, 7))"
   ]
  },
  {
   "cell_type": "markdown",
   "metadata": {},
   "source": [
    "定义可变参数和定义一个 list 或 tuple 参数相比，仅仅在参数前面加了一个 * 号。在函数内部，**参数 numbers 接收到的是一个tuple**，因此，函数代码完全不变。但是，调用该函数时，可以传入任意个参数，包括0个参数："
   ]
  },
  {
   "cell_type": "code",
   "execution_count": null,
   "metadata": {},
   "outputs": [
    {
     "data": {
      "text/plain": [
       "5"
      ]
     },
     "execution_count": 131,
     "metadata": {},
     "output_type": "execute_result"
    }
   ],
   "source": [
    "calc(1,2)"
   ]
  },
  {
   "cell_type": "code",
   "execution_count": null,
   "metadata": {},
   "outputs": [
    {
     "data": {
      "text/plain": [
       "0"
      ]
     },
     "execution_count": 133,
     "metadata": {},
     "output_type": "execute_result"
    }
   ],
   "source": [
    "calc()"
   ]
  },
  {
   "cell_type": "markdown",
   "metadata": {},
   "source": [
    "如果已经有一个 list 或者 tuple，要调用一个可变参数怎么办？可以这样做："
   ]
  },
  {
   "cell_type": "code",
   "execution_count": null,
   "metadata": {},
   "outputs": [
    {
     "data": {
      "text/plain": [
       "14"
      ]
     },
     "execution_count": 134,
     "metadata": {},
     "output_type": "execute_result"
    }
   ],
   "source": [
    "nums = [1, 2, 3]\n",
    "calc(nums[0], nums[1], nums[2])"
   ]
  },
  {
   "cell_type": "markdown",
   "metadata": {},
   "source": [
    "**这种写法当然是可行的，问题是太繁琐，所以Python允许你在list或tuple前面加一个 * 号，把 list 或 tuple 的元素变成可变参数传进去：**"
   ]
  },
  {
   "cell_type": "code",
   "execution_count": null,
   "metadata": {},
   "outputs": [
    {
     "data": {
      "text/plain": [
       "14"
      ]
     },
     "execution_count": 136,
     "metadata": {},
     "output_type": "execute_result"
    }
   ],
   "source": [
    "nums = [1, 2, 3]\n",
    "calc(*nums) \n",
    "# *nums 表示把 nums 这个 list 的所有元素作为可变参数传进去。"
   ]
  },
  {
   "cell_type": "markdown",
   "metadata": {},
   "source": [
    "4. 命名关键字参数\n",
    "\n",
    "对于关键字参数，函数的调用者可以传入任意不受限制的关键字参数。至于到底传入了哪些，就需要在函数内部通过 kw 检查。\n",
    "\n",
    "仍以 person() 函数为例，我们希望检查是否有 city 和 job 参数："
   ]
  },
  {
   "cell_type": "code",
   "execution_count": null,
   "metadata": {},
   "outputs": [],
   "source": [
    "def person(name, age, **kw): \n",
    "    if 'city' in kw:\n",
    "        # 有city参数\n",
    "        pass\n",
    "    if 'job' in kw: \n",
    "        # 有job参数\n",
    "        pass\n",
    "    print('name:', name, 'age:', age, 'other:', kw)"
   ]
  },
  {
   "cell_type": "code",
   "execution_count": null,
   "metadata": {},
   "outputs": [
    {
     "name": "stdout",
     "output_type": "stream",
     "text": [
      "name: Jack age: 24 other: {'city': 'Beijing', 'addr': 'Chaoyang', 'zipcode': 123456}\n"
     ]
    }
   ],
   "source": [
    "person('Jack', 24, city='Beijing',addr='Chaoyang', zipcode=123456)"
   ]
  },
  {
   "cell_type": "markdown",
   "metadata": {},
   "source": [
    "如果要限制关键字参数的名字，就可以用命名关键字参数，例如，只接收 city 和 job 作为关键字参数。这种方式定义的函数如下："
   ]
  },
  {
   "cell_type": "code",
   "execution_count": null,
   "metadata": {},
   "outputs": [],
   "source": [
    "def person(name, age, *, city, job): \n",
    "    print(name, age, city, job)"
   ]
  },
  {
   "cell_type": "markdown",
   "metadata": {},
   "source": [
    "**和关键字参数 **kw 不同，命名关键字参数需要一个特殊分隔符 *，* 后面的参数被视为命名关键字参数。**\n",
    "\n",
    "调用方式如下："
   ]
  },
  {
   "cell_type": "code",
   "execution_count": null,
   "metadata": {},
   "outputs": [
    {
     "name": "stdout",
     "output_type": "stream",
     "text": [
      "Jack 24 Beijing Engineer\n"
     ]
    }
   ],
   "source": [
    "person('Jack', 24, city='Beijing', job='Engineer') "
   ]
  },
  {
   "cell_type": "markdown",
   "metadata": {},
   "source": [
    "如果函数定义中已经有了一个可变参数，后面跟着的命名关键字参数就不再需要一个特殊分隔符 * 了："
   ]
  },
  {
   "cell_type": "code",
   "execution_count": null,
   "metadata": {},
   "outputs": [],
   "source": [
    "def person(name, age, *args, city, job): \n",
    "    print(name, age, args, city, job)"
   ]
  },
  {
   "cell_type": "markdown",
   "metadata": {},
   "source": [
    "命名关键字参数必须传入参数名，这和位置参数不同。如果没有传入参数名，调用将报错："
   ]
  },
  {
   "cell_type": "code",
   "execution_count": null,
   "metadata": {},
   "outputs": [
    {
     "ename": "TypeError",
     "evalue": "person() missing 2 required keyword-only arguments: 'city' and 'job'",
     "output_type": "error",
     "traceback": [
      "\u001b[1;31m---------------------------------------------------------------------------\u001b[0m",
      "\u001b[1;31mTypeError\u001b[0m                                 Traceback (most recent call last)",
      "\u001b[1;32m<ipython-input-144-e7e3c3c0aaca>\u001b[0m in \u001b[0;36m<module>\u001b[1;34m\u001b[0m\n\u001b[1;32m----> 1\u001b[1;33m \u001b[0mperson\u001b[0m\u001b[1;33m(\u001b[0m\u001b[1;34m'Jack'\u001b[0m\u001b[1;33m,\u001b[0m \u001b[1;36m24\u001b[0m\u001b[1;33m,\u001b[0m \u001b[1;34m'Beijing'\u001b[0m\u001b[1;33m,\u001b[0m \u001b[1;34m'Engineer'\u001b[0m\u001b[1;33m)\u001b[0m\u001b[1;33m\u001b[0m\u001b[1;33m\u001b[0m\u001b[0m\n\u001b[0m",
      "\u001b[1;31mTypeError\u001b[0m: person() missing 2 required keyword-only arguments: 'city' and 'job'"
     ]
    }
   ],
   "source": [
    "person('Jack', 24, 'Beijing', 'Engineer')"
   ]
  },
  {
   "cell_type": "markdown",
   "metadata": {},
   "source": [
    "由于调用时缺少参数名 city 和 job ，Python 解释器把这 4 个参数均视为位置参数，但 person() 函数仅接受 2 个位置参数。\n",
    "\n",
    "命名关键字参数可以有缺省值，从而简化调用："
   ]
  },
  {
   "cell_type": "code",
   "execution_count": null,
   "metadata": {},
   "outputs": [
    {
     "name": "stdout",
     "output_type": "stream",
     "text": [
      "Jack 24 Beijing Engineer\n"
     ]
    }
   ],
   "source": [
    "def person(name, age, *, city='Beijing', job): \n",
    "    print(name, age, city, job)\n",
    "# 由于命名关键字参数 city 具有默认值，调用时，可不传入 city 参数：\n",
    "person('Jack', 24, job='Engineer') "
   ]
  },
  {
   "cell_type": "markdown",
   "metadata": {},
   "source": [
    "<font size=3 >使用命名关键字参数时，要特别注意，如果没有可变参数，就必须加一个 * 作为特殊分隔符。如果缺少 *，Python解释器将无法识别位置参数和命名关键字参数："
   ]
  },
  {
   "cell_type": "code",
   "execution_count": null,
   "metadata": {},
   "outputs": [],
   "source": [
    "def person(name, age, city, job): \n",
    "# 缺少 *，city和job被视为位置参数\n",
    "    pass"
   ]
  },
  {
   "cell_type": "markdown",
   "metadata": {},
   "source": [
    "<font size=3 >5. 参数组合\r\n",
    "\r\n",
    "在 Python 中定义函数，可以用**必选参数、默认参数、可变参数、关键字参数和命名关键字参数**，这 5 种参数都可以组合使用。但是请注意，参数定义的顺序必须是：**必选参数、默认参数、可变参数、命名关键字参数和关键字参数**。\r\n",
    "\r\n",
    "比如定义一个函数，包含上述若干种参数："
   ]
  },
  {
   "cell_type": "code",
   "execution_count": 21,
   "metadata": {},
   "outputs": [
    {
     "name": "stdout",
     "output_type": "stream",
     "text": [
      "a = 1 b = 2 c = 0 args = () kw = {}\n",
      "None\n",
      "a = 1 b = 2 c = 3 args = () kw = {}\n",
      "None\n",
      "a = 1 b = 2 c = 3 args = ('a', 'b') kw = {}\n",
      "a = 1 b = 2 c = 3 args = ('a', 'b') kw = {'x': 99}\n",
      "a = 1 b = 2 c = 0 d = 99 kw = {'ext': None}\n"
     ]
    }
   ],
   "source": [
    "\n",
    "def f1(a, b, c=0, *args, **kw):\n",
    "    print('a =', a, 'b =', b, 'c =', c, 'args =', args, 'kw =', kw)\n",
    "\n",
    "def f2(a, b, c=0, *, d, **kw):\n",
    "    print('a =', a, 'b =', b, 'c =', c, 'd =', d, 'kw =', kw)\n",
    "\n",
    "print(f1(1, 2))\n",
    "print(f1(1, 2, c=3))\n",
    "f1(1, 2, 3, 'a', 'b')\n",
    "f1(1, 2, 3, 'a', 'b', x=99)\n",
    "f2(1, 2, d=99, ext=None)\n",
    "# 必选参数、默认参数、可变参数、命名关键字参数和关键字参数。"
   ]
  },
  {
   "cell_type": "markdown",
   "metadata": {},
   "source": [
    "l1liIL1"
   ]
  },
  {
   "cell_type": "code",
   "execution_count": 23,
   "metadata": {},
   "outputs": [
    {
     "data": {
      "text/plain": [
       "[<matplotlib.lines.Line2D at 0x16c4e9f9ee0>]"
      ]
     },
     "execution_count": 23,
     "metadata": {},
     "output_type": "execute_result"
    },
    {
     "data": {
      "image/png": "[encoded data removed]",
      "text/plain": [
       "<Figure size 432x288 with 1 Axes>"
      ]
     },
     "metadata": {
      "needs_background": "light"
     },
     "output_type": "display_data"
    }
   ],
   "source": [
    "import matplotlib.pyplot as plt\r\n",
    "import numpy as np\r\n",
    "\r\n",
    "x = np.arange(1,100)\r\n",
    "plt.plot(x, np.sin(x))"
   ]
  },
  {
   "cell_type": "markdown",
   "metadata": {},
   "source": [
    "<font size=3 > 1. 提出问题"
   ]
  },
  {
   "cell_type": "code",
   "execution_count": null,
   "metadata": {},
   "outputs": [],
   "source": []
  }
 ],
 "metadata": {
  "interpreter": {
   "hash": "9c91df8a30f2ca0588df6ae5802e19be614d84a80266001c42d6a0fb9a071694"
  },
  "kernelspec": {
   "display_name": "Python 3.8.3 64-bit ('base': conda)",
   "name": "python3"
  },
  "language_info": {
   "name": "python",
   "version": ""
  },
  "orig_nbformat": 4
 },
 "nbformat": 4,
 "nbformat_minor": 2
}