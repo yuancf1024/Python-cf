{
 "cells": [
  {
   "cell_type": "markdown",
   "metadata": {},
   "source": [
    "\n",
    "**Date:** 2021-05-19 11：56\n",
    "**Address:** 重庆大学B区建筑图书馆社科阅览室\n",
    "**Author:** chenfengyuan\n",
    "**E-mail:** chenfengyuan@cqu.edu.cn\n",
    "**Goal:** **一系列Jupyter笔记本，具有“迈向纳维斯托克斯的12个步骤”,Python速成课程。**"
   ]
  },
  {
   "cell_type": "markdown",
   "metadata": {},
   "source": [
    "你好！ 这是使用Python进行编程的快速入门，可帮助您通过Navier-Stokes的12个步骤开始学习。\n",
    "\n",
    "使用Python可以通过两种方式来享受这些课程：\n",
    "\n",
    "您可以在计算机上下载并安装Python发行版。 一种选择是免费的Anaconda Scientific Python发行版。 另一个是Canopy，可免费用于学术用途。 我们的推荐是Anaconda。\n",
    "\n",
    "您可以使用Wakari基于Web的数据分析在云中运行Python，为此需要创建一个免费帐户。 （无需安装软件！）\n",
    "\n",
    "无论哪种情况，您都可能希望下载此笔记本的副本或整个AeroPython集合。 我们建议您接着学习每节课，在笔记本中尝试代码，或在单独的Python交互式会话中键入代码。\n",
    "\n",
    "如果决定进行本地Python安装，则必须在终端中导航到包含.ipynb文件的文件夹。 然后，要启动笔记本服务器，只需键入：ipython notebook\n",
    "\n",
    "您将获得一个新的浏览器窗口或选项卡，其中包含该文件夹中可用笔记本的列表。 单击一个就可以开始工作！"
   ]
  },
  {
   "cell_type": "markdown",
   "metadata": {},
   "source": [
    "## 包的使用\n",
    "\n",
    "Python是一种高级开源语言。 但是Python世界被许多提供有用的东西（例如数组操作，绘图函数等等）的包或库所占据。 我们可以导入函数库以扩展程序中Python的功能。\n",
    "\n",
    "好的！ 我们将从导入一些库开始以帮助我们。 首先：我们最喜欢的库是NumPy，它提供了一堆有用的数组操作（类似于MATLAB）。 我们会经常使用它！ 我们需要的第二个库是Matplotlib，这是一个2D绘图库，我们将使用它来绘制结果。 以下代码将位于大多数程序的顶部，因此请首先执行此单元格："
   ]
  },
  {
   "cell_type": "code",
   "execution_count": 1,
   "metadata": {
    "ExecuteTime": {
     "end_time": "2021-05-19T04:00:28.530143Z",
     "start_time": "2021-05-19T04:00:28.051770Z"
    }
   },
   "outputs": [],
   "source": [
    "import numpy \n",
    "from matplotlib import pyplot"
   ]
  },
  {
   "cell_type": "markdown",
   "metadata": {},
   "source": [
    "我们正在导入一个名为`numpy`的库，并且正在导入一个名为`matplotlib`的大型库的名为`pyplot`的模块。 要使用属于这些库之一的函数，我们必须告诉Python在哪里寻找它。 为此，每个函数名都写在库名之后，中间有一个点。 因此，如果我们想使用`NumPy`函数`linspace（）`来创建一个数组，该数组在开始和结束之间具有相等的数字间隔，则可以这样写："
   ]
  },
  {
   "cell_type": "code",
   "execution_count": 2,
   "metadata": {
    "ExecuteTime": {
     "end_time": "2021-05-19T04:01:45.873266Z",
     "start_time": "2021-05-19T04:01:45.847243Z"
    }
   },
   "outputs": [
    {
     "data": {
      "text/plain": [
       "array([0.        , 0.55555556, 1.11111111, 1.66666667, 2.22222222,\n",
       "       2.77777778, 3.33333333, 3.88888889, 4.44444444, 5.        ])"
      ]
     },
     "execution_count": 2,
     "metadata": {},
     "output_type": "execute_result"
    }
   ],
   "source": [
    "myarray = numpy.linspace(0,5,10)\n",
    "myarray"
   ]
  },
  {
   "cell_type": "markdown",
   "metadata": {},
   "source": [
    "如果我们不以numpy开头linspace（）函数，Python将抛出错误。"
   ]
  },
  {
   "cell_type": "code",
   "execution_count": 3,
   "metadata": {
    "ExecuteTime": {
     "end_time": "2021-05-19T04:02:24.743313Z",
     "start_time": "2021-05-19T04:02:24.475029Z"
    }
   },
   "outputs": [
    {
     "ename": "NameError",
     "evalue": "name 'linspace' is not defined",
     "output_type": "error",
     "traceback": [
      "\u001b[1;31m---------------------------------------------------------------------------\u001b[0m",
      "\u001b[1;31mNameError\u001b[0m                                 Traceback (most recent call last)",
      "\u001b[1;32m<ipython-input-3-17bc4966c7dc>\u001b[0m in \u001b[0;36m<module>\u001b[1;34m\u001b[0m\n\u001b[1;32m----> 1\u001b[1;33m \u001b[0mmyarray\u001b[0m \u001b[1;33m=\u001b[0m \u001b[0mlinspace\u001b[0m\u001b[1;33m(\u001b[0m\u001b[1;36m0\u001b[0m\u001b[1;33m,\u001b[0m\u001b[1;36m5\u001b[0m\u001b[1;33m,\u001b[0m\u001b[1;36m10\u001b[0m\u001b[1;33m)\u001b[0m\u001b[1;33m\u001b[0m\u001b[1;33m\u001b[0m\u001b[0m\n\u001b[0m",
      "\u001b[1;31mNameError\u001b[0m: name 'linspace' is not defined"
     ]
    }
   ],
   "source": [
    "myarray = linspace(0,5,10)"
   ]
  },
  {
   "cell_type": "markdown",
   "metadata": {},
   "source": [
    "函数`linspace（）`非常有用。 尝试更改输入参数！\n",
    "\n"
   ]
  }
 ],
 "metadata": {
  "kernelspec": {
   "display_name": "Python 3",
   "language": "python",
   "name": "python3"
  },
  "language_info": {
   "codemirror_mode": {
    "name": "ipython",
    "version": 3
   },
   "file_extension": ".py",
   "mimetype": "text/x-python",
   "name": "python",
   "nbconvert_exporter": "python",
   "pygments_lexer": "ipython3",
   "version": "3.8.3"
  },
  "toc": {
   "base_numbering": 1,
   "nav_menu": {},
   "number_sections": true,
   "sideBar": true,
   "skip_h1_title": false,
   "title_cell": "Table of Contents",
   "title_sidebar": "Contents",
   "toc_cell": false,
   "toc_position": {},
   "toc_section_display": true,
   "toc_window_display": false
  },
  "varInspector": {
   "cols": {
    "lenName": 16,
    "lenType": 16,
    "lenVar": 40
   },
   "kernels_config": {
    "python": {
     "delete_cmd_postfix": "",
     "delete_cmd_prefix": "del ",
     "library": "var_list.py",
     "varRefreshCmd": "print(var_dic_list())"
    },
    "r": {
     "delete_cmd_postfix": ") ",
     "delete_cmd_prefix": "rm(",
     "library": "var_list.r",
     "varRefreshCmd": "cat(var_dic_list()) "
    }
   },
   "types_to_exclude": [
    "module",
    "function",
    "builtin_function_or_method",
    "instance",
    "_Feature"
   ],
   "window_display": false
  }
 },
 "nbformat": 4,
 "nbformat_minor": 4
}
