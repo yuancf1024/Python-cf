{
 "cells": [
  {
   "cell_type": "markdown",
   "metadata": {},
   "source": [
    "**菜鸟教程Python笔记**\r\n",
    "\r\n",
    "**Date:** 2021-06-23 20：29\r\n",
    "\r\n",
    "**Author:** chenfengyuan\r\n",
    "\r\n",
    "**E-mail:** chenfengyuan.hb@gmail.com\r\n",
    "\r\n",
    "**Goal:** 复习Python的基本语法。\r\n",
    "\r\n",
    "[toc]\r\n",
    "\r\n",
    "Learning records:\r\n",
    "\r\n",
    "- [] 2021-07-06 "
   ]
  },
  {
   "cell_type": "code",
   "execution_count": null,
   "metadata": {},
   "outputs": [],
   "source": []
  }
 ],
 "metadata": {
  "interpreter": {
   "hash": "9c91df8a30f2ca0588df6ae5802e19be614d84a80266001c42d6a0fb9a071694"
  },
  "kernelspec": {
   "display_name": "Python 3.8.3 64-bit ('base': conda)",
   "name": "python3"
  },
  "language_info": {
   "name": "python",
   "version": ""
  },
  "orig_nbformat": 4
 },
 "nbformat": 4,
 "nbformat_minor": 2
}